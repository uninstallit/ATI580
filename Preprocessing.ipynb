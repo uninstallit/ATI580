{
 "cells": [
  {
   "cell_type": "markdown",
   "metadata": {},
   "source": [
    "## Data Cleaning and EDA\n",
    "### 1. Basic data checking\n"
   ]
  },
  {
   "cell_type": "code",
   "execution_count": 1,
   "metadata": {},
   "outputs": [
    {
     "data": {
      "text/plain": [
       "'/Library/Frameworks/Python.framework/Versions/3.7/bin/python3'"
      ]
     },
     "execution_count": 1,
     "metadata": {},
     "output_type": "execute_result"
    }
   ],
   "source": [
    "import sys\n",
    "sys.executable"
   ]
  },
  {
   "cell_type": "code",
   "execution_count": 2,
   "metadata": {},
   "outputs": [],
   "source": [
    "from pymongo import MongoClient\n",
    "import pandas as pd\n",
    "import matplotlib.pyplot as plt\n",
    "import numpy as np\n"
   ]
  },
  {
   "cell_type": "markdown",
   "metadata": {},
   "source": [
    "from pymongo import MongoClient\n",
    "import pandas as pd\n",
    "\n",
    "client = MongoClient()\n",
    "db = client.POLICE_DATABASE\n",
    "db_collection = db.POLICE_INTERVIEWS\n",
    "\n",
    "data = db_collection.find()\n",
    "df = pd.DataFrame.from_records(data)\n",
    "data.info(verbose=True)"
   ]
  },
  {
   "cell_type": "code",
   "execution_count": 3,
   "metadata": {},
   "outputs": [],
   "source": [
    "df = pd.read_csv('Stop_and_Search__Field_Interviews_.csv', sep=',', low_memory=False)"
   ]
  },
  {
   "cell_type": "code",
   "execution_count": 4,
   "metadata": {},
   "outputs": [
    {
     "name": "stdout",
     "output_type": "stream",
     "text": [
      "(593893, 29)\n"
     ]
    },
    {
     "data": {
      "text/html": [
       "<div>\n",
       "<style scoped>\n",
       "    .dataframe tbody tr th:only-of-type {\n",
       "        vertical-align: middle;\n",
       "    }\n",
       "\n",
       "    .dataframe tbody tr th {\n",
       "        vertical-align: top;\n",
       "    }\n",
       "\n",
       "    .dataframe thead th {\n",
       "        text-align: right;\n",
       "    }\n",
       "</style>\n",
       "<table border=\"1\" class=\"dataframe\">\n",
       "  <thead>\n",
       "    <tr style=\"text-align: right;\">\n",
       "      <th></th>\n",
       "      <th>FieldInterviewID</th>\n",
       "      <th>NOPD_Item</th>\n",
       "      <th>EventDate</th>\n",
       "      <th>District</th>\n",
       "      <th>Zone</th>\n",
       "      <th>OfficerAssignment</th>\n",
       "      <th>StopDescription</th>\n",
       "      <th>ActionsTaken</th>\n",
       "      <th>VehicleYear</th>\n",
       "      <th>VehicleMake</th>\n",
       "      <th>...</th>\n",
       "      <th>SubjectWeight</th>\n",
       "      <th>SubjectEyeColor</th>\n",
       "      <th>SubjectHairColor</th>\n",
       "      <th>SubjectDriverLicState</th>\n",
       "      <th>CreatedDateTime</th>\n",
       "      <th>LastModifiedDateTime</th>\n",
       "      <th>Longitude</th>\n",
       "      <th>Latitude</th>\n",
       "      <th>Zip</th>\n",
       "      <th>BlockAddress</th>\n",
       "    </tr>\n",
       "  </thead>\n",
       "  <tbody>\n",
       "    <tr>\n",
       "      <th>0</th>\n",
       "      <td>17415</td>\n",
       "      <td>NaN</td>\n",
       "      <td>01/01/2010 01:11:00 AM</td>\n",
       "      <td>6</td>\n",
       "      <td>E</td>\n",
       "      <td>6th  District</td>\n",
       "      <td>TRAFFIC VIOLATION</td>\n",
       "      <td>NaN</td>\n",
       "      <td>2005.0</td>\n",
       "      <td>DODGE</td>\n",
       "      <td>...</td>\n",
       "      <td>160.0</td>\n",
       "      <td>Brown</td>\n",
       "      <td>Black</td>\n",
       "      <td>LA</td>\n",
       "      <td>01/01/2010 01:26:26 AM</td>\n",
       "      <td>NaN</td>\n",
       "      <td>0.0</td>\n",
       "      <td>0.0</td>\n",
       "      <td>NaN</td>\n",
       "      <td>NaN</td>\n",
       "    </tr>\n",
       "    <tr>\n",
       "      <th>1</th>\n",
       "      <td>17416</td>\n",
       "      <td>NaN</td>\n",
       "      <td>01/01/2010 02:06:00 AM</td>\n",
       "      <td>5</td>\n",
       "      <td>D</td>\n",
       "      <td>5th  District</td>\n",
       "      <td>CALL FOR SERVICE</td>\n",
       "      <td>NaN</td>\n",
       "      <td>NaN</td>\n",
       "      <td>NaN</td>\n",
       "      <td>...</td>\n",
       "      <td>140.0</td>\n",
       "      <td>Brown</td>\n",
       "      <td>Black</td>\n",
       "      <td>NaN</td>\n",
       "      <td>01/01/2010 02:27:38 AM</td>\n",
       "      <td>NaN</td>\n",
       "      <td>0.0</td>\n",
       "      <td>0.0</td>\n",
       "      <td>NaN</td>\n",
       "      <td>NaN</td>\n",
       "    </tr>\n",
       "    <tr>\n",
       "      <th>2</th>\n",
       "      <td>17416</td>\n",
       "      <td>NaN</td>\n",
       "      <td>01/01/2010 02:06:00 AM</td>\n",
       "      <td>5</td>\n",
       "      <td>D</td>\n",
       "      <td>5th  District</td>\n",
       "      <td>CALL FOR SERVICE</td>\n",
       "      <td>NaN</td>\n",
       "      <td>NaN</td>\n",
       "      <td>NaN</td>\n",
       "      <td>...</td>\n",
       "      <td>145.0</td>\n",
       "      <td>Brown</td>\n",
       "      <td>Black</td>\n",
       "      <td>NaN</td>\n",
       "      <td>01/01/2010 02:27:38 AM</td>\n",
       "      <td>NaN</td>\n",
       "      <td>0.0</td>\n",
       "      <td>0.0</td>\n",
       "      <td>NaN</td>\n",
       "      <td>NaN</td>\n",
       "    </tr>\n",
       "  </tbody>\n",
       "</table>\n",
       "<p>3 rows × 29 columns</p>\n",
       "</div>"
      ],
      "text/plain": [
       "   FieldInterviewID NOPD_Item               EventDate  District Zone  \\\n",
       "0             17415       NaN  01/01/2010 01:11:00 AM         6    E   \n",
       "1             17416       NaN  01/01/2010 02:06:00 AM         5    D   \n",
       "2             17416       NaN  01/01/2010 02:06:00 AM         5    D   \n",
       "\n",
       "  OfficerAssignment    StopDescription ActionsTaken  VehicleYear VehicleMake  \\\n",
       "0     6th  District  TRAFFIC VIOLATION          NaN       2005.0       DODGE   \n",
       "1     5th  District   CALL FOR SERVICE          NaN          NaN         NaN   \n",
       "2     5th  District   CALL FOR SERVICE          NaN          NaN         NaN   \n",
       "\n",
       "   ... SubjectWeight SubjectEyeColor SubjectHairColor  SubjectDriverLicState  \\\n",
       "0  ...         160.0           Brown            Black                     LA   \n",
       "1  ...         140.0           Brown            Black                    NaN   \n",
       "2  ...         145.0           Brown            Black                    NaN   \n",
       "\n",
       "          CreatedDateTime LastModifiedDateTime  Longitude Latitude  Zip  \\\n",
       "0  01/01/2010 01:26:26 AM                  NaN        0.0      0.0  NaN   \n",
       "1  01/01/2010 02:27:38 AM                  NaN        0.0      0.0  NaN   \n",
       "2  01/01/2010 02:27:38 AM                  NaN        0.0      0.0  NaN   \n",
       "\n",
       "   BlockAddress  \n",
       "0           NaN  \n",
       "1           NaN  \n",
       "2           NaN  \n",
       "\n",
       "[3 rows x 29 columns]"
      ]
     },
     "execution_count": 4,
     "metadata": {},
     "output_type": "execute_result"
    }
   ],
   "source": [
    "print(df.shape)\n",
    "\n",
    "df.head(3)"
   ]
  },
  {
   "cell_type": "markdown",
   "metadata": {},
   "source": [
    "### 2. Remove all leading and trailing"
   ]
  },
  {
   "cell_type": "code",
   "execution_count": 5,
   "metadata": {},
   "outputs": [],
   "source": [
    "df.columns = df.columns.str.strip()"
   ]
  },
  {
   "cell_type": "markdown",
   "metadata": {},
   "source": [
    "### 3. Check if there are duplicates. If so, remove them.¶"
   ]
  },
  {
   "cell_type": "code",
   "execution_count": 6,
   "metadata": {},
   "outputs": [
    {
     "name": "stdout",
     "output_type": "stream",
     "text": [
      "Number of duplicate rows = 0\n"
     ]
    }
   ],
   "source": [
    "dups = df.duplicated()\n",
    "print('Number of duplicate rows = %d' % (dups.sum()))"
   ]
  },
  {
   "cell_type": "markdown",
   "metadata": {},
   "source": [
    "### 4. Check descriptive statistics to find abnormalities (outliers)"
   ]
  },
  {
   "cell_type": "code",
   "execution_count": 7,
   "metadata": {},
   "outputs": [
    {
     "name": "stdout",
     "output_type": "stream",
     "text": [
      "Index(['FieldInterviewID', 'NOPD_Item', 'EventDate', 'District', 'Zone',\n",
      "       'OfficerAssignment', 'StopDescription', 'ActionsTaken', 'VehicleYear',\n",
      "       'VehicleMake', 'VehicleModel', 'VehicleStyle', 'VehicleColor',\n",
      "       'SubjectID', 'SubjectRace', 'SubjectGender', 'SubjectAge',\n",
      "       'SubjectHasPhotoID', 'SubjectHeight', 'SubjectWeight',\n",
      "       'SubjectEyeColor', 'SubjectHairColor', 'SubjectDriverLicState',\n",
      "       'CreatedDateTime', 'LastModifiedDateTime', 'Longitude', 'Latitude',\n",
      "       'Zip', 'BlockAddress'],\n",
      "      dtype='object')\n"
     ]
    }
   ],
   "source": [
    "print(df.columns)"
   ]
  },
  {
   "cell_type": "code",
   "execution_count": 8,
   "metadata": {},
   "outputs": [
    {
     "data": {
      "text/html": [
       "<div>\n",
       "<style scoped>\n",
       "    .dataframe tbody tr th:only-of-type {\n",
       "        vertical-align: middle;\n",
       "    }\n",
       "\n",
       "    .dataframe tbody tr th {\n",
       "        vertical-align: top;\n",
       "    }\n",
       "\n",
       "    .dataframe thead th {\n",
       "        text-align: right;\n",
       "    }\n",
       "</style>\n",
       "<table border=\"1\" class=\"dataframe\">\n",
       "  <thead>\n",
       "    <tr style=\"text-align: right;\">\n",
       "      <th></th>\n",
       "      <th>SubjectAge</th>\n",
       "      <th>SubjectHeight</th>\n",
       "      <th>SubjectWeight</th>\n",
       "    </tr>\n",
       "  </thead>\n",
       "  <tbody>\n",
       "    <tr>\n",
       "      <th>count</th>\n",
       "      <td>576132.000000</td>\n",
       "      <td>576096.000000</td>\n",
       "      <td>576204.000000</td>\n",
       "    </tr>\n",
       "    <tr>\n",
       "      <th>mean</th>\n",
       "      <td>34.564228</td>\n",
       "      <td>68.723647</td>\n",
       "      <td>170.205668</td>\n",
       "    </tr>\n",
       "    <tr>\n",
       "      <th>std</th>\n",
       "      <td>13.354613</td>\n",
       "      <td>70.615748</td>\n",
       "      <td>75.370931</td>\n",
       "    </tr>\n",
       "    <tr>\n",
       "      <th>min</th>\n",
       "      <td>0.000000</td>\n",
       "      <td>0.000000</td>\n",
       "      <td>-320.000000</td>\n",
       "    </tr>\n",
       "    <tr>\n",
       "      <th>25%</th>\n",
       "      <td>24.000000</td>\n",
       "      <td>66.000000</td>\n",
       "      <td>142.000000</td>\n",
       "    </tr>\n",
       "    <tr>\n",
       "      <th>50%</th>\n",
       "      <td>31.000000</td>\n",
       "      <td>68.000000</td>\n",
       "      <td>165.000000</td>\n",
       "    </tr>\n",
       "    <tr>\n",
       "      <th>75%</th>\n",
       "      <td>44.000000</td>\n",
       "      <td>71.000000</td>\n",
       "      <td>190.000000</td>\n",
       "    </tr>\n",
       "    <tr>\n",
       "      <th>max</th>\n",
       "      <td>119.000000</td>\n",
       "      <td>10932.000000</td>\n",
       "      <td>9999.000000</td>\n",
       "    </tr>\n",
       "  </tbody>\n",
       "</table>\n",
       "</div>"
      ],
      "text/plain": [
       "          SubjectAge  SubjectHeight  SubjectWeight\n",
       "count  576132.000000  576096.000000  576204.000000\n",
       "mean       34.564228      68.723647     170.205668\n",
       "std        13.354613      70.615748      75.370931\n",
       "min         0.000000       0.000000    -320.000000\n",
       "25%        24.000000      66.000000     142.000000\n",
       "50%        31.000000      68.000000     165.000000\n",
       "75%        44.000000      71.000000     190.000000\n",
       "max       119.000000   10932.000000    9999.000000"
      ]
     },
     "execution_count": 8,
     "metadata": {},
     "output_type": "execute_result"
    }
   ],
   "source": [
    "df[['SubjectAge','SubjectHeight','SubjectWeight']].describe()"
   ]
  },
  {
   "cell_type": "code",
   "execution_count": 9,
   "metadata": {},
   "outputs": [
    {
     "ename": "AttributeError",
     "evalue": "'DataFrame' object has no attribute 'infor'",
     "output_type": "error",
     "traceback": [
      "\u001b[0;31m---------------------------------------------------------------------------\u001b[0m",
      "\u001b[0;31mAttributeError\u001b[0m                            Traceback (most recent call last)",
      "\u001b[0;32m<ipython-input-9-df943597330d>\u001b[0m in \u001b[0;36m<module>\u001b[0;34m\u001b[0m\n\u001b[0;32m----> 1\u001b[0;31m \u001b[0mdf\u001b[0m\u001b[0;34m.\u001b[0m\u001b[0minfor\u001b[0m\u001b[0;34m(\u001b[0m\u001b[0;34m)\u001b[0m\u001b[0;34m\u001b[0m\u001b[0;34m\u001b[0m\u001b[0m\n\u001b[0m",
      "\u001b[0;32m/Library/Frameworks/Python.framework/Versions/3.7/lib/python3.7/site-packages/pandas/core/generic.py\u001b[0m in \u001b[0;36m__getattr__\u001b[0;34m(self, name)\u001b[0m\n\u001b[1;32m   5272\u001b[0m             \u001b[0;32mif\u001b[0m \u001b[0mself\u001b[0m\u001b[0;34m.\u001b[0m\u001b[0m_info_axis\u001b[0m\u001b[0;34m.\u001b[0m\u001b[0m_can_hold_identifiers_and_holds_name\u001b[0m\u001b[0;34m(\u001b[0m\u001b[0mname\u001b[0m\u001b[0;34m)\u001b[0m\u001b[0;34m:\u001b[0m\u001b[0;34m\u001b[0m\u001b[0;34m\u001b[0m\u001b[0m\n\u001b[1;32m   5273\u001b[0m                 \u001b[0;32mreturn\u001b[0m \u001b[0mself\u001b[0m\u001b[0;34m[\u001b[0m\u001b[0mname\u001b[0m\u001b[0;34m]\u001b[0m\u001b[0;34m\u001b[0m\u001b[0;34m\u001b[0m\u001b[0m\n\u001b[0;32m-> 5274\u001b[0;31m             \u001b[0;32mreturn\u001b[0m \u001b[0mobject\u001b[0m\u001b[0;34m.\u001b[0m\u001b[0m__getattribute__\u001b[0m\u001b[0;34m(\u001b[0m\u001b[0mself\u001b[0m\u001b[0;34m,\u001b[0m \u001b[0mname\u001b[0m\u001b[0;34m)\u001b[0m\u001b[0;34m\u001b[0m\u001b[0;34m\u001b[0m\u001b[0m\n\u001b[0m\u001b[1;32m   5275\u001b[0m \u001b[0;34m\u001b[0m\u001b[0m\n\u001b[1;32m   5276\u001b[0m     \u001b[0;32mdef\u001b[0m \u001b[0m__setattr__\u001b[0m\u001b[0;34m(\u001b[0m\u001b[0mself\u001b[0m\u001b[0;34m,\u001b[0m \u001b[0mname\u001b[0m\u001b[0;34m:\u001b[0m \u001b[0mstr\u001b[0m\u001b[0;34m,\u001b[0m \u001b[0mvalue\u001b[0m\u001b[0;34m)\u001b[0m \u001b[0;34m->\u001b[0m \u001b[0;32mNone\u001b[0m\u001b[0;34m:\u001b[0m\u001b[0;34m\u001b[0m\u001b[0;34m\u001b[0m\u001b[0m\n",
      "\u001b[0;31mAttributeError\u001b[0m: 'DataFrame' object has no attribute 'infor'"
     ]
    }
   ],
   "source": [
    "df.infor()"
   ]
  },
  {
   "cell_type": "markdown",
   "metadata": {},
   "source": [
    "### 5. Drop the unwanted columns: FieldInterviewID, LastModifiedDateTime, BlockAddress"
   ]
  },
  {
   "cell_type": "code",
   "execution_count": null,
   "metadata": {},
   "outputs": [],
   "source": [
    "df.isnull().sum() "
   ]
  },
  {
   "cell_type": "code",
   "execution_count": null,
   "metadata": {},
   "outputs": [],
   "source": [
    "len(df)\n"
   ]
  },
  {
   "cell_type": "code",
   "execution_count": null,
   "metadata": {},
   "outputs": [],
   "source": [
    "if 'FieldInterviewID' in df.columns:\n",
    "    df = df.drop(['FieldInterviewID'], axis=1)\n",
    "\n",
    "if 'LastModifiedDateTime' in df.columns:\n",
    "    df = df.drop(['LastModifiedDateTime'], axis=1)\n",
    "\n",
    "if 'BlockAddress' in df.columns:\n",
    "    df = df.drop(['BlockAddress'], axis=1)"
   ]
  },
  {
   "cell_type": "markdown",
   "metadata": {},
   "source": [
    "### 6. Explore the data with visualization"
   ]
  },
  {
   "cell_type": "markdown",
   "metadata": {},
   "source": [
    "### Check Age anomalies"
   ]
  },
  {
   "cell_type": "code",
   "execution_count": null,
   "metadata": {},
   "outputs": [],
   "source": [
    "df[['SubjectAge']].boxplot(grid=False,  fontsize=12,figsize=(7, 6),patch_artist = True)\n"
   ]
  },
  {
   "cell_type": "markdown",
   "metadata": {},
   "source": [
    "### Checking SubjectHeight and SubjectWeight anomalies"
   ]
  },
  {
   "cell_type": "code",
   "execution_count": null,
   "metadata": {},
   "outputs": [],
   "source": [
    "df[['SubjectHeight','SubjectWeight']].boxplot(grid=False,  fontsize=12,figsize=(7, 6),patch_artist = True)"
   ]
  },
  {
   "cell_type": "markdown",
   "metadata": {},
   "source": [
    "### Explore Subject Race "
   ]
  },
  {
   "cell_type": "code",
   "execution_count": null,
   "metadata": {},
   "outputs": [],
   "source": [
    "temp = df.SubjectRace.value_counts()\n",
    "\n",
    "races = pd.DataFrame(temp).index.values\n",
    "count = np.transpose(np.squeeze(temp.to_numpy()))\n",
    "\n",
    "fig = plt.figure()\n",
    "ax = fig.add_axes([0,0,1,1])\n",
    "ax.bar(races,count)\n",
    "ax.set_title('Subject Race')\n",
    "plt.show()"
   ]
  },
  {
   "cell_type": "code",
   "execution_count": null,
   "metadata": {},
   "outputs": [],
   "source": [
    "temp = df.SubjectRace.value_counts()\n",
    "races = pd.DataFrame(temp).index.values\n",
    "\n",
    "male = df[(df.SubjectGender == 'MALE')]['SubjectRace'].value_counts()\n",
    "female = df[(df.SubjectGender == 'FEMALE')]['SubjectRace'].value_counts()\n",
    "\n",
    "races_male = pd.DataFrame(male).index.values\n",
    "count_race_male = np.transpose(np.squeeze(male.to_numpy()))\n",
    "races_female = pd.DataFrame(female).index.values\n",
    "count_race_female = np.transpose(np.squeeze(female.to_numpy()))\n",
    "\n",
    "pos = list(range(len(temp))) \n",
    "width = 0.25\n",
    "fig, ax = plt.subplots(figsize=(10,5))\n",
    "plt.bar(pos, count_race_male,  width, alpha=0.5, label=races_male) \n",
    "plt.bar([p + width for p in pos], count_race_female, width, alpha=0.5, label=races_female) \n",
    "ax.set_xticks([p + 0.5 * width for p in pos])\n",
    "ax.set_xticklabels(races)\n",
    "ax.set_title('Subject Race Male and Female')\n",
    "plt.legend(['Male', 'Female'], loc='upper right')\n",
    "plt.show()\n"
   ]
  },
  {
   "cell_type": "markdown",
   "metadata": {},
   "source": [
    "### Explore Vehicle Style and Vehicle Color"
   ]
  },
  {
   "cell_type": "code",
   "execution_count": null,
   "metadata": {},
   "outputs": [],
   "source": [
    "temp_style = df.VehicleStyle.value_counts()\n",
    "style = pd.DataFrame(temp_style ).index.values\n",
    "count_style = np.transpose(np.squeeze(temp_style .to_numpy()))\n",
    "\n",
    "temp_color = df.VehicleColor.value_counts()\n",
    "color = pd.DataFrame(temp_color).index.values\n",
    "count_color = np.transpose(np.squeeze(temp_color.to_numpy()))\n",
    "\n",
    "\n",
    "fig, (ax1, ax2) = plt.subplots(1, 2, figsize=(20, 5), constrained_layout=True)\n",
    "# plot 1st one \n",
    "ax1.bar(style,count_style)\n",
    "ax1.set_title('Vehicle Style')\n",
    "ax1.set_xticklabels(style, rotation=45)\n",
    "\n",
    "# plot 2st one \n",
    "ax2.bar(color,count_color)\n",
    "ax2.set_title('Vehicle Color')\n",
    "ax2.set_xticklabels(color, rotation=45)\n",
    "plt.show()\n"
   ]
  },
  {
   "cell_type": "markdown",
   "metadata": {},
   "source": [
    "### Explore Vehicle Model"
   ]
  },
  {
   "cell_type": "code",
   "execution_count": null,
   "metadata": {},
   "outputs": [],
   "source": [
    "temp = df.VehicleModel.value_counts()\n",
    "print('Model Count {}'.format(len(temp)))\n",
    "top_model = pd.DataFrame(temp).iloc[0:15]\n",
    "\n",
    "model = pd.DataFrame(top_model).index.values\n",
    "count_model = np.transpose(np.squeeze(top_model.to_numpy()))\n",
    "\n",
    "fig = fig = plt.figure(figsize=(10,5))\n",
    "ax = fig.add_axes([0,0,1,1])\n",
    "ax.bar(model,count_model)\n",
    "ax.set_title('Top 15 Vehicle Models')\n",
    "ax.set_xticklabels(model, rotation=45)\n",
    "plt.show()"
   ]
  },
  {
   "cell_type": "markdown",
   "metadata": {},
   "source": [
    "### Explore Reason for Stop"
   ]
  },
  {
   "cell_type": "code",
   "execution_count": null,
   "metadata": {},
   "outputs": [],
   "source": [
    "temp = df.StopDescription.value_counts()\n",
    "\n",
    "stop = pd.DataFrame(temp).index.values\n",
    "count_stop = np.transpose(np.squeeze(temp.to_numpy()))\n",
    "\n",
    "fig = fig = plt.figure(figsize=(10,5))\n",
    "ax = fig.add_axes([0,0,1,1])\n",
    "ax.bar(stop,count_stop)\n",
    "ax.set_title('Stop Description')\n",
    "ax.set_xticklabels(stop, rotation=45)\n",
    "plt.show()\n"
   ]
  },
  {
   "cell_type": "markdown",
   "metadata": {},
   "source": [
    "### 7. Handle Outliers"
   ]
  },
  {
   "cell_type": "markdown",
   "metadata": {},
   "source": [
    "### Get outliers with Age outside range of 15-90 year-old. Height outside range of 4-7 foot tall. Weight outside range of 3-500 lbs"
   ]
  },
  {
   "cell_type": "code",
   "execution_count": null,
   "metadata": {},
   "outputs": [],
   "source": [
    "### Age\n",
    "lower = 15\n",
    "upper = 90\n",
    "temp = df.loc[:,'SubjectAge']\n",
    "outliers_age = [x for x in temp if x < lower or x > upper]\n",
    "print('Age Lower:{} Upper:{}  Outliers count:{}'.format(lower,  upper, len(outliers_age)))\n",
    "\n",
    "### Height\n",
    "lower = 4 * 12\n",
    "upper = 7 * 12\n",
    "temp = df.loc[:,'SubjectHeight']\n",
    "outliers_height = [x for x in temp if x < lower or x > upper]\n",
    "print('Height Lower:{} Upper:{}  Outliers count:{}'.format(lower,  upper, len(outliers_height)))\n",
    "\n",
    "### Weight\n",
    "lower = 3\n",
    "upper = 500\n",
    "temp = df.loc[:,'SubjectWeight']\n",
    "outliers_weight = [x for x in temp if x < lower or x > upper]\n",
    "print('Weight Lower:{} Upper:{}  Outliers count:{}'.format(lower,  upper, len(outliers_weight)))\n"
   ]
  },
  {
   "cell_type": "markdown",
   "metadata": {},
   "source": [
    "### Remove outliers with Age outside range of 15-90 year-old. \n",
    "### Height outside range of 4-7 foot tall. Weight outside range of 3-500 lbs"
   ]
  },
  {
   "cell_type": "code",
   "execution_count": null,
   "metadata": {},
   "outputs": [],
   "source": [
    "origin_count = len(df)\n",
    "print('Original rows count {}'.format(origin_count))\n",
    "\n",
    "## Age\n",
    "lower = 15\n",
    "upper = 90\n",
    "temp = df.loc[:,'SubjectAge']\n",
    "outliers_age = [x for x in temp if x < lower or x > upper]\n",
    "print('Found outliers_age count {}'.format(len(outliers_age)))\n",
    "# get rows\n",
    "outliers_age_rows = df[df['SubjectAge'].isin(outliers_age)]\n",
    "df.drop(outliers_age_rows.index, inplace=True)\n",
    "print('\\tAfter droppred outliers_age {}'.format(len(df)))\n",
    "\n",
    "## Height\n",
    "lower = 4 * 12\n",
    "upper = 7 * 12\n",
    "temp = df.loc[:,'SubjectHeight']\n",
    "outliers_height = [x for x in temp if x < lower or x > upper]\n",
    "print('Found outliers_height count {}'.format(len(outliers_height)))\n",
    "# get rows\n",
    "outliers_height_rows = df[df['SubjectHeight'].isin(outliers_height)]\n",
    "df.drop(outliers_height_rows.index, inplace=True)\n",
    "print('\\tAfter droppred outliers_Height {}'.format(len(df)))\n",
    "\n",
    "## Weight\n",
    "lower = 3\n",
    "upper = 500\n",
    "temp = df.loc[:,'SubjectWeight']\n",
    "outliers_weight = [x for x in temp if x < lower or x > upper]\n",
    "print('Found outliers_weight count {}'.format(len(outliers_weight)))\n",
    "# get rows\n",
    "outliers_weight_rows = df[df['SubjectWeight'].isin(outliers_weight)]\n",
    "df.drop(outliers_weight_rows.index, inplace=True)\n",
    "print('\\tAfter droppred outliers_weight {}'.format(len(df)))\n",
    "\n",
    "rows_remain = len(df)\n",
    "print('Number rows were dropped {}'.format(origin_count-rows_remain))\n",
    "print('Number rows remains {}'.format(rows_remain))\n"
   ]
  },
  {
   "cell_type": "markdown",
   "metadata": {},
   "source": [
    "### Assert no outliers"
   ]
  },
  {
   "cell_type": "code",
   "execution_count": null,
   "metadata": {},
   "outputs": [],
   "source": [
    "df[['SubjectAge','SubjectHeight','SubjectWeight']].describe()"
   ]
  },
  {
   "cell_type": "markdown",
   "metadata": {},
   "source": [
    "### Assert there are no unwanted columns"
   ]
  },
  {
   "cell_type": "code",
   "execution_count": null,
   "metadata": {},
   "outputs": [],
   "source": [
    "df.columns"
   ]
  },
  {
   "cell_type": "markdown",
   "metadata": {},
   "source": [
    "### 8. Handle Invalid Values"
   ]
  },
  {
   "cell_type": "code",
   "execution_count": null,
   "metadata": {},
   "outputs": [],
   "source": [
    "df.info(verbose=True)"
   ]
  },
  {
   "cell_type": "markdown",
   "metadata": {},
   "source": [
    "### Found invalid 0.0 Latitude and Longtitude. Replace with NaN"
   ]
  },
  {
   "cell_type": "code",
   "execution_count": null,
   "metadata": {},
   "outputs": [],
   "source": [
    "print('Found invalid lat lon zero: {}'.format(len(df[(df.Longitude == 0.0) & (df.Latitude == 0.0)][['Longitude','Latitude']])))"
   ]
  },
  {
   "cell_type": "code",
   "execution_count": null,
   "metadata": {},
   "outputs": [],
   "source": [
    "df[['Longitude','Latitude']] = df[['Longitude','Latitude']].replace(0.0, np.nan )\n",
    "print('After fix {}'.format(df[['Longitude','Latitude']].head(5)))"
   ]
  },
  {
   "cell_type": "markdown",
   "metadata": {},
   "source": [
    "### 9. Save a cleaned DataFrame to CSV file"
   ]
  },
  {
   "cell_type": "code",
   "execution_count": null,
   "metadata": {},
   "outputs": [],
   "source": [
    "df.to_csv(\"Stop_and_Search__Field_Interviews_Cleaned.csv\", index = False)"
   ]
  },
  {
   "cell_type": "code",
   "execution_count": null,
   "metadata": {},
   "outputs": [],
   "source": []
  }
 ],
 "metadata": {
  "kernelspec": {
   "display_name": "Python 3",
   "language": "python",
   "name": "python3"
  },
  "language_info": {
   "codemirror_mode": {
    "name": "ipython",
    "version": 3
   },
   "file_extension": ".py",
   "mimetype": "text/x-python",
   "name": "python",
   "nbconvert_exporter": "python",
   "pygments_lexer": "ipython3",
   "version": "3.7.4"
  }
 },
 "nbformat": 4,
 "nbformat_minor": 4
}
