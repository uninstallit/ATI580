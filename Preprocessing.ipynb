{
 "cells": [
  {
   "cell_type": "markdown",
   "metadata": {},
   "source": [
    "#### 1. Data preprocessing and cleaning up\n",
    "#### 2. Create a good database set"
   ]
  },
  {
   "cell_type": "code",
   "execution_count": 3,
   "metadata": {},
   "outputs": [
    {
     "data": {
      "text/plain": [
       "'/Library/Frameworks/Python.framework/Versions/3.7/bin/python3'"
      ]
     },
     "execution_count": 3,
     "metadata": {},
     "output_type": "execute_result"
    }
   ],
   "source": [
    "import sys\n",
    "sys.executable"
   ]
  },
  {
   "cell_type": "code",
   "execution_count": 7,
   "metadata": {},
   "outputs": [
    {
     "name": "stdout",
     "output_type": "stream",
     "text": [
      "Total: 593893\n",
      "<class 'pandas.core.frame.DataFrame'>\n",
      "RangeIndex: 593893 entries, 0 to 593892\n",
      "Data columns (total 30 columns):\n",
      " #   Column                 Non-Null Count   Dtype \n",
      "---  ------                 --------------   ----- \n",
      " 0   _id                    593893 non-null  object\n",
      " 1   FieldInterviewID       593893 non-null  object\n",
      " 2   NOPD_Item              500343 non-null  object\n",
      " 3   EventDate              593893 non-null  object\n",
      " 4   District               593893 non-null  object\n",
      " 5   Zone                   593893 non-null  object\n",
      " 6   OfficerAssignment      593769 non-null  object\n",
      " 7   StopDescription        593893 non-null  object\n",
      " 8   ActionsTaken           468620 non-null  object\n",
      " 9   VehicleYear            332290 non-null  object\n",
      " 10  VehicleMake            337394 non-null  object\n",
      " 11  VehicleModel           318188 non-null  object\n",
      " 12  VehicleStyle           330247 non-null  object\n",
      " 13  VehicleColor           333330 non-null  object\n",
      " 14  SubjectID              579846 non-null  object\n",
      " 15  SubjectRace            579846 non-null  object\n",
      " 16  SubjectGender          579846 non-null  object\n",
      " 17  SubjectAge             576132 non-null  object\n",
      " 18  SubjectHasPhotoID      593893 non-null  object\n",
      " 19  SubjectHeight          576096 non-null  object\n",
      " 20  SubjectWeight          576204 non-null  object\n",
      " 21  SubjectEyeColor        576424 non-null  object\n",
      " 22  SubjectHairColor       573591 non-null  object\n",
      " 23  SubjectDriverLicState  362857 non-null  object\n",
      " 24  CreatedDateTime        593893 non-null  object\n",
      " 25  LastModifiedDateTime   168372 non-null  object\n",
      " 26  Longitude              593893 non-null  object\n",
      " 27  Latitude               593893 non-null  object\n",
      " 28  Zip                    479113 non-null  object\n",
      " 29  BlockAddress           497052 non-null  object\n",
      "dtypes: object(30)\n",
      "memory usage: 135.9+ MB\n"
     ]
    }
   ],
   "source": [
    "from pymongo import MongoClient\n",
    "import pandas as pd\n",
    "\n",
    "client = MongoClient()\n",
    "db = client.POLICE_DATABASE\n",
    "db_collection = db.POLICE_INTERVIEWS\n",
    "\n",
    "data = db_collection.find()\n",
    "df = pd.DataFrame.from_records(data)\n",
    "data.info(verbose=True)"
   ]
  },
  {
   "cell_type": "code",
   "execution_count": 8,
   "metadata": {},
   "outputs": [
    {
     "data": {
      "text/html": [
       "<div>\n",
       "<style scoped>\n",
       "    .dataframe tbody tr th:only-of-type {\n",
       "        vertical-align: middle;\n",
       "    }\n",
       "\n",
       "    .dataframe tbody tr th {\n",
       "        vertical-align: top;\n",
       "    }\n",
       "\n",
       "    .dataframe thead th {\n",
       "        text-align: right;\n",
       "    }\n",
       "</style>\n",
       "<table border=\"1\" class=\"dataframe\">\n",
       "  <thead>\n",
       "    <tr style=\"text-align: right;\">\n",
       "      <th></th>\n",
       "      <th>_id</th>\n",
       "      <th>FieldInterviewID</th>\n",
       "      <th>NOPD_Item</th>\n",
       "      <th>EventDate</th>\n",
       "      <th>District</th>\n",
       "      <th>Zone</th>\n",
       "      <th>OfficerAssignment</th>\n",
       "      <th>StopDescription</th>\n",
       "      <th>ActionsTaken</th>\n",
       "      <th>VehicleYear</th>\n",
       "      <th>...</th>\n",
       "      <th>SubjectWeight</th>\n",
       "      <th>SubjectEyeColor</th>\n",
       "      <th>SubjectHairColor</th>\n",
       "      <th>SubjectDriverLicState</th>\n",
       "      <th>CreatedDateTime</th>\n",
       "      <th>LastModifiedDateTime</th>\n",
       "      <th>Longitude</th>\n",
       "      <th>Latitude</th>\n",
       "      <th>Zip</th>\n",
       "      <th>BlockAddress</th>\n",
       "    </tr>\n",
       "  </thead>\n",
       "  <tbody>\n",
       "    <tr>\n",
       "      <th>0</th>\n",
       "      <td>5f027763e2d60f16e5c12197</td>\n",
       "      <td>17415</td>\n",
       "      <td>NaN</td>\n",
       "      <td>01/01/2010 01:11:00 AM</td>\n",
       "      <td>6</td>\n",
       "      <td>E</td>\n",
       "      <td>6th  District</td>\n",
       "      <td>TRAFFIC VIOLATION</td>\n",
       "      <td>NaN</td>\n",
       "      <td>2005</td>\n",
       "      <td>...</td>\n",
       "      <td>160</td>\n",
       "      <td>Brown</td>\n",
       "      <td>Black</td>\n",
       "      <td>LA</td>\n",
       "      <td>01/01/2010 01:26:26 AM</td>\n",
       "      <td>NaN</td>\n",
       "      <td>0</td>\n",
       "      <td>0</td>\n",
       "      <td>NaN</td>\n",
       "      <td>NaN</td>\n",
       "    </tr>\n",
       "    <tr>\n",
       "      <th>1</th>\n",
       "      <td>5f027763e2d60f16e5c12198</td>\n",
       "      <td>17416</td>\n",
       "      <td>NaN</td>\n",
       "      <td>01/01/2010 02:06:00 AM</td>\n",
       "      <td>5</td>\n",
       "      <td>D</td>\n",
       "      <td>5th  District</td>\n",
       "      <td>CALL FOR SERVICE</td>\n",
       "      <td>NaN</td>\n",
       "      <td>NaN</td>\n",
       "      <td>...</td>\n",
       "      <td>140</td>\n",
       "      <td>Brown</td>\n",
       "      <td>Black</td>\n",
       "      <td>NaN</td>\n",
       "      <td>01/01/2010 02:27:38 AM</td>\n",
       "      <td>NaN</td>\n",
       "      <td>0</td>\n",
       "      <td>0</td>\n",
       "      <td>NaN</td>\n",
       "      <td>NaN</td>\n",
       "    </tr>\n",
       "    <tr>\n",
       "      <th>2</th>\n",
       "      <td>5f027763e2d60f16e5c12199</td>\n",
       "      <td>17416</td>\n",
       "      <td>NaN</td>\n",
       "      <td>01/01/2010 02:06:00 AM</td>\n",
       "      <td>5</td>\n",
       "      <td>D</td>\n",
       "      <td>5th  District</td>\n",
       "      <td>CALL FOR SERVICE</td>\n",
       "      <td>NaN</td>\n",
       "      <td>NaN</td>\n",
       "      <td>...</td>\n",
       "      <td>145</td>\n",
       "      <td>Brown</td>\n",
       "      <td>Black</td>\n",
       "      <td>NaN</td>\n",
       "      <td>01/01/2010 02:27:38 AM</td>\n",
       "      <td>NaN</td>\n",
       "      <td>0</td>\n",
       "      <td>0</td>\n",
       "      <td>NaN</td>\n",
       "      <td>NaN</td>\n",
       "    </tr>\n",
       "  </tbody>\n",
       "</table>\n",
       "<p>3 rows × 30 columns</p>\n",
       "</div>"
      ],
      "text/plain": [
       "                        _id FieldInterviewID NOPD_Item  \\\n",
       "0  5f027763e2d60f16e5c12197            17415       NaN   \n",
       "1  5f027763e2d60f16e5c12198            17416       NaN   \n",
       "2  5f027763e2d60f16e5c12199            17416       NaN   \n",
       "\n",
       "                EventDate District Zone OfficerAssignment    StopDescription  \\\n",
       "0  01/01/2010 01:11:00 AM        6    E     6th  District  TRAFFIC VIOLATION   \n",
       "1  01/01/2010 02:06:00 AM        5    D     5th  District   CALL FOR SERVICE   \n",
       "2  01/01/2010 02:06:00 AM        5    D     5th  District   CALL FOR SERVICE   \n",
       "\n",
       "  ActionsTaken VehicleYear  ... SubjectWeight SubjectEyeColor  \\\n",
       "0          NaN        2005  ...           160           Brown   \n",
       "1          NaN         NaN  ...           140           Brown   \n",
       "2          NaN         NaN  ...           145           Brown   \n",
       "\n",
       "  SubjectHairColor SubjectDriverLicState         CreatedDateTime  \\\n",
       "0            Black                    LA  01/01/2010 01:26:26 AM   \n",
       "1            Black                   NaN  01/01/2010 02:27:38 AM   \n",
       "2            Black                   NaN  01/01/2010 02:27:38 AM   \n",
       "\n",
       "  LastModifiedDateTime Longitude Latitude  Zip BlockAddress  \n",
       "0                  NaN         0        0  NaN          NaN  \n",
       "1                  NaN         0        0  NaN          NaN  \n",
       "2                  NaN         0        0  NaN          NaN  \n",
       "\n",
       "[3 rows x 30 columns]"
      ]
     },
     "execution_count": 8,
     "metadata": {},
     "output_type": "execute_result"
    }
   ],
   "source": [
    "df.head(3)"
   ]
  },
  {
   "cell_type": "markdown",
   "metadata": {},
   "source": [
    "#### Remove all leading and trailing"
   ]
  },
  {
   "cell_type": "code",
   "execution_count": 9,
   "metadata": {},
   "outputs": [],
   "source": [
    "df.columns = df.columns.str.strip()"
   ]
  },
  {
   "cell_type": "markdown",
   "metadata": {},
   "source": [
    "#### Check if there are duplicates. If so, remove them.¶"
   ]
  },
  {
   "cell_type": "code",
   "execution_count": 11,
   "metadata": {},
   "outputs": [
    {
     "name": "stdout",
     "output_type": "stream",
     "text": [
      "Number of duplicate rows = 0\n"
     ]
    }
   ],
   "source": [
    "dups = df.duplicated()\n",
    "print('Number of duplicate rows = %d' % (dups.sum()))"
   ]
  },
  {
   "cell_type": "markdown",
   "metadata": {},
   "source": [
    "#### Check descriptive statistics to find abnormalities (outliers)"
   ]
  },
  {
   "cell_type": "markdown",
   "metadata": {},
   "source": [
    "#### Display the null/missing values"
   ]
  },
  {
   "cell_type": "code",
   "execution_count": 22,
   "metadata": {},
   "outputs": [
    {
     "name": "stdout",
     "output_type": "stream",
     "text": [
      "Number of instances = 593893\n",
      "Number of attributes = 30\n",
      "------------------------------\n"
     ]
    },
    {
     "data": {
      "text/plain": [
       "_id                           0\n",
       "FieldInterviewID              0\n",
       "NOPD_Item                 93550\n",
       "EventDate                     0\n",
       "District                      0\n",
       "Zone                          0\n",
       "OfficerAssignment           124\n",
       "StopDescription               0\n",
       "ActionsTaken             125273\n",
       "VehicleYear              261603\n",
       "VehicleMake              256499\n",
       "VehicleModel             275705\n",
       "VehicleStyle             263646\n",
       "VehicleColor             260563\n",
       "SubjectID                 14047\n",
       "SubjectRace               14047\n",
       "SubjectGender             14047\n",
       "SubjectAge                17761\n",
       "SubjectHasPhotoID             0\n",
       "SubjectHeight             17797\n",
       "SubjectWeight             17689\n",
       "SubjectEyeColor           17469\n",
       "SubjectHairColor          20302\n",
       "SubjectDriverLicState    231036\n",
       "CreatedDateTime               0\n",
       "LastModifiedDateTime     425521\n",
       "Longitude                     0\n",
       "Latitude                      0\n",
       "Zip                      114780\n",
       "BlockAddress              96841\n",
       "dtype: int64"
      ]
     },
     "execution_count": 22,
     "metadata": {},
     "output_type": "execute_result"
    }
   ],
   "source": [
    "print('Number of instances = {}\\nNumber of attributes = {}'.format(df.shape[0],df.shape[1]))\n",
    "print('------------------------------')\n",
    "df.isnull().sum()  # or axis=0 for columns"
   ]
  },
  {
   "cell_type": "markdown",
   "metadata": {},
   "source": [
    "#### Drop columns with 90+% null values."
   ]
  },
  {
   "cell_type": "code",
   "execution_count": null,
   "metadata": {},
   "outputs": [],
   "source": [
    "## TODO decide which column to drop"
   ]
  },
  {
   "cell_type": "markdown",
   "metadata": {},
   "source": [
    "#### Remove row indexes with 55% missing important values"
   ]
  },
  {
   "cell_type": "code",
   "execution_count": null,
   "metadata": {},
   "outputs": [],
   "source": [
    "## TODO"
   ]
  },
  {
   "cell_type": "markdown",
   "metadata": {},
   "source": [
    "#### Impute all the missing values with median."
   ]
  },
  {
   "cell_type": "code",
   "execution_count": null,
   "metadata": {},
   "outputs": [],
   "source": [
    "#### TODO"
   ]
  },
  {
   "cell_type": "code",
   "execution_count": null,
   "metadata": {},
   "outputs": [],
   "source": []
  }
 ],
 "metadata": {
  "kernelspec": {
   "display_name": "Python 3",
   "language": "python",
   "name": "python3"
  },
  "language_info": {
   "codemirror_mode": {
    "name": "ipython",
    "version": 3
   },
   "file_extension": ".py",
   "mimetype": "text/x-python",
   "name": "python",
   "nbconvert_exporter": "python",
   "pygments_lexer": "ipython3",
   "version": "3.7.4"
  }
 },
 "nbformat": 4,
 "nbformat_minor": 4
}
