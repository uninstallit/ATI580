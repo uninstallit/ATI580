{
  "nbformat": 4,
  "nbformat_minor": 0,
  "metadata": {
    "colab": {
      "name": "ati580_explore.ipynb",
      "provenance": [],
      "authorship_tag": "ABX9TyNM6EbScRLzJjEdBATcUFMH",
      "include_colab_link": true
    },
    "kernelspec": {
      "name": "python3",
      "display_name": "Python 3"
    }
  },
  "cells": [
    {
      "cell_type": "markdown",
      "metadata": {
        "id": "view-in-github",
        "colab_type": "text"
      },
      "source": [
        "<a href=\"https://colab.research.google.com/github/uninstallit/ati580_final_project/blob/edvin-1/ati580_explore.ipynb\" target=\"_parent\"><img src=\"https://colab.research.google.com/assets/colab-badge.svg\" alt=\"Open In Colab\"/></a>"
      ]
    },
    {
      "cell_type": "markdown",
      "metadata": {
        "id": "ToShc9mpR2LO",
        "colab_type": "text"
      },
      "source": [
        "### **Initial Setup**"
      ]
    },
    {
      "cell_type": "markdown",
      "metadata": {
        "id": "FM3B6zzekF4r",
        "colab_type": "text"
      },
      "source": [
        "-- Mount to google drive to load csv"
      ]
    },
    {
      "cell_type": "code",
      "metadata": {
        "id": "9y8Y97PHR0wS",
        "colab_type": "code",
        "colab": {}
      },
      "source": [
        "from google.colab import drive\n",
        "drive.mount('/content/gdrive')"
      ],
      "execution_count": null,
      "outputs": []
    },
    {
      "cell_type": "markdown",
      "metadata": {
        "id": "fvWYGTdaks6j",
        "colab_type": "text"
      },
      "source": [
        "-- Save libraries list in .txt "
      ]
    },
    {
      "cell_type": "code",
      "metadata": {
        "id": "g_luGkN_krlT",
        "colab_type": "code",
        "colab": {}
      },
      "source": [
        "# pip freeze --local > /content/gdrive/My\\ Drive/colab_installed.txt"
      ],
      "execution_count": null,
      "outputs": []
    },
    {
      "cell_type": "markdown",
      "metadata": {
        "id": "Ff4uNqU_lLyd",
        "colab_type": "text"
      },
      "source": [
        "-- Install libraries from .txt list"
      ]
    },
    {
      "cell_type": "code",
      "metadata": {
        "id": "LhYxaNT0lTVb",
        "colab_type": "code",
        "colab": {}
      },
      "source": [
        "# pip install --upgrade --force-reinstall `cat/content/gdrive/My\\ Drive/colab_installed.txt`"
      ],
      "execution_count": null,
      "outputs": []
    },
    {
      "cell_type": "markdown",
      "metadata": {
        "id": "8_N0qy5ckTqT",
        "colab_type": "text"
      },
      "source": [
        "-- Load the clean database"
      ]
    },
    {
      "cell_type": "code",
      "metadata": {
        "id": "VsdYvtVhkAhG",
        "colab_type": "code",
        "colab": {}
      },
      "source": [
        "# db.drop_collection('addressbook')\n",
        "# data.reset_index(inplace=True)\n",
        "# data_dict = data.to_dict(\"records\")\n",
        "# collection.insert_many(data_dict)"
      ],
      "execution_count": null,
      "outputs": []
    },
    {
      "cell_type": "markdown",
      "metadata": {
        "id": "7iPA6revmP_W",
        "colab_type": "text"
      },
      "source": [
        "### **Framework**"
      ]
    },
    {
      "cell_type": "code",
      "metadata": {
        "id": "nt5zBvObqMRV",
        "colab_type": "code",
        "colab": {}
      },
      "source": [
        "pip install dnspython"
      ],
      "execution_count": null,
      "outputs": []
    },
    {
      "cell_type": "markdown",
      "metadata": {
        "id": "PFxlBrlDmzRL",
        "colab_type": "text"
      },
      "source": [
        "-- Create classes"
      ]
    },
    {
      "cell_type": "code",
      "metadata": {
        "id": "EahBpYCbn6UU",
        "colab_type": "code",
        "colab": {}
      },
      "source": [
        "from pymongo import MongoClient\n",
        "\n",
        "class Connect(object):\n",
        "\n",
        "  @staticmethod    \n",
        "  def get_connection(database):\n",
        "    username = \"mdbUser\"\n",
        "    password = \"ati580\"\n",
        "    return MongoClient('mongodb+srv://{}:{}@ati580-cluster.s5t5z.gcp.mongodb.net/{}?retryWrites=true&w=majority'.format(username, password, database))"
      ],
      "execution_count": 1,
      "outputs": []
    },
    {
      "cell_type": "code",
      "metadata": {
        "id": "gIRPz4Cvmajb",
        "colab_type": "code",
        "colab": {}
      },
      "source": [
        "from IPython.display import clear_output\n",
        "import tensorflow as tf\n",
        "import pandas as pd\n",
        "import numpy as np\n",
        "import pymongo\n",
        "import datetime\n",
        "\n",
        "class PoliceInterviews(object):\n",
        "\n",
        "  def __init__(self, selected, num_rows, output, eval_percent, batch):\n",
        "    self._columns = selected\n",
        "    self._rows = num_rows\n",
        "    # data model attributes\n",
        "    self._output = output\n",
        "    self._eval_percent = eval_percent\n",
        "    self._batch = batch\n",
        "    self._query_dataframe = pd.DataFrame([])\n",
        "    # connect to database\n",
        "    self._connect = Connect()\n",
        "    self._mdb_client = self._connect.get_connection(\"POLICE_DATABASE\")\n",
        "    self._mdb_database = self._mdb_client['POLICE_DATABASE'] \n",
        "    self._mdb_collection = self._mdb_database['POLICE_INTERVIEWS']\n",
        "    self._is_retrieved = False \n",
        "\n",
        "  # convert queries to dataframe or numpy array\n",
        "  def query_and_convert(self, filter, projection, to=\"dataframe\", rows=None):\n",
        "    if rows is not None:\n",
        "      _cursor = self._mdb_collection.find(filter, projection).limit(rows)\n",
        "    else:\n",
        "      _cursor = self._mdb_collection.find(filter, projection)\n",
        "    _dataframe = pd.DataFrame(list(_cursor))\n",
        "    if to == \"dataframe\":\n",
        "      return _dataframe\n",
        "    elif to == \"numpy\":\n",
        "      _np_array = np.transpose(np.squeeze(_dataframe.to_numpy()))\n",
        "      return _np_array\n",
        "  \n",
        "  # convert time to seconds \n",
        "  @staticmethod\n",
        "  def time_to_int_seconds(datetime_str):\n",
        "    time = datetime.datetime.strptime(datetime_str, '%m/%d/%Y %H:%M:%S %p').time()\n",
        "    [hours, minutes, seconds] = [int(t) for t in str(time).split(':')]\n",
        "    return datetime.timedelta(hours=hours, minutes=minutes, seconds=seconds).seconds\n",
        "\n",
        "  # convert license tag to binary\n",
        "  @staticmethod\n",
        "  def instate_or_outofstate(license):\n",
        "    if license == \"LA\":\n",
        "      return 1\n",
        "    return 0\n",
        "\n",
        "  # convert stop description to binary\n",
        "  @staticmethod\n",
        "  def cause_or_suspicion(description):\n",
        "    _probable_cause_list = [\"CRIMINAL VIOLATION\", \"JUVENILE VIOLATION\", \"TRAFFIC VIOLATION\"]\n",
        "    if description in _probable_cause_list:\n",
        "      return 0\n",
        "    return 1\n",
        "\n",
        "  def query_database(self):\n",
        "    print(\"Pulling data ...\")\n",
        "    _filter = []\n",
        "    _projection = dict({'_id':0})\n",
        "    # create filter\n",
        "    for key, value in self._columns.items():\n",
        "      if value == 1:\n",
        "        _filter.append({key:{\"$exists\": True}})\n",
        "        _filter.append({key:{\"$ne\": \"\"}})\n",
        "        _filter.append({key:{\"$ne\": None}})\n",
        "        _filter.append({key:{\"$ne\": 0}})\n",
        "    # create projection\n",
        "    for key, value in self._columns.items():\n",
        "      if value == 1:\n",
        "        _projection[key] = value\n",
        "    # query database\n",
        "    self._query_dataframe = self.query_and_convert({\"$and\":_filter}, _projection, rows=self._rows)\n",
        "    clear_output()\n",
        "\n",
        "  def load_dataframe(self, split=True):\n",
        "    if self._is_retrieved is False:\n",
        "      self.query_database()\n",
        "      self._is_retrieved = True\n",
        "    # convert specific columns\n",
        "    _dataframe = self._query_dataframe.copy()\n",
        "    for key, value in self._columns.items():\n",
        "      if value == 1 and key == 'EventDate':\n",
        "        _dataframe['EventDate'] = self._query_dataframe['EventDate'].apply(lambda x: self.time_to_int_seconds(x))\n",
        "      elif value == 1 and key == 'SubjectDriverLicState':\n",
        "        _dataframe['SubjectDriverLicState'] = self._query_dataframe['SubjectDriverLicState'].apply(lambda x: self.instate_or_outofstate(x))\n",
        "      elif value == 1 and key == 'StopDescription':\n",
        "        _dataframe['StopDescription'] = self._query_dataframe['StopDescription'].apply(lambda x: self.cause_or_suspicion(x))\n",
        "      elif value == 1 and key == 'Zip':\n",
        "        _dataframe['Zip'] = self._query_dataframe['Zip'].apply(lambda x: int(x))\n",
        "      elif value == 1 and key == 'VehicleYear':\n",
        "        _dataframe['VehicleYear'] = self._query_dataframe['VehicleYear'].apply(lambda x: int(x))\n",
        "      elif value == 1 and key == 'SubjectAge':\n",
        "        _dataframe['SubjectAge'] = self._query_dataframe['SubjectAge'].apply(lambda x: int(x))\n",
        "      elif value == 1 and key == 'SubjectHeight':\n",
        "        _dataframe['SubjectHeight'] = self._query_dataframe['SubjectHeight'].apply(lambda x: int(x))\n",
        "      elif value == 1 and key == 'SubjectWeight':\n",
        "        _dataframe['SubjectWeight'] = self._query_dataframe['SubjectWeight'].apply(lambda x: int(x))\n",
        "    # split data into train and evaluate set\n",
        "    if split is True:\n",
        "      _eval_df = _dataframe.sample(frac=self._eval_percent, random_state=1234)\n",
        "      _train_df = _dataframe.drop(_eval_df.index)\n",
        "      return _train_df, _eval_df\n",
        "    return _dataframe\n",
        "\n",
        "  # convert dataframe_to_dataset \n",
        "  @staticmethod\n",
        "  def dataframe_to_dataset(dataframe, output):\n",
        "    _dataframe = dataframe.copy()\n",
        "    _labels    = _dataframe.pop(output)\n",
        "    _dataset   = tf.data.Dataset.from_tensor_slices((dict(_dataframe), _labels))\n",
        "    _dataset   = _dataset.shuffle(buffer_size=len(_dataframe))\n",
        "    return _dataset\n",
        "\n",
        "  def load_dataset(self):\n",
        "    _train_df, _eval_df = self.load_dataframe()\n",
        "    _train_ds = self.dataframe_to_dataset(_train_df, self._output)\n",
        "    _eval_ds  = self.dataframe_to_dataset(_eval_df, self._output)\n",
        "    # batch dataset\n",
        "    _train_ds = _train_ds.batch(self._batch)\n",
        "    _eval_ds  = _eval_ds.batch(self._batch)\n",
        "    return _train_ds, _eval_ds\n"
      ],
      "execution_count": 8,
      "outputs": []
    },
    {
      "cell_type": "code",
      "metadata": {
        "id": "oUHD9zoerWlm",
        "colab_type": "code",
        "colab": {}
      },
      "source": [
        "import plotly.graph_objects as go\n",
        "\n",
        "class Histogram(object):\n",
        "\n",
        "  def __init__(self, title_text, xaxis_text):\n",
        "    self._title_text = title_text\n",
        "    self._xaxis_text = xaxis_text\n",
        "\n",
        "    self._fig = go.Figure()\n",
        "    self._trace_count = 0\n",
        "    self._orange = '#FF8C00'\n",
        "    self._blue   = '#0000FF'\n",
        "\n",
        "  def _get_color(self):\n",
        "    if self._trace_count % 2 == 1:\n",
        "      return self._blue\n",
        "    if self._trace_count % 2 == 0:\n",
        "      return self._orange\n",
        "\n",
        "  def add_trace(self, data=[], label=\"\"):\n",
        "    if len(data)!=0:\n",
        "      self._trace_count = self._trace_count + 1\n",
        "      self._fig.add_trace(go.Histogram(\n",
        "          x=data,\n",
        "          # histnorm='probability density',\n",
        "          name=label,\n",
        "          marker_color=self._get_color(),\n",
        "          opacity=1\n",
        "          ))\n",
        "      self.update_layout()\n",
        "        \n",
        "  def update_layout(self):\n",
        "    self._fig.update_layout(\n",
        "        barmode='stack',\n",
        "        title=dict({\n",
        "            'text': '<b>' + self._title_text + '</b>',\n",
        "            'y':0.85,\n",
        "            'x':0.5,\n",
        "            'xanchor': 'center',\n",
        "            'yanchor': 'top',\n",
        "            'font':dict({\n",
        "                'color':\"black\",\n",
        "                'size':14})}),\n",
        "        xaxis_title_text=self._xaxis_text, \n",
        "        yaxis_title_text=\"Count\",\n",
        "        )\n",
        "    \n",
        "  def show_figure(self):\n",
        "    self._fig.show()"
      ],
      "execution_count": 13,
      "outputs": []
    },
    {
      "cell_type": "code",
      "metadata": {
        "id": "3or5__Ue_hW9",
        "colab_type": "code",
        "colab": {}
      },
      "source": [
        "import plotly.graph_objects as go\n",
        "\n",
        "class BarChart(object):\n",
        "  def __init__(self, data_df, pivot, title_text, xaxis_text):\n",
        "    self._data_df = data_df\n",
        "    self._pivot = pivot\n",
        "    self._title_text = title_text\n",
        "    self._xaxis_text = xaxis_text\n",
        "    self._colors = ['#FF8C00','#0000FF']\n",
        "    self._count = data_df[self._pivot].value_counts()\n",
        "    \n",
        "    self._fig = go.Figure(data=[go.Bar(\n",
        "        x=self._count.index,\n",
        "        y=self._count.values,\n",
        "        marker_color=colors)])\n",
        "\n",
        "    self._fig.update_layout(\n",
        "        barmode='stack',\n",
        "        title=dict({\n",
        "            'text': '<b>' + self._title_text + '</b>',\n",
        "            'y':0.85,\n",
        "            'x':0.5,\n",
        "            'xanchor': 'center',\n",
        "            'yanchor': 'top',\n",
        "            'font':dict({\n",
        "                'color':\"black\",\n",
        "                'size':14})}),\n",
        "        xaxis_title_text=self._xaxis_text, \n",
        "        yaxis_title_text=\"Count\")\n",
        "    self._fig.show()"
      ],
      "execution_count": 55,
      "outputs": []
    },
    {
      "cell_type": "markdown",
      "metadata": {
        "id": "2a6taDg5qdic",
        "colab_type": "text"
      },
      "source": [
        "### **Basic Bar Charts**"
      ]
    },
    {
      "cell_type": "markdown",
      "metadata": {
        "id": "jLLkY8lLsrQD",
        "colab_type": "text"
      },
      "source": [
        "-- Plot vehicle attributes"
      ]
    },
    {
      "cell_type": "code",
      "metadata": {
        "id": "u2q4XZpxsqEb",
        "colab_type": "code",
        "colab": {}
      },
      "source": [
        "import numpy as np\n",
        "import pandas as pd\n",
        "\n",
        "connect = Connect()\n",
        "mdb_client = connect.get_connection(\"POLICE_DATABASE\")\n",
        "mdb_client.testdb\n",
        "mdb_database = mdb_client['POLICE_DATABASE'] \n",
        "mdb_collection = mdb_database['POLICE_INTERVIEWS']\n",
        "\n",
        "# convert queries to dataframe or numpy array\n",
        "def query_and_convert(filter, projection, to=\"dataframe\"):\n",
        "  cursor    = mdb_collection.find(filter, projection)\n",
        "  dataframe = pd.DataFrame(list(cursor))\n",
        "  if to is \"dataframe\":\n",
        "    return dataframe\n",
        "  elif to is \"numpy\":\n",
        "    np_array = np.transpose(np.squeeze(dataframe.to_numpy()))\n",
        "    return np_array"
      ],
      "execution_count": 61,
      "outputs": []
    },
    {
      "cell_type": "markdown",
      "metadata": {
        "id": "lwMY0Rf9t2BD",
        "colab_type": "text"
      },
      "source": [
        "-- Plot vehicle features\n",
        "1.   *disctrict*\n",
        "2.   *zone*\n",
        "3.   *zip-code*"
      ]
    },
    {
      "cell_type": "code",
      "metadata": {
        "id": "Hlur_MPwtvZ1",
        "colab_type": "code",
        "colab": {}
      },
      "source": [
        "district = query_and_convert({\n",
        "    \"$and\":[{\"District\":{\"$exists\": True}}, \n",
        "            {\"District\":{\"$ne\": \"\"}},\n",
        "            {\"District\":{\"$ne\": None}},\n",
        "            {\"District\":{\"$ne\": 0}} ]}, \n",
        "            {\"_id\":0, \"District\" : 1}, to=\"dataframe\")\n",
        "\n",
        "dist_chart = BarChart(district, \"District\", \"District Feature\", \"Disctinct Values\")"
      ],
      "execution_count": null,
      "outputs": []
    },
    {
      "cell_type": "code",
      "metadata": {
        "id": "h1T0nuAT5_KV",
        "colab_type": "code",
        "colab": {}
      },
      "source": [
        "zone = query_and_convert({\n",
        "    \"$and\":[{\"Zone\":{\"$exists\": True}}, \n",
        "            {\"Zone\":{\"$ne\": \"\"}},\n",
        "            {\"Zone\":{\"$ne\": None}},\n",
        "            {\"Zone\":{\"$ne\": 0}} ]}, \n",
        "            {\"_id\":0, \"Zone\" : 1}, to=\"dataframe\")\n",
        "\n",
        "zone_chart = BarChart(zone, \"Zone\", \"Zone Feature\", \"Disctinct Values\")"
      ],
      "execution_count": null,
      "outputs": []
    },
    {
      "cell_type": "code",
      "metadata": {
        "id": "ELHqoEFaEnFU",
        "colab_type": "code",
        "colab": {
          "base_uri": "https://localhost:8080/",
          "height": 542
        },
        "outputId": "15255970-a923-47c9-92b5-dca4430023d1"
      },
      "source": [
        "zipcode = query_and_convert({\n",
        "    \"$and\":[{\"Zip\":{\"$exists\": True}}, \n",
        "            {\"Zip\":{\"$ne\": \"\"}},\n",
        "            {\"Zip\":{\"$ne\": None}},\n",
        "            {\"Zip\":{\"$ne\": 0}} ]}, \n",
        "            {\"_id\":0, \"Zip\" : 1}, to=\"dataframe\")\n",
        "\n",
        "zone_chart = BarChart(zipcode, \"Zip\", \"Zip Code Feature\", \"Disctinct Values\")"
      ],
      "execution_count": 71,
      "outputs": [
        {
          "output_type": "display_data",
          "data": {
            "text/html": [
              "<html>\n",
              "<head><meta charset=\"utf-8\" /></head>\n",
              "<body>\n",
              "    <div>\n",
              "            <script src=\"https://cdnjs.cloudflare.com/ajax/libs/mathjax/2.7.5/MathJax.js?config=TeX-AMS-MML_SVG\"></script><script type=\"text/javascript\">if (window.MathJax) {MathJax.Hub.Config({SVG: {font: \"STIX-Web\"}});}</script>\n",
              "                <script type=\"text/javascript\">window.PlotlyConfig = {MathJaxConfig: 'local'};</script>\n",
              "        <script src=\"https://cdn.plot.ly/plotly-latest.min.js\"></script>    \n",
              "            <div id=\"4b82a86b-2657-405e-b6c3-54d66200ba7f\" class=\"plotly-graph-div\" style=\"height:525px; width:100%;\"></div>\n",
              "            <script type=\"text/javascript\">\n",
              "                \n",
              "                    window.PLOTLYENV=window.PLOTLYENV || {};\n",
              "                    \n",
              "                if (document.getElementById(\"4b82a86b-2657-405e-b6c3-54d66200ba7f\")) {\n",
              "                    Plotly.newPlot(\n",
              "                        '4b82a86b-2657-405e-b6c3-54d66200ba7f',\n",
              "                        [{\"marker\": {\"color\": [\"#FF8C00\", \"#0000FF\"]}, \"type\": \"bar\", \"x\": [70130.0, 70119.0, 70126.0, 70117.0, 70116.0, 70112.0, 70125.0, 70114.0, 70122.0, 70118.0, 70113.0, 70115.0, 70127.0, 70124.0, 70131.0, 70128.0, 70129.0, 70148.0], \"y\": [48672, 47439, 41412, 40368, 37474, 35225, 34104, 31363, 30413, 25490, 24934, 23132, 17065, 16077, 12894, 8118, 4043, 890]}],\n",
              "                        {\"barmode\": \"stack\", \"template\": {\"data\": {\"bar\": [{\"error_x\": {\"color\": \"#2a3f5f\"}, \"error_y\": {\"color\": \"#2a3f5f\"}, \"marker\": {\"line\": {\"color\": \"#E5ECF6\", \"width\": 0.5}}, \"type\": \"bar\"}], \"barpolar\": [{\"marker\": {\"line\": {\"color\": \"#E5ECF6\", \"width\": 0.5}}, \"type\": \"barpolar\"}], \"carpet\": [{\"aaxis\": {\"endlinecolor\": \"#2a3f5f\", \"gridcolor\": \"white\", \"linecolor\": \"white\", \"minorgridcolor\": \"white\", \"startlinecolor\": \"#2a3f5f\"}, \"baxis\": {\"endlinecolor\": \"#2a3f5f\", \"gridcolor\": \"white\", \"linecolor\": \"white\", \"minorgridcolor\": \"white\", \"startlinecolor\": \"#2a3f5f\"}, \"type\": \"carpet\"}], \"choropleth\": [{\"colorbar\": {\"outlinewidth\": 0, \"ticks\": \"\"}, \"type\": \"choropleth\"}], \"contour\": [{\"colorbar\": {\"outlinewidth\": 0, \"ticks\": \"\"}, \"colorscale\": [[0.0, \"#0d0887\"], [0.1111111111111111, \"#46039f\"], [0.2222222222222222, \"#7201a8\"], [0.3333333333333333, \"#9c179e\"], [0.4444444444444444, \"#bd3786\"], [0.5555555555555556, \"#d8576b\"], [0.6666666666666666, \"#ed7953\"], [0.7777777777777778, \"#fb9f3a\"], [0.8888888888888888, \"#fdca26\"], [1.0, \"#f0f921\"]], \"type\": \"contour\"}], \"contourcarpet\": [{\"colorbar\": {\"outlinewidth\": 0, \"ticks\": \"\"}, \"type\": \"contourcarpet\"}], \"heatmap\": [{\"colorbar\": {\"outlinewidth\": 0, \"ticks\": \"\"}, \"colorscale\": [[0.0, \"#0d0887\"], [0.1111111111111111, \"#46039f\"], [0.2222222222222222, \"#7201a8\"], [0.3333333333333333, \"#9c179e\"], [0.4444444444444444, \"#bd3786\"], [0.5555555555555556, \"#d8576b\"], [0.6666666666666666, \"#ed7953\"], [0.7777777777777778, \"#fb9f3a\"], [0.8888888888888888, \"#fdca26\"], [1.0, \"#f0f921\"]], \"type\": \"heatmap\"}], \"heatmapgl\": [{\"colorbar\": {\"outlinewidth\": 0, \"ticks\": \"\"}, \"colorscale\": [[0.0, \"#0d0887\"], [0.1111111111111111, \"#46039f\"], [0.2222222222222222, \"#7201a8\"], [0.3333333333333333, \"#9c179e\"], [0.4444444444444444, \"#bd3786\"], [0.5555555555555556, \"#d8576b\"], [0.6666666666666666, \"#ed7953\"], [0.7777777777777778, \"#fb9f3a\"], [0.8888888888888888, \"#fdca26\"], [1.0, \"#f0f921\"]], \"type\": \"heatmapgl\"}], \"histogram\": [{\"marker\": {\"colorbar\": {\"outlinewidth\": 0, \"ticks\": \"\"}}, \"type\": \"histogram\"}], \"histogram2d\": [{\"colorbar\": {\"outlinewidth\": 0, \"ticks\": \"\"}, \"colorscale\": [[0.0, \"#0d0887\"], [0.1111111111111111, \"#46039f\"], [0.2222222222222222, \"#7201a8\"], [0.3333333333333333, \"#9c179e\"], [0.4444444444444444, \"#bd3786\"], [0.5555555555555556, \"#d8576b\"], [0.6666666666666666, \"#ed7953\"], [0.7777777777777778, \"#fb9f3a\"], [0.8888888888888888, \"#fdca26\"], [1.0, \"#f0f921\"]], \"type\": \"histogram2d\"}], \"histogram2dcontour\": [{\"colorbar\": {\"outlinewidth\": 0, \"ticks\": \"\"}, \"colorscale\": [[0.0, \"#0d0887\"], [0.1111111111111111, \"#46039f\"], [0.2222222222222222, \"#7201a8\"], [0.3333333333333333, \"#9c179e\"], [0.4444444444444444, \"#bd3786\"], [0.5555555555555556, \"#d8576b\"], [0.6666666666666666, \"#ed7953\"], [0.7777777777777778, \"#fb9f3a\"], [0.8888888888888888, \"#fdca26\"], [1.0, \"#f0f921\"]], \"type\": \"histogram2dcontour\"}], \"mesh3d\": [{\"colorbar\": {\"outlinewidth\": 0, \"ticks\": \"\"}, \"type\": \"mesh3d\"}], \"parcoords\": [{\"line\": {\"colorbar\": {\"outlinewidth\": 0, \"ticks\": \"\"}}, \"type\": \"parcoords\"}], \"pie\": [{\"automargin\": true, \"type\": \"pie\"}], \"scatter\": [{\"marker\": {\"colorbar\": {\"outlinewidth\": 0, \"ticks\": \"\"}}, \"type\": \"scatter\"}], \"scatter3d\": [{\"line\": {\"colorbar\": {\"outlinewidth\": 0, \"ticks\": \"\"}}, \"marker\": {\"colorbar\": {\"outlinewidth\": 0, \"ticks\": \"\"}}, \"type\": \"scatter3d\"}], \"scattercarpet\": [{\"marker\": {\"colorbar\": {\"outlinewidth\": 0, \"ticks\": \"\"}}, \"type\": \"scattercarpet\"}], \"scattergeo\": [{\"marker\": {\"colorbar\": {\"outlinewidth\": 0, \"ticks\": \"\"}}, \"type\": \"scattergeo\"}], \"scattergl\": [{\"marker\": {\"colorbar\": {\"outlinewidth\": 0, \"ticks\": \"\"}}, \"type\": \"scattergl\"}], \"scattermapbox\": [{\"marker\": {\"colorbar\": {\"outlinewidth\": 0, \"ticks\": \"\"}}, \"type\": \"scattermapbox\"}], \"scatterpolar\": [{\"marker\": {\"colorbar\": {\"outlinewidth\": 0, \"ticks\": \"\"}}, \"type\": \"scatterpolar\"}], \"scatterpolargl\": [{\"marker\": {\"colorbar\": {\"outlinewidth\": 0, \"ticks\": \"\"}}, \"type\": \"scatterpolargl\"}], \"scatterternary\": [{\"marker\": {\"colorbar\": {\"outlinewidth\": 0, \"ticks\": \"\"}}, \"type\": \"scatterternary\"}], \"surface\": [{\"colorbar\": {\"outlinewidth\": 0, \"ticks\": \"\"}, \"colorscale\": [[0.0, \"#0d0887\"], [0.1111111111111111, \"#46039f\"], [0.2222222222222222, \"#7201a8\"], [0.3333333333333333, \"#9c179e\"], [0.4444444444444444, \"#bd3786\"], [0.5555555555555556, \"#d8576b\"], [0.6666666666666666, \"#ed7953\"], [0.7777777777777778, \"#fb9f3a\"], [0.8888888888888888, \"#fdca26\"], [1.0, \"#f0f921\"]], \"type\": \"surface\"}], \"table\": [{\"cells\": {\"fill\": {\"color\": \"#EBF0F8\"}, \"line\": {\"color\": \"white\"}}, \"header\": {\"fill\": {\"color\": \"#C8D4E3\"}, \"line\": {\"color\": \"white\"}}, \"type\": \"table\"}]}, \"layout\": {\"annotationdefaults\": {\"arrowcolor\": \"#2a3f5f\", \"arrowhead\": 0, \"arrowwidth\": 1}, \"coloraxis\": {\"colorbar\": {\"outlinewidth\": 0, \"ticks\": \"\"}}, \"colorscale\": {\"diverging\": [[0, \"#8e0152\"], [0.1, \"#c51b7d\"], [0.2, \"#de77ae\"], [0.3, \"#f1b6da\"], [0.4, \"#fde0ef\"], [0.5, \"#f7f7f7\"], [0.6, \"#e6f5d0\"], [0.7, \"#b8e186\"], [0.8, \"#7fbc41\"], [0.9, \"#4d9221\"], [1, \"#276419\"]], \"sequential\": [[0.0, \"#0d0887\"], [0.1111111111111111, \"#46039f\"], [0.2222222222222222, \"#7201a8\"], [0.3333333333333333, \"#9c179e\"], [0.4444444444444444, \"#bd3786\"], [0.5555555555555556, \"#d8576b\"], [0.6666666666666666, \"#ed7953\"], [0.7777777777777778, \"#fb9f3a\"], [0.8888888888888888, \"#fdca26\"], [1.0, \"#f0f921\"]], \"sequentialminus\": [[0.0, \"#0d0887\"], [0.1111111111111111, \"#46039f\"], [0.2222222222222222, \"#7201a8\"], [0.3333333333333333, \"#9c179e\"], [0.4444444444444444, \"#bd3786\"], [0.5555555555555556, \"#d8576b\"], [0.6666666666666666, \"#ed7953\"], [0.7777777777777778, \"#fb9f3a\"], [0.8888888888888888, \"#fdca26\"], [1.0, \"#f0f921\"]]}, \"colorway\": [\"#636efa\", \"#EF553B\", \"#00cc96\", \"#ab63fa\", \"#FFA15A\", \"#19d3f3\", \"#FF6692\", \"#B6E880\", \"#FF97FF\", \"#FECB52\"], \"font\": {\"color\": \"#2a3f5f\"}, \"geo\": {\"bgcolor\": \"white\", \"lakecolor\": \"white\", \"landcolor\": \"#E5ECF6\", \"showlakes\": true, \"showland\": true, \"subunitcolor\": \"white\"}, \"hoverlabel\": {\"align\": \"left\"}, \"hovermode\": \"closest\", \"mapbox\": {\"style\": \"light\"}, \"paper_bgcolor\": \"white\", \"plot_bgcolor\": \"#E5ECF6\", \"polar\": {\"angularaxis\": {\"gridcolor\": \"white\", \"linecolor\": \"white\", \"ticks\": \"\"}, \"bgcolor\": \"#E5ECF6\", \"radialaxis\": {\"gridcolor\": \"white\", \"linecolor\": \"white\", \"ticks\": \"\"}}, \"scene\": {\"xaxis\": {\"backgroundcolor\": \"#E5ECF6\", \"gridcolor\": \"white\", \"gridwidth\": 2, \"linecolor\": \"white\", \"showbackground\": true, \"ticks\": \"\", \"zerolinecolor\": \"white\"}, \"yaxis\": {\"backgroundcolor\": \"#E5ECF6\", \"gridcolor\": \"white\", \"gridwidth\": 2, \"linecolor\": \"white\", \"showbackground\": true, \"ticks\": \"\", \"zerolinecolor\": \"white\"}, \"zaxis\": {\"backgroundcolor\": \"#E5ECF6\", \"gridcolor\": \"white\", \"gridwidth\": 2, \"linecolor\": \"white\", \"showbackground\": true, \"ticks\": \"\", \"zerolinecolor\": \"white\"}}, \"shapedefaults\": {\"line\": {\"color\": \"#2a3f5f\"}}, \"ternary\": {\"aaxis\": {\"gridcolor\": \"white\", \"linecolor\": \"white\", \"ticks\": \"\"}, \"baxis\": {\"gridcolor\": \"white\", \"linecolor\": \"white\", \"ticks\": \"\"}, \"bgcolor\": \"#E5ECF6\", \"caxis\": {\"gridcolor\": \"white\", \"linecolor\": \"white\", \"ticks\": \"\"}}, \"title\": {\"x\": 0.05}, \"xaxis\": {\"automargin\": true, \"gridcolor\": \"white\", \"linecolor\": \"white\", \"ticks\": \"\", \"title\": {\"standoff\": 15}, \"zerolinecolor\": \"white\", \"zerolinewidth\": 2}, \"yaxis\": {\"automargin\": true, \"gridcolor\": \"white\", \"linecolor\": \"white\", \"ticks\": \"\", \"title\": {\"standoff\": 15}, \"zerolinecolor\": \"white\", \"zerolinewidth\": 2}}}, \"title\": {\"font\": {\"color\": \"black\", \"size\": 14}, \"text\": \"<b>Zip Code Feature</b>\", \"x\": 0.5, \"xanchor\": \"center\", \"y\": 0.85, \"yanchor\": \"top\"}, \"xaxis\": {\"title\": {\"text\": \"Disctinct Values\"}}, \"yaxis\": {\"title\": {\"text\": \"Count\"}}},\n",
              "                        {\"responsive\": true}\n",
              "                    ).then(function(){\n",
              "                            \n",
              "var gd = document.getElementById('4b82a86b-2657-405e-b6c3-54d66200ba7f');\n",
              "var x = new MutationObserver(function (mutations, observer) {{\n",
              "        var display = window.getComputedStyle(gd).display;\n",
              "        if (!display || display === 'none') {{\n",
              "            console.log([gd, 'removed!']);\n",
              "            Plotly.purge(gd);\n",
              "            observer.disconnect();\n",
              "        }}\n",
              "}});\n",
              "\n",
              "// Listen for the removal of the full notebook cells\n",
              "var notebookContainer = gd.closest('#notebook-container');\n",
              "if (notebookContainer) {{\n",
              "    x.observe(notebookContainer, {childList: true});\n",
              "}}\n",
              "\n",
              "// Listen for the clearing of the current output cell\n",
              "var outputEl = gd.closest('.output');\n",
              "if (outputEl) {{\n",
              "    x.observe(outputEl, {childList: true});\n",
              "}}\n",
              "\n",
              "                        })\n",
              "                };\n",
              "                \n",
              "            </script>\n",
              "        </div>\n",
              "</body>\n",
              "</html>"
            ]
          },
          "metadata": {
            "tags": []
          }
        }
      ]
    },
    {
      "cell_type": "code",
      "metadata": {
        "id": "ahg1kEC_C6E8",
        "colab_type": "code",
        "colab": {
          "base_uri": "https://localhost:8080/",
          "height": 521
        },
        "outputId": "6611af9c-d4cb-40cd-e169-7171d9c001e5"
      },
      "source": [
        "for x in mdb_collection.find_one():\n",
        "  print(x)"
      ],
      "execution_count": 67,
      "outputs": [
        {
          "output_type": "stream",
          "text": [
            "_id\n",
            "FieldInterviewID\n",
            "NOPD_Item\n",
            "EventDate\n",
            "District\n",
            "Zone\n",
            "OfficerAssignment\n",
            "StopDescription\n",
            "ActionsTaken\n",
            "VehicleYear\n",
            "VehicleMake\n",
            "VehicleModel\n",
            "VehicleStyle\n",
            "VehicleColor\n",
            "SubjectID\n",
            "SubjectRace\n",
            "SubjectGender\n",
            "SubjectAge\n",
            "SubjectHasPhotoID\n",
            "SubjectHeight\n",
            "SubjectWeight\n",
            "SubjectEyeColor\n",
            "SubjectHairColor\n",
            "SubjectDriverLicState\n",
            "CreatedDateTime\n",
            "LastModifiedDateTime\n",
            "Longitude\n",
            "Latitude\n",
            "Zip\n",
            "BlockAddress\n"
          ],
          "name": "stdout"
        }
      ]
    },
    {
      "cell_type": "code",
      "metadata": {
        "id": "mXM14F7hybx2",
        "colab_type": "code",
        "colab": {}
      },
      "source": [
        "disctrict = query_and_convert({\n",
        "    \"$and\":[{\"District\":{\"$exists\": True}}, \n",
        "            {\"District\":{\"$ne\": \"\"}},\n",
        "            {\"District\":{\"$ne\": None}},\n",
        "            {\"District\":{\"$ne\": 0}} ]}, \n",
        "            {\"_id\":0, \"District\" : 1}, to=\"numpy\")\n",
        "\n",
        "hist = Histogram(\"Disctrict Feature\", \"Unique Disctrict Values\")\n",
        "hist.add_trace(data=disctrict, label=\"Disctrict\")\n",
        "hist.show_figure()"
      ],
      "execution_count": null,
      "outputs": []
    },
    {
      "cell_type": "markdown",
      "metadata": {
        "id": "bSQESuZWnJwz",
        "colab_type": "text"
      },
      "source": [
        "-- Define the working features"
      ]
    },
    {
      "cell_type": "code",
      "metadata": {
        "id": "vpTjFH8TnOx7",
        "colab_type": "code",
        "colab": {}
      },
      "source": [
        "# select columns\n",
        "columns = dict({\n",
        "    'FieldInterviewID':0,     \n",
        "    'NOPD_Item':0,            \n",
        "    'EventDate':1,            \n",
        "    'District':1,             \n",
        "    'Zone':1,                 \n",
        "    'OfficerAssignment':0, \n",
        "    'StopDescription':1, \n",
        "    'ActionsTaken':0, \n",
        "    'VehicleYear':1, \n",
        "    'VehicleMake':1, \n",
        "    'VehicleModel':1, \n",
        "    'VehicleStyle':1, \n",
        "    'VehicleColor':1, \n",
        "    'SubjectID':0, \n",
        "    'SubjectRace':1, \n",
        "    'SubjectGender':1, \n",
        "    'SubjectAge':1, \n",
        "    'SubjectHasPhotoID':0, \n",
        "    'SubjectHeight':1, \n",
        "    'SubjectWeight':1, \n",
        "    'SubjectEyeColor':0, \n",
        "    'SubjectHairColor':1, \n",
        "    'SubjectDriverLicState':1, \n",
        "    'CreatedDateTime':0, \n",
        "    'LastModifiedDateTime':0, \n",
        "    'Longitude':1, \n",
        "    'Latitude':1, \n",
        "    'Zip':1, \n",
        "    'BlockAddress':0})\n",
        "\n",
        "# use small num_rows for demos\n",
        "police_interviews = PoliceInterviews(columns, num_rows=None, output=\"StopDescription\", eval_percent=0.2, batch=25)"
      ],
      "execution_count": 3,
      "outputs": []
    },
    {
      "cell_type": "markdown",
      "metadata": {
        "id": "ui3ldw40nrZF",
        "colab_type": "text"
      },
      "source": [
        "-- Load dtaframe"
      ]
    },
    {
      "cell_type": "code",
      "metadata": {
        "id": "hJmgkhwLnuaM",
        "colab_type": "code",
        "colab": {
          "base_uri": "https://localhost:8080/",
          "height": 374
        },
        "outputId": "1ae8237a-12db-4ac2-b1b2-d491f570447d"
      },
      "source": [
        "train_df, eval_df = police_interviews.load_dataframe()\n",
        "print('{:<25} {} \\n'.format(\"Column Name\", \"Sample\"))\n",
        "for (column_name, column_data) in train_df.iteritems():\n",
        "  print('{:<25} {}'.format(column_name, column_data[0]))"
      ],
      "execution_count": 12,
      "outputs": [
        {
          "output_type": "stream",
          "text": [
            "Column Name               Sample \n",
            "\n",
            "EventDate                 34500\n",
            "District                  7\n",
            "Zone                      O\n",
            "StopDescription           0\n",
            "VehicleYear               1997\n",
            "VehicleMake               CHEVROLET\n",
            "VehicleModel              TAHOE\n",
            "VehicleStyle              SPORTS UTILITY\n",
            "VehicleColor              BLUE\n",
            "SubjectRace               BLACK\n",
            "SubjectGender             MALE\n",
            "SubjectAge                21\n",
            "SubjectHeight             72\n",
            "SubjectWeight             169\n",
            "SubjectHairColor          Black\n",
            "SubjectDriverLicState     1\n",
            "Longitude                 -89.9887508371\n",
            "Latitude                  30.0355783772\n",
            "Zip                       70127\n"
          ],
          "name": "stdout"
        }
      ]
    },
    {
      "cell_type": "markdown",
      "metadata": {
        "id": "Rw3rwW7KrxsM",
        "colab_type": "text"
      },
      "source": [
        "-- Plot "
      ]
    },
    {
      "cell_type": "code",
      "metadata": {
        "id": "BEMUvzGurxBk",
        "colab_type": "code",
        "colab": {}
      },
      "source": [
        ""
      ],
      "execution_count": null,
      "outputs": []
    }
  ]
}