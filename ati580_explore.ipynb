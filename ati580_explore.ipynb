{
  "nbformat": 4,
  "nbformat_minor": 0,
  "metadata": {
    "colab": {
      "name": "Untitled0.ipynb",
      "provenance": [],
      "authorship_tag": "ABX9TyPyQswku9xqKTvB3yIxdpbi",
      "include_colab_link": true
    },
    "kernelspec": {
      "name": "python3",
      "display_name": "Python 3"
    }
  },
  "cells": [
    {
      "cell_type": "markdown",
      "metadata": {
        "id": "view-in-github",
        "colab_type": "text"
      },
      "source": [
        "<a href=\"https://colab.research.google.com/github/uninstallit/ati580_final_project/blob/edvin-1/ati580_explore.ipynb\" target=\"_parent\"><img src=\"https://colab.research.google.com/assets/colab-badge.svg\" alt=\"Open In Colab\"/></a>"
      ]
    },
    {
      "cell_type": "markdown",
      "metadata": {
        "id": "ToShc9mpR2LO",
        "colab_type": "text"
      },
      "source": [
        "### **Initial Setup**"
      ]
    },
    {
      "cell_type": "markdown",
      "metadata": {
        "id": "FM3B6zzekF4r",
        "colab_type": "text"
      },
      "source": [
        "-- Mount to google drive to load csv"
      ]
    },
    {
      "cell_type": "code",
      "metadata": {
        "id": "9y8Y97PHR0wS",
        "colab_type": "code",
        "colab": {}
      },
      "source": [
        "from google.colab import drive\n",
        "drive.mount('/content/gdrive')"
      ],
      "execution_count": null,
      "outputs": []
    },
    {
      "cell_type": "markdown",
      "metadata": {
        "id": "fvWYGTdaks6j",
        "colab_type": "text"
      },
      "source": [
        "-- Save libraries list in .txt "
      ]
    },
    {
      "cell_type": "code",
      "metadata": {
        "id": "g_luGkN_krlT",
        "colab_type": "code",
        "colab": {}
      },
      "source": [
        "# pip freeze --local > /content/gdrive/My\\ Drive/colab_installed.txt"
      ],
      "execution_count": null,
      "outputs": []
    },
    {
      "cell_type": "markdown",
      "metadata": {
        "id": "Ff4uNqU_lLyd",
        "colab_type": "text"
      },
      "source": [
        "-- Install libraries from .txt list"
      ]
    },
    {
      "cell_type": "code",
      "metadata": {
        "id": "LhYxaNT0lTVb",
        "colab_type": "code",
        "colab": {}
      },
      "source": [
        "# pip install --upgrade --force-reinstall `cat/content/gdrive/My\\ Drive/colab_installed.txt`"
      ],
      "execution_count": null,
      "outputs": []
    },
    {
      "cell_type": "markdown",
      "metadata": {
        "id": "8_N0qy5ckTqT",
        "colab_type": "text"
      },
      "source": [
        "-- Load the clean database"
      ]
    },
    {
      "cell_type": "code",
      "metadata": {
        "id": "VsdYvtVhkAhG",
        "colab_type": "code",
        "colab": {}
      },
      "source": [
        "# db.drop_collection('addressbook')\n",
        "# data.reset_index(inplace=True)\n",
        "# data_dict = data.to_dict(\"records\")\n",
        "# collection.insert_many(data_dict)"
      ],
      "execution_count": null,
      "outputs": []
    },
    {
      "cell_type": "markdown",
      "metadata": {
        "id": "7iPA6revmP_W",
        "colab_type": "text"
      },
      "source": [
        "### **Framework**"
      ]
    },
    {
      "cell_type": "code",
      "metadata": {
        "id": "nt5zBvObqMRV",
        "colab_type": "code",
        "colab": {}
      },
      "source": [
        "pip install dnspython"
      ],
      "execution_count": null,
      "outputs": []
    },
    {
      "cell_type": "markdown",
      "metadata": {
        "id": "PFxlBrlDmzRL",
        "colab_type": "text"
      },
      "source": [
        "-- Create classes"
      ]
    },
    {
      "cell_type": "code",
      "metadata": {
        "id": "EahBpYCbn6UU",
        "colab_type": "code",
        "colab": {}
      },
      "source": [
        "from pymongo import MongoClient\n",
        "\n",
        "class Connect(object):\n",
        "\n",
        "  @staticmethod    \n",
        "  def get_connection(database):\n",
        "    username = \"mdbUser\"\n",
        "    password = \"ati580\"\n",
        "    return MongoClient('mongodb+srv://{}:{}@ati580-cluster.s5t5z.gcp.mongodb.net/{}?retryWrites=true&w=majority'.format(username, password, database))"
      ],
      "execution_count": 1,
      "outputs": []
    },
    {
      "cell_type": "code",
      "metadata": {
        "id": "gIRPz4Cvmajb",
        "colab_type": "code",
        "colab": {}
      },
      "source": [
        "from IPython.display import clear_output\n",
        "import tensorflow as tf\n",
        "import pandas as pd\n",
        "import numpy as np\n",
        "import pymongo\n",
        "import datetime\n",
        "\n",
        "class PoliceInterviews(object):\n",
        "\n",
        "  def __init__(self, selected, num_rows, output, eval_percent, batch):\n",
        "    self._columns = selected\n",
        "    self._rows = num_rows\n",
        "    # data model attributes\n",
        "    self._output = output\n",
        "    self._eval_percent = eval_percent\n",
        "    self._batch = batch\n",
        "    self._query_dataframe = pd.DataFrame([])\n",
        "    # connect to database\n",
        "    self._connect = Connect()\n",
        "    self._mdb_client = self._connect.get_connection(\"POLICE_DATABASE\")\n",
        "    self._mdb_database = self._mdb_client['POLICE_DATABASE'] \n",
        "    self._mdb_collection = self._mdb_database['POLICE_INTERVIEWS']\n",
        "    self._is_retrieved = False \n",
        "\n",
        "  # convert queries to dataframe or numpy array\n",
        "  def query_and_convert(self, filter, projection, to=\"dataframe\", rows=None):\n",
        "    if rows is not None:\n",
        "      _cursor = self._mdb_collection.find(filter, projection).limit(rows)\n",
        "    else:\n",
        "      _cursor = self._mdb_collection.find(filter, projection)\n",
        "    _dataframe = pd.DataFrame(list(_cursor))\n",
        "    if to == \"dataframe\":\n",
        "      return _dataframe\n",
        "    elif to == \"numpy\":\n",
        "      _np_array = np.transpose(np.squeeze(_dataframe.to_numpy()))\n",
        "      return _np_array\n",
        "  \n",
        "  # convert time to seconds \n",
        "  @staticmethod\n",
        "  def time_to_int_seconds(datetime_str):\n",
        "    time = datetime.datetime.strptime(datetime_str, '%m/%d/%Y %H:%M:%S %p').time()\n",
        "    [hours, minutes, seconds] = [int(t) for t in str(time).split(':')]\n",
        "    return datetime.timedelta(hours=hours, minutes=minutes, seconds=seconds).seconds\n",
        "\n",
        "  # convert license tag to binary\n",
        "  @staticmethod\n",
        "  def instate_or_outofstate(license):\n",
        "    if license == \"LA\":\n",
        "      return 1\n",
        "    return 0\n",
        "\n",
        "  # convert stop description to binary\n",
        "  @staticmethod\n",
        "  def cause_or_suspicion(description):\n",
        "    _probable_cause_list = [\"CRIMINAL VIOLATION\", \"JUVENILE VIOLATION\", \"TRAFFIC VIOLATION\"]\n",
        "    if description in _probable_cause_list:\n",
        "      return 0\n",
        "    return 1\n",
        "\n",
        "  def query_database(self):\n",
        "    print(\"Pulling data ...\")\n",
        "    _filter = []\n",
        "    _projection = dict({'_id':0})\n",
        "    # create filter\n",
        "    for key, value in self._columns.items():\n",
        "      if value == 1:\n",
        "        _filter.append({key:{\"$exists\": True}})\n",
        "        _filter.append({key:{\"$ne\": \"\"}})\n",
        "        _filter.append({key:{\"$ne\": None}})\n",
        "        _filter.append({key:{\"$ne\": 0}})\n",
        "    # create projection\n",
        "    for key, value in self._columns.items():\n",
        "      if value == 1:\n",
        "        _projection[key] = value\n",
        "    # query database\n",
        "    self._query_dataframe = self.query_and_convert({\"$and\":_filter}, _projection, rows=self._rows)\n",
        "    clear_output()\n",
        "\n",
        "  def load_dataframe(self, split=True):\n",
        "    if self._is_retrieved is False:\n",
        "      self.query_database()\n",
        "      self._is_retrieved = True\n",
        "    # convert specific columns\n",
        "    _dataframe = self._query_dataframe.copy()\n",
        "    for key, value in self._columns.items():\n",
        "      if value == 1 and key == 'EventDate':\n",
        "        _dataframe['EventDate'] = self._query_dataframe['EventDate'].apply(lambda x: self.time_to_int_seconds(x))\n",
        "      elif value == 1 and key == 'SubjectDriverLicState':\n",
        "        _dataframe['SubjectDriverLicState'] = self._query_dataframe['SubjectDriverLicState'].apply(lambda x: self.instate_or_outofstate(x))\n",
        "      elif value == 1 and key == 'StopDescription':\n",
        "        _dataframe['StopDescription'] = self._query_dataframe['StopDescription'].apply(lambda x: self.cause_or_suspicion(x))\n",
        "      elif value == 1 and key == 'Zip':\n",
        "        _dataframe['Zip'] = self._query_dataframe['Zip'].apply(lambda x: int(x))\n",
        "      elif value == 1 and key == 'VehicleYear':\n",
        "        _dataframe['VehicleYear'] = self._query_dataframe['VehicleYear'].apply(lambda x: int(x))\n",
        "      elif value == 1 and key == 'SubjectAge':\n",
        "        _dataframe['SubjectAge'] = self._query_dataframe['SubjectAge'].apply(lambda x: int(x))\n",
        "      elif value == 1 and key == 'SubjectHeight':\n",
        "        _dataframe['SubjectHeight'] = self._query_dataframe['SubjectHeight'].apply(lambda x: int(x))\n",
        "      elif value == 1 and key == 'SubjectWeight':\n",
        "        _dataframe['SubjectWeight'] = self._query_dataframe['SubjectWeight'].apply(lambda x: int(x))\n",
        "    # split data into train and evaluate set\n",
        "    if split is True:\n",
        "      _eval_df = _dataframe.sample(frac=self._eval_percent, random_state=1234)\n",
        "      _train_df = _dataframe.drop(_eval_df.index)\n",
        "      return _train_df, _eval_df\n",
        "    return _dataframe\n",
        "\n",
        "  # convert dataframe_to_dataset \n",
        "  @staticmethod\n",
        "  def dataframe_to_dataset(dataframe, output):\n",
        "    _dataframe = dataframe.copy()\n",
        "    _labels    = _dataframe.pop(output)\n",
        "    _dataset   = tf.data.Dataset.from_tensor_slices((dict(_dataframe), _labels))\n",
        "    _dataset   = _dataset.shuffle(buffer_size=len(_dataframe))\n",
        "    return _dataset\n",
        "\n",
        "  def load_dataset(self):\n",
        "    _train_df, _eval_df = self.load_dataframe()\n",
        "    _train_ds = self.dataframe_to_dataset(_train_df, self._output)\n",
        "    _eval_ds  = self.dataframe_to_dataset(_eval_df, self._output)\n",
        "    # batch dataset\n",
        "    _train_ds = _train_ds.batch(self._batch)\n",
        "    _eval_ds  = _eval_ds.batch(self._batch)\n",
        "    return _train_ds, _eval_ds\n"
      ],
      "execution_count": 2,
      "outputs": []
    },
    {
      "cell_type": "code",
      "metadata": {
        "id": "oUHD9zoerWlm",
        "colab_type": "code",
        "colab": {}
      },
      "source": [
        "import plotly.graph_objects as go\n",
        "\n",
        "class Histogram(object):\n",
        "\n",
        "  def __init__(self, title_text, xaxis_text):\n",
        "    self._title_text = title_text\n",
        "    self._xaxis_text = xaxis_text\n",
        "\n",
        "    self._fig = go.Figure()\n",
        "    self._trace_count = 0\n",
        "    self._orange = '#FF8C00'\n",
        "    self._blue   = '#0000FF'\n",
        "\n",
        "  def _get_color(self):\n",
        "    if self._trace_count % 2 == 1:\n",
        "      return self._orange\n",
        "    if self._trace_count % 2 == 0:\n",
        "      return self._blue\n",
        "\n",
        "  def add_trace(self, data=[], label=\"\"):\n",
        "    if len(data)!=0:\n",
        "      self._trace_count = self._trace_count + 1\n",
        "      self._fig.add_trace(go.Histogram(\n",
        "          x=data,\n",
        "          # histnorm='probability density',\n",
        "          name=label,\n",
        "          marker_color=self._get_color(),\n",
        "          opacity=1\n",
        "          ))\n",
        "      self.update_layout()\n",
        "        \n",
        "  def update_layout(self):\n",
        "    self._fig.update_layout(\n",
        "        barmode='stack',\n",
        "        title=dict({\n",
        "            'text': '<b>' + self._title_text + '</b>',\n",
        "            'y':0.85,\n",
        "            'x':0.5,\n",
        "            'xanchor': 'center',\n",
        "            'yanchor': 'top',\n",
        "            'font':dict({\n",
        "                'color':\"black\",\n",
        "                'size':14})}),\n",
        "        xaxis_title_text=self._xaxis_text, \n",
        "        yaxis_title_text=\"Count\",\n",
        "        )\n",
        "    \n",
        "  def show_figure(self):\n",
        "    self._fig.show()"
      ],
      "execution_count": 6,
      "outputs": []
    },
    {
      "cell_type": "markdown",
      "metadata": {
        "id": "2a6taDg5qdic",
        "colab_type": "text"
      },
      "source": [
        "### **Data Exploration**"
      ]
    },
    {
      "cell_type": "markdown",
      "metadata": {
        "id": "jLLkY8lLsrQD",
        "colab_type": "text"
      },
      "source": [
        "-- Plot vehicle attributes"
      ]
    },
    {
      "cell_type": "code",
      "metadata": {
        "id": "u2q4XZpxsqEb",
        "colab_type": "code",
        "colab": {}
      },
      "source": [
        "import numpy as np\n",
        "import pandas as pd\n",
        "\n",
        "# convert queries to dataframe or numpy array\n",
        "def query_and_convert(filter, projection, to=\"dataframe\"):\n",
        "  cursor    = mdb_collection.find(filter, projection)\n",
        "  dataframe = pd.DataFrame(list(cursor))\n",
        "  if to is \"dataframe\":\n",
        "    return dataframe\n",
        "  elif to is \"numpy\":\n",
        "    np_array = np.transpose(np.squeeze(dataframe.to_numpy()))\n",
        "    return np_array\n",
        "\n",
        "connect = Connect()\n",
        "mdb_client = connect.get_connection(\"POLICE_DATABASE\")\n",
        "mdb_client.testdb\n",
        "mdb_database = mdb_client['POLICE_DATABASE'] \n",
        "mdb_collection = mdb_database['POLICE_INTERVIEWS']"
      ],
      "execution_count": 9,
      "outputs": []
    },
    {
      "cell_type": "markdown",
      "metadata": {
        "id": "lwMY0Rf9t2BD",
        "colab_type": "text"
      },
      "source": [
        "-- Plot vehicle features\n",
        "1.   *disctrict*\n",
        "2.   *zone*\n",
        "3.   *subject* \n",
        "4.   *zip-code*"
      ]
    },
    {
      "cell_type": "code",
      "metadata": {
        "id": "Hlur_MPwtvZ1",
        "colab_type": "code",
        "colab": {}
      },
      "source": [
        "black = query_and_convert({\n",
        "    \"$and\":[{\"SubjectRace\":{\"$exists\": True}}, \n",
        "            {\"SubjectRace\":{\"$ne\": \"\"}},\n",
        "            {\"SubjectRace\":{\"$ne\": None}},\n",
        "            {\"SubjectRace\":{\"$ne\": 0}},\n",
        "            {\"SubjectRace\":\"BLACK\"} ]}, \n",
        "            {\"_id\":0, \"StopDescription\" : 1}, to=\"numpy\")\n",
        "\n",
        "# # plot categorical\n",
        "hist = Histogram(\"white vs Black\", \"Stop Description\")\n",
        "hist.add_trace(data=white, label=\"Black\")\n",
        "hist.show_figure()"
      ],
      "execution_count": null,
      "outputs": []
    },
    {
      "cell_type": "markdown",
      "metadata": {
        "id": "bSQESuZWnJwz",
        "colab_type": "text"
      },
      "source": [
        "-- Define the working features"
      ]
    },
    {
      "cell_type": "code",
      "metadata": {
        "id": "vpTjFH8TnOx7",
        "colab_type": "code",
        "colab": {}
      },
      "source": [
        "# select columns\n",
        "columns = dict({\n",
        "    'FieldInterviewID':0,     \n",
        "    'NOPD_Item':0,            \n",
        "    'EventDate':1,            \n",
        "    'District':1,             \n",
        "    'Zone':1,                 \n",
        "    'OfficerAssignment':0, \n",
        "    'StopDescription':1, \n",
        "    'ActionsTaken':0, \n",
        "    'VehicleYear':1, \n",
        "    'VehicleMake':1, \n",
        "    'VehicleModel':1, \n",
        "    'VehicleStyle':1, \n",
        "    'VehicleColor':1, \n",
        "    'SubjectID':0, \n",
        "    'SubjectRace':1, \n",
        "    'SubjectGender':1, \n",
        "    'SubjectAge':1, \n",
        "    'SubjectHasPhotoID':0, \n",
        "    'SubjectHeight':1, \n",
        "    'SubjectWeight':1, \n",
        "    'SubjectEyeColor':0, \n",
        "    'SubjectHairColor':1, \n",
        "    'SubjectDriverLicState':1, \n",
        "    'CreatedDateTime':0, \n",
        "    'LastModifiedDateTime':0, \n",
        "    'Longitude':1, \n",
        "    'Latitude':1, \n",
        "    'Zip':1, \n",
        "    'BlockAddress':0})\n",
        "\n",
        "# use small num_rows for demos\n",
        "police_interviews = PoliceInterviews(columns, num_rows=None, output=\"StopDescription\", eval_percent=0.2, batch=25)"
      ],
      "execution_count": 3,
      "outputs": []
    },
    {
      "cell_type": "markdown",
      "metadata": {
        "id": "ui3ldw40nrZF",
        "colab_type": "text"
      },
      "source": [
        "-- Load dtaframe"
      ]
    },
    {
      "cell_type": "code",
      "metadata": {
        "id": "hJmgkhwLnuaM",
        "colab_type": "code",
        "colab": {
          "base_uri": "https://localhost:8080/",
          "height": 370
        },
        "outputId": "d90ca611-0fba-4e61-ca01-c89a4b9300bd"
      },
      "source": [
        "train_df, eval_df = police_interviews.load_dataframe()\n",
        "print('{:<25} {} \\n'.format(\"Column Name\", \"Sample\"))\n",
        "for (column_name, column_data) in train_df.iteritems():\n",
        "  print('{:<25} {}'.format(column_name, column_data[0]))"
      ],
      "execution_count": 4,
      "outputs": [
        {
          "output_type": "stream",
          "text": [
            "Column Name               Sample \n",
            "\n",
            "EventDate                 34500\n",
            "District                  7\n",
            "Zone                      O\n",
            "StopDescription           0\n",
            "VehicleYear               1997\n",
            "VehicleMake               CHEVROLET\n",
            "VehicleModel              TAHOE\n",
            "VehicleStyle              SPORTS UTILITY\n",
            "VehicleColor              BLUE\n",
            "SubjectRace               BLACK\n",
            "SubjectGender             MALE\n",
            "SubjectAge                21\n",
            "SubjectHeight             72\n",
            "SubjectWeight             169\n",
            "SubjectHairColor          Black\n",
            "SubjectDriverLicState     1\n",
            "Longitude                 -89.9887508371\n",
            "Latitude                  30.0355783772\n",
            "Zip                       70127\n"
          ],
          "name": "stdout"
        }
      ]
    },
    {
      "cell_type": "markdown",
      "metadata": {
        "id": "Rw3rwW7KrxsM",
        "colab_type": "text"
      },
      "source": [
        "-- Plot "
      ]
    },
    {
      "cell_type": "code",
      "metadata": {
        "id": "BEMUvzGurxBk",
        "colab_type": "code",
        "colab": {}
      },
      "source": [
        ""
      ],
      "execution_count": null,
      "outputs": []
    }
  ]
}