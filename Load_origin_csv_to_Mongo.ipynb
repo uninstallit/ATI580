{
 "cells": [
  {
   "cell_type": "markdown",
   "metadata": {},
   "source": [
    "### Load the orginal Stop_and_Search__Field_Interviews_.csv to mongodb"
   ]
  },
  {
   "cell_type": "code",
   "execution_count": 1,
   "metadata": {},
   "outputs": [
    {
     "data": {
      "text/plain": [
       "'/Library/Frameworks/Python.framework/Versions/3.7/bin/python3'"
      ]
     },
     "execution_count": 1,
     "metadata": {},
     "output_type": "execute_result"
    }
   ],
   "source": [
    "import sys\n",
    "sys.executable"
   ]
  },
  {
   "cell_type": "code",
   "execution_count": 3,
   "metadata": {},
   "outputs": [
    {
     "name": "stdout",
     "output_type": "stream",
     "text": [
      "Number records recieved: 593893\n",
      "Verify number records inserted to mongo: 593893\n"
     ]
    }
   ],
   "source": [
    "from pymongo import MongoClient\n",
    "import pandas as pd\n",
    "\n",
    "client = MongoClient()\n",
    "db = client.POLICE_DATABASE\n",
    "db_collection = db.POLICE_INTERVIEWS\n",
    "\n",
    "df = pd.read_csv('Stop_and_Search__Field_Interviews_.csv', sep=',', low_memory=False )\n",
    "print('Number records recieved: {}'.format(len(df)))\n",
    "records = df.to_dict(orient = 'records')\n",
    "\n",
    "result = db_collection.insert_many(records)\n",
    "\n",
    "print('Verify number records inserted to mongo: {}'.format(db_collection.count_documents({})))\n"
   ]
  },
  {
   "cell_type": "markdown",
   "metadata": {},
   "source": [
    "## Test reading all documents back to  DataFrame"
   ]
  },
  {
   "cell_type": "code",
   "execution_count": 6,
   "metadata": {},
   "outputs": [
    {
     "name": "stdout",
     "output_type": "stream",
     "text": [
      "<class 'pandas.core.frame.DataFrame'>\n",
      "RangeIndex: 593893 entries, 0 to 593892\n",
      "Data columns (total 30 columns):\n",
      " #   Column                 Non-Null Count   Dtype  \n",
      "---  ------                 --------------   -----  \n",
      " 0   _id                    593893 non-null  object \n",
      " 1   FieldInterviewID       593893 non-null  int64  \n",
      " 2   NOPD_Item              500343 non-null  object \n",
      " 3   EventDate              593893 non-null  object \n",
      " 4   District               593893 non-null  int64  \n",
      " 5   Zone                   593893 non-null  object \n",
      " 6   OfficerAssignment      593769 non-null  object \n",
      " 7   StopDescription        593893 non-null  object \n",
      " 8   ActionsTaken           468620 non-null  object \n",
      " 9   VehicleYear            332290 non-null  float64\n",
      " 10  VehicleMake            337394 non-null  object \n",
      " 11  VehicleModel           318188 non-null  object \n",
      " 12  VehicleStyle           330247 non-null  object \n",
      " 13  VehicleColor           333330 non-null  object \n",
      " 14  SubjectID              579846 non-null  float64\n",
      " 15  SubjectRace            579846 non-null  object \n",
      " 16  SubjectGender          579846 non-null  object \n",
      " 17  SubjectAge             576132 non-null  float64\n",
      " 18  SubjectHasPhotoID      593893 non-null  object \n",
      " 19  SubjectHeight          576096 non-null  float64\n",
      " 20  SubjectWeight          576204 non-null  float64\n",
      " 21  SubjectEyeColor        576424 non-null  object \n",
      " 22  SubjectHairColor       573591 non-null  object \n",
      " 23  SubjectDriverLicState  362857 non-null  object \n",
      " 24  CreatedDateTime        593893 non-null  object \n",
      " 25  LastModifiedDateTime   168372 non-null  object \n",
      " 26  Longitude              593893 non-null  float64\n",
      " 27  Latitude               593893 non-null  float64\n",
      " 28  Zip                    479113 non-null  float64\n",
      " 29  BlockAddress           497052 non-null  object \n",
      "dtypes: float64(8), int64(2), object(20)\n",
      "memory usage: 135.9+ MB\n"
     ]
    }
   ],
   "source": [
    "test = db_collection.find()\n",
    "df_test = pd.DataFrame.from_records(test)\n",
    "df_test.info(verbose=True)"
   ]
  },
  {
   "cell_type": "code",
   "execution_count": null,
   "metadata": {},
   "outputs": [],
   "source": []
  }
 ],
 "metadata": {
  "kernelspec": {
   "display_name": "Python 3",
   "language": "python",
   "name": "python3"
  },
  "language_info": {
   "codemirror_mode": {
    "name": "ipython",
    "version": 3
   },
   "file_extension": ".py",
   "mimetype": "text/x-python",
   "name": "python",
   "nbconvert_exporter": "python",
   "pygments_lexer": "ipython3",
   "version": "3.7.4"
  }
 },
 "nbformat": 4,
 "nbformat_minor": 4
}
