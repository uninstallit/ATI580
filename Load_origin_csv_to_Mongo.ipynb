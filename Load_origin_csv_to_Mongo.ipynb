{
  "nbformat": 4,
  "nbformat_minor": 0,
  "metadata": {
    "kernelspec": {
      "display_name": "Python 3",
      "language": "python",
      "name": "python3"
    },
    "language_info": {
      "codemirror_mode": {
        "name": "ipython",
        "version": 3
      },
      "file_extension": ".py",
      "mimetype": "text/x-python",
      "name": "python",
      "nbconvert_exporter": "python",
      "pygments_lexer": "ipython3",
      "version": "3.7.4"
    },
    "colab": {
      "name": "Load_origin_csv_to_Mongo.ipynb",
      "provenance": []
    }
  },
  "cells": [
    {
      "cell_type": "markdown",
      "metadata": {
        "id": "Och5CZJsqm4d",
        "colab_type": "text"
      },
      "source": [
        "#### Load the orginal Stop_and_Search__Field_Interviews_.csv to mongodb"
      ]
    },
    {
      "cell_type": "code",
      "metadata": {
        "id": "-perb0EXqm4e",
        "colab_type": "code",
        "colab": {},
        "outputId": "2f13d853-b414-4df6-a459-1b6b0b3d683f"
      },
      "source": [
        "import sys\n",
        "sys.executable"
      ],
      "execution_count": null,
      "outputs": [
        {
          "output_type": "execute_result",
          "data": {
            "text/plain": [
              "'/Library/Frameworks/Python.framework/Versions/3.7/bin/python3'"
            ]
          },
          "metadata": {
            "tags": []
          },
          "execution_count": 1
        }
      ]
    },
    {
      "cell_type": "code",
      "metadata": {
        "id": "X2WRKXpsqm4k",
        "colab_type": "code",
        "colab": {},
        "outputId": "cec11e90-31f3-45d9-a312-68737ed63d5c"
      },
      "source": [
        "from pymongo import MongoClient\n",
        "import pandas as pd\n",
        "\n",
        "client = MongoClient()\n",
        "db = client.POLICE_DATABASE\n",
        "db_collection = db.POLICE_INTERVIEWS\n",
        "\n",
        "df = pd.read_csv('Stop_and_Search__Field_Interviews_.csv', sep=',',  dtype='unicode')\n",
        "print('Number records recieved: {}'.format(len(df)))\n",
        "records = df.to_dict(orient = 'records')\n",
        "\n",
        "result = db_collection.insert_many(records)"
      ],
      "execution_count": null,
      "outputs": [
        {
          "output_type": "stream",
          "text": [
            "Number records recieved: 593893\n"
          ],
          "name": "stdout"
        }
      ]
    },
    {
      "cell_type": "code",
      "metadata": {
        "id": "omOoufh2qm4o",
        "colab_type": "code",
        "colab": {},
        "outputId": "b16af35d-5e5e-49b7-b7e1-dd213fcdeb74"
      },
      "source": [
        "print('Veify number records inserted to mongo: {}'.format(db_collection.count_documents({})))\n"
      ],
      "execution_count": null,
      "outputs": [
        {
          "output_type": "stream",
          "text": [
            "Veify number records inserted to mongo: 593893\n"
          ],
          "name": "stdout"
        }
      ]
    },
    {
      "cell_type": "markdown",
      "metadata": {
        "id": "ZBlw6Kw0qsoO",
        "colab_type": "text"
      },
      "source": [
        "Brenda commit from colab"
      ]
    },
    {
      "cell_type": "code",
      "metadata": {
        "id": "i9fVTWkYqm4q",
        "colab_type": "code",
        "colab": {}
      },
      "source": [
        ""
      ],
      "execution_count": null,
      "outputs": []
    }
  ]
}