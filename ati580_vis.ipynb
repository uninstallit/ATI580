{
  "nbformat": 4,
  "nbformat_minor": 0,
  "metadata": {
    "colab": {
      "name": "ati580_vis.ipynb",
      "provenance": [],
      "authorship_tag": "ABX9TyMaRzO4RfrFZEBpg1uMn9et",
      "include_colab_link": true
    },
    "kernelspec": {
      "name": "python3",
      "display_name": "Python 3"
    },
    "widgets": {
      "application/vnd.jupyter.widget-state+json": {
        "17690ad2f83e4534845689141a9d9e96": {
          "model_module": "@jupyter-widgets/controls",
          "model_name": "DropdownModel",
          "state": {
            "_options_labels": [
              "VehicleYear",
              "VehicleColor",
              "SubjectRace",
              "SubjectGender",
              "SubjectHeight",
              "SubjectHairColor",
              "Zip"
            ],
            "_view_name": "DropdownView",
            "style": "IPY_MODEL_2a48f0f15768442ab1624a27b4236d0e",
            "_dom_classes": [],
            "description": "Color:",
            "_model_name": "DropdownModel",
            "index": 2,
            "_view_module": "@jupyter-widgets/controls",
            "_model_module_version": "1.5.0",
            "_view_count": null,
            "disabled": false,
            "_view_module_version": "1.5.0",
            "description_tooltip": null,
            "_model_module": "@jupyter-widgets/controls",
            "layout": "IPY_MODEL_657ff5c56cb748128efcd73817b1afe8"
          }
        },
        "2a48f0f15768442ab1624a27b4236d0e": {
          "model_module": "@jupyter-widgets/controls",
          "model_name": "DescriptionStyleModel",
          "state": {
            "_view_name": "StyleView",
            "_model_name": "DescriptionStyleModel",
            "description_width": "",
            "_view_module": "@jupyter-widgets/base",
            "_model_module_version": "1.5.0",
            "_view_count": null,
            "_view_module_version": "1.2.0",
            "_model_module": "@jupyter-widgets/controls"
          }
        },
        "657ff5c56cb748128efcd73817b1afe8": {
          "model_module": "@jupyter-widgets/base",
          "model_name": "LayoutModel",
          "state": {
            "_view_name": "LayoutView",
            "grid_template_rows": null,
            "right": null,
            "justify_content": null,
            "_view_module": "@jupyter-widgets/base",
            "overflow": null,
            "_model_module_version": "1.2.0",
            "_view_count": null,
            "flex_flow": null,
            "width": null,
            "min_width": null,
            "border": null,
            "align_items": null,
            "bottom": null,
            "_model_module": "@jupyter-widgets/base",
            "top": null,
            "grid_column": null,
            "overflow_y": null,
            "overflow_x": null,
            "grid_auto_flow": null,
            "grid_area": null,
            "grid_template_columns": null,
            "flex": null,
            "_model_name": "LayoutModel",
            "justify_items": null,
            "grid_row": null,
            "max_height": null,
            "align_content": null,
            "visibility": null,
            "align_self": null,
            "height": null,
            "min_height": null,
            "padding": null,
            "grid_auto_rows": null,
            "grid_gap": null,
            "max_width": null,
            "order": null,
            "_view_module_version": "1.2.0",
            "grid_template_areas": null,
            "object_position": null,
            "object_fit": null,
            "grid_auto_columns": null,
            "margin": null,
            "display": null,
            "left": null
          }
        }
      }
    }
  },
  "cells": [
    {
      "cell_type": "markdown",
      "metadata": {
        "id": "view-in-github",
        "colab_type": "text"
      },
      "source": [
        "<a href=\"https://colab.research.google.com/github/uninstallit/ati580_final_project/blob/edvin-1/ati580_vis.ipynb\" target=\"_parent\"><img src=\"https://colab.research.google.com/assets/colab-badge.svg\" alt=\"Open In Colab\"/></a>"
      ]
    },
    {
      "cell_type": "markdown",
      "metadata": {
        "id": "25vlraeDmLN3",
        "colab_type": "text"
      },
      "source": [
        "**1.0 Initial Setup**"
      ]
    },
    {
      "cell_type": "code",
      "metadata": {
        "id": "HIEZbgMJY0LV",
        "colab_type": "code",
        "colab": {}
      },
      "source": [
        "pip install dnspython"
      ],
      "execution_count": null,
      "outputs": []
    },
    {
      "cell_type": "code",
      "metadata": {
        "id": "Dz4ED8Ui8EI7",
        "colab_type": "code",
        "colab": {}
      },
      "source": [
        "from pymongo import MongoClient\n",
        "\n",
        "class Connect(object):\n",
        "\n",
        "  @staticmethod    \n",
        "  def get_connection(database):\n",
        "    username = \"mdbUser\"\n",
        "    password = \"ati580\"\n",
        "    return MongoClient('mongodb+srv://{}:{}@ati580-cluster.s5t5z.gcp.mongodb.net/{}?retryWrites=true&w=majority'.format(username, password, database))"
      ],
      "execution_count": 1,
      "outputs": []
    },
    {
      "cell_type": "code",
      "metadata": {
        "id": "3vcZdtAk5iB6",
        "colab_type": "code",
        "colab": {}
      },
      "source": [
        "import plotly.graph_objects as go\n",
        "\n",
        "class Histogram(object):\n",
        "\n",
        "  def __init__(self, title_text, xaxis_text):\n",
        "    self._title_text = title_text\n",
        "    self._xaxis_text = xaxis_text\n",
        "\n",
        "    self._fig = go.Figure()\n",
        "    self._trace_count = 0\n",
        "    self._orange = '#FF8C00'\n",
        "    self._blue   = '#0000FF'\n",
        "\n",
        "  def _get_color(self):\n",
        "    if self._trace_count % 2 == 1:\n",
        "      return self._orange\n",
        "    if self._trace_count % 2 == 0:\n",
        "      return self._blue\n",
        "\n",
        "  def add_trace(self, data=[], label=\"\"):\n",
        "    if len(data)!=0:\n",
        "      self._trace_count = self._trace_count + 1\n",
        "      self._fig.add_trace(go.Histogram(\n",
        "          x=data,\n",
        "          # histnorm='probability density',\n",
        "          name=label,\n",
        "          marker_color=self._get_color(),\n",
        "          opacity=1\n",
        "          ))\n",
        "      self.update_layout()\n",
        "        \n",
        "  def update_layout(self):\n",
        "    self._fig.update_layout(\n",
        "        barmode='stack',\n",
        "        title=dict({\n",
        "            'text': '<b>' + self._title_text + '</b>',\n",
        "            'y':0.85,\n",
        "            'x':0.5,\n",
        "            'xanchor': 'center',\n",
        "            'yanchor': 'top',\n",
        "            'font':dict({\n",
        "                'color':\"black\",\n",
        "                'size':14})}),\n",
        "        xaxis_title_text=self._xaxis_text, \n",
        "        yaxis_title_text=\"Count\",\n",
        "        )\n",
        "    \n",
        "  def show_figure(self):\n",
        "    self._fig.show()\n",
        "      "
      ],
      "execution_count": 22,
      "outputs": []
    },
    {
      "cell_type": "markdown",
      "metadata": {
        "id": "pGk7V0T4sjbo",
        "colab_type": "text"
      },
      "source": [
        "**Explore Data**"
      ]
    },
    {
      "cell_type": "code",
      "metadata": {
        "id": "uAZTEiJM6JIw",
        "colab_type": "code",
        "colab": {
          "base_uri": "https://localhost:8080/",
          "height": 574,
          "referenced_widgets": [
            "17690ad2f83e4534845689141a9d9e96",
            "2a48f0f15768442ab1624a27b4236d0e",
            "657ff5c56cb748128efcd73817b1afe8"
          ]
        },
        "outputId": "c3945c92-e2f6-4cb4-d60e-e6c89bd037d9"
      },
      "source": [
        "from IPython.display import clear_output\n",
        "import plotly.express as px\n",
        "from ipywidgets import widgets, HBox\n",
        "import pandas as pd\n",
        "\n",
        "connect = Connect()\n",
        "mdb_client = connect.get_connection(\"POLICE_DATABASE\")\n",
        "mdb_database = mdb_client['POLICE_DATABASE'] \n",
        "mdb_collection = mdb_database['POLICE_INTERVIEWS']\n",
        "\n",
        "# all options - set value to 1 to include in query\n",
        "options = dict({'FieldInterviewID':0,\n",
        "                'NOPD_Item':0, \n",
        "                'EventDate':0, \n",
        "                'District':0, \n",
        "                'Zone':0, \n",
        "                'OfficerAssignment':0, \n",
        "                'StopDescription':0, \n",
        "                'ActionsTaken':0, \n",
        "                'VehicleYear':1, \n",
        "                'VehicleMake':0, \n",
        "                'VehicleModel':0, \n",
        "                'VehicleStyle':0, \n",
        "                'VehicleColor':1, \n",
        "                'SubjectID':0, \n",
        "                'SubjectRace':1, \n",
        "                'SubjectGender':1, \n",
        "                'SubjectAge':0, \n",
        "                'SubjectHasPhotoID':0, \n",
        "                'SubjectHeight':1, \n",
        "                'SubjectWeight':0, \n",
        "                'SubjectEyeColor':0, \n",
        "                'SubjectHairColor':1, \n",
        "                'SubjectDriverLicState':0, \n",
        "                'CreatedDateTime':0, \n",
        "                'LastModifiedDateTime':0, \n",
        "                'Longitude':0, \n",
        "                'Latitude':0, \n",
        "                'Zip':1, \n",
        "                'BlockAddress':0})\n",
        "\n",
        "features = { key: value for key, value in options.items() if value == 1 }\n",
        "  \n",
        "def on_change_selection(change):\n",
        "  selection = change[\"new\"].strip()\n",
        "  # change query limit\n",
        "  limit = 500\n",
        "  clear_output()\n",
        "  print(\"Loading data ...\")\n",
        "  query = features.pop(\"_id\", None)\n",
        "  data = pd.DataFrame(list(mdb_collection.find({}, query).limit(limit)))\n",
        "  data = data.fillna(0)\n",
        "  fig = px.scatter_matrix(data, dimensions=features.keys(), color=selection)\n",
        "  clear_output()\n",
        "  display(selection_dropdown)\n",
        "  fig.show()\n",
        "\n",
        "selection_dropdown = widgets.Dropdown(\n",
        "    options=features.keys(),\n",
        "    value=None,\n",
        "    description='Color:',\n",
        "    disabled=False,\n",
        ")\n",
        "\n",
        "selection_dropdown.observe(on_change_selection, names=\"value\")\n",
        "display(selection_dropdown)\n"
      ],
      "execution_count": 5,
      "outputs": [
        {
          "output_type": "display_data",
          "data": {
            "application/vnd.jupyter.widget-view+json": {
              "model_id": "17690ad2f83e4534845689141a9d9e96",
              "version_minor": 0,
              "version_major": 2
            },
            "text/plain": [
              "Dropdown(description='Color:', index=2, options=('VehicleYear', 'VehicleColor', 'SubjectRace', 'SubjectGender'…"
            ]
          },
          "metadata": {
            "tags": []
          }
        },
        {
          "output_type": "display_data",
          "data": {
            "text/html": [
              "<html>\n",
              "<head><meta charset=\"utf-8\" /></head>\n",
              "<body>\n",
              "    <div>\n",
              "            <script src=\"https://cdnjs.cloudflare.com/ajax/libs/mathjax/2.7.5/MathJax.js?config=TeX-AMS-MML_SVG\"></script><script type=\"text/javascript\">if (window.MathJax) {MathJax.Hub.Config({SVG: {font: \"STIX-Web\"}});}</script>\n",
              "                <script type=\"text/javascript\">window.PlotlyConfig = {MathJaxConfig: 'local'};</script>\n",
              "        <script src=\"https://cdn.plot.ly/plotly-latest.min.js\"></script>    \n",
              "            <div id=\"e80ae60d-d679-43cb-aaff-1d133e69ca39\" class=\"plotly-graph-div\" style=\"height:525px; width:100%;\"></div>\n",
              "            <script type=\"text/javascript\">\n",
              "                \n",
              "                    window.PLOTLYENV=window.PLOTLYENV || {};\n",
              "                    \n",
              "                if (document.getElementById(\"e80ae60d-d679-43cb-aaff-1d133e69ca39\")) {\n",
              "                    Plotly.newPlot(\n",
              "                        'e80ae60d-d679-43cb-aaff-1d133e69ca39',\n",
              "                        [{\"dimensions\": [{\"axis\": {\"matches\": true}, \"label\": \"VehicleYear\", \"values\": [2005.0, 0.0, 0.0, 0.0, 0.0, 0.0, 0.0, 0.0, 0.0, 1995.0, 2006.0, 2000.0, 0.0, 0.0, 0.0, 0.0, 2000.0, 2004.0, 2003.0, 1996.0, 2002.0, 1996.0, 1997.0, 1997.0, 2009.0, 2001.0, 0.0, 2007.0, 0.0, 0.0, 0.0, 0.0, 0.0, 0.0, 0.0, 0.0, 0.0, 0.0, 0.0, 0.0, 0.0, 2008.0, 2000.0, 2001.0, 2006.0, 0.0, 0.0, 0.0, 0.0, 0.0, 0.0, 0.0, 0.0, 2004.0, 0.0, 2000.0, 2000.0, 0.0, 0.0, 0.0, 1997.0, 0.0, 1997.0, 0.0, 1997.0, 0.0, 2001.0, 1998.0, 0.0, 0.0, 0.0, 0.0, 0.0, 1997.0, 2004.0, 0.0, 0.0, 0.0, 0.0, 0.0, 0.0, 0.0, 1999.0, 1999.0, 0.0, 1993.0, 0.0, 0.0, 0.0, 1990.0, 0.0, 0.0, 2006.0, 0.0, 0.0, 0.0, 0.0, 0.0, 0.0, 0.0, 2008.0, 2008.0, 1900.0, 2004.0, 2004.0, 2004.0, 0.0, 1997.0, 0.0, 2005.0, 1993.0, 0.0, 0.0, 0.0, 2001.0, 2001.0, 2001.0, 0.0, 2000.0, 2000.0, 0.0, 0.0, 2004.0, 2004.0, 0.0, 0.0, 0.0, 0.0, 2005.0, 1999.0, 1997.0, 2007.0, 2000.0, 2000.0, 2004.0, 2007.0, 2005.0, 0.0, 0.0, 0.0, 0.0, 0.0, 0.0, 0.0, 0.0, 0.0, 0.0, 0.0, 0.0, 1998.0, 1998.0, 1998.0, 2002.0, 1995.0, 2000.0, 1998.0, 0.0, 0.0, 0.0, 1998.0, 0.0, 0.0, 0.0, 0.0, 0.0, 2003.0, 2003.0, 0.0, 0.0, 0.0, 0.0, 1996.0, 2009.0, 1993.0, 1993.0, 1993.0, 0.0, 0.0, 0.0, 0.0, 2010.0, 1999.0, 0.0, 1997.0, 1997.0, 0.0, 0.0, 0.0, 0.0, 0.0, 0.0, 2003.0, 0.0, 0.0, 2000.0, 0.0, 2000.0, 2007.0, 1998.0, 1998.0, 0.0, 1998.0, 1998.0, 2003.0, 1994.0, 2002.0, 0.0, 2000.0, 1999.0, 1999.0, 0.0, 0.0, 2009.0, 0.0, 2009.0, 0.0, 0.0, 2001.0, 0.0, 2003.0, 1900.0, 1996.0, 2009.0, 0.0, 1996.0, 0.0, 0.0, 0.0, 0.0, 0.0, 0.0, 0.0, 0.0, 0.0, 2001.0, 2001.0, 1999.0, 1999.0, 0.0, 0.0, 2003.0, 1997.0, 2009.0, 0.0, 0.0, 0.0, 0.0, 0.0, 0.0, 0.0, 0.0, 0.0, 2001.0, 2005.0, 0.0, 0.0, 0.0, 2009.0, 1996.0, 2006.0, 2002.0, 2003.0, 0.0, 0.0, 2002.0, 0.0, 2002.0, 1999.0, 1999.0, 1999.0, 1999.0, 2001.0, 0.0, 0.0, 0.0, 0.0, 0.0, 0.0, 0.0, 0.0, 0.0, 0.0, 0.0, 0.0, 0.0, 0.0, 2003.0, 2002.0, 2002.0, 1999.0, 1999.0, 0.0, 0.0, 0.0, 0.0, 2000.0, 0.0, 2001.0, 2008.0, 1993.0, 1993.0, 0.0, 2003.0, 2003.0, 1994.0, 2009.0, 2009.0, 2006.0, 0.0, 0.0, 0.0, 0.0, 1996.0, 2010.0, 0.0, 0.0, 0.0, 2006.0, 2009.0, 2009.0, 2000.0, 1994.0, 2002.0, 2002.0, 0.0, 0.0, 0.0, 0.0, 0.0, 0.0, 0.0, 0.0, 0.0, 0.0, 0.0, 0.0, 0.0, 0.0, 1998.0, 0.0, 0.0, 1999.0, 0.0, 0.0, 0.0, 2007.0, 0.0, 0.0, 0.0, 0.0, 0.0, 1997.0, 0.0]}, {\"axis\": {\"matches\": true}, \"label\": \"VehicleColor\", \"values\": [\"BLACK\", 0, 0, 0, 0, 0, 0, 0, 0, \"GREEN\", \"BRONZE\", \"WHITE\", \"YELLOW\", 0, 0, 0, 0, \"WHITE\", \"WHITE\", \"WHITE\", \"RED\", \"WHITE\", \"BLUE\", \"BLUE\", \"BLACK\", \"GOLD\", 0, \"BLACK\", 0, 0, 0, 0, 0, 0, 0, 0, 0, 0, 0, 0, 0, \"GRAY\", \"GRAY\", \"BLUE\", \"SILVER\", 0, 0, 0, 0, 0, 0, 0, 0, \"SILVER\", 0, \"BLUE\", \"BLUE\", 0, 0, 0, \"MAROON\", 0, \"MAROON\", 0, \"MAROON\", 0, \"WHITE\", \"TAN\", 0, 0, 0, 0, 0, \"TAN\", \"RED\", 0, 0, 0, \"BEIGE\", 0, 0, 0, \"GREEN\", \"GREEN\", 0, \"WHITE\", 0, 0, 0, \"GOLD\", 0, 0, \"GRAY\", 0, 0, 0, 0, 0, 0, 0, \"BLACK\", \"BLACK\", 0, \"GOLD\", \"SILVER\", \"SILVER\", 0, \"BLACK\", 0, \"BLACK\", \"ORANGE\", 0, 0, 0, \"BLACK\", \"BLACK\", \"BLACK\", 0, \"PURPLE\", \"PURPLE\", 0, 0, \"RED\", \"RED\", 0, 0, 0, 0, \"MAROON\", \"BLUE\", \"GREEN\", 0, \"TAN\", \"TAN\", \"WHITE\", \"BLUE\", \"WHITE\", 0, 0, 0, 0, 0, 0, 0, 0, 0, 0, 0, 0, \"BLACK\", \"GOLD\", \"GOLD\", \"RED\", \"WHITE\", \"BLACK\", \"BLACK\", 0, 0, 0, \"WHITE\", 0, 0, 0, 0, 0, \"WHITE\", \"WHITE\", 0, 0, 0, 0, \"WHITE\", \"GREEN\", \"WHITE\", \"WHITE\", \"WHITE\", 0, 0, 0, 0, \"SILVER\", \"WHITE\", 0, \"MAROON\", \"MAROON\", 0, 0, 0, 0, 0, 0, \"SILVER\", 0, 0, \"SILVER\", 0, \"SILVER\", \"WHITE\", \"GREEN\", \"GREEN\", 0, \"BLUE\", \"BLUE\", \"GRAY\", \"BLACK\", \"RED\", \"RED\", \"BRONZE\", \"SILVER\", \"SILVER\", 0, 0, \"BLACK\", 0, 0, 0, 0, 0, 0, \"BLUE\", \"MAROON\", \"BLACK\", \"GRAY\", 0, \"WHITE\", 0, 0, 0, 0, 0, 0, 0, 0, 0, \"BLACK\", \"BLACK\", \"SILVER\", \"SILVER\", 0, 0, \"GRAY\", \"WHITE\", \"BLACK\", 0, 0, 0, 0, 0, 0, 0, 0, 0, \"BLUE\", \"GOLD\", 0, 0, 0, \"WHITE\", \"WHITE\", \"WHITE\", \"SILVER\", \"RED\", 0, 0, \"BLUE\", 0, \"WHITE\", \"MAROON\", \"MAROON\", \"MAROON\", \"MAROON\", \"WHITE\", 0, 0, 0, 0, 0, 0, 0, 0, 0, 0, 0, 0, 0, 0, \"RED\", \"WHITE\", \"WHITE\", \"BLUE\", \"BLACK\", 0, 0, 0, 0, \"GOLD\", 0, \"BLUE\", \"RED\", \"BLACK\", \"BLACK\", 0, \"RED\", \"RED\", \"TAN\", \"SILVER\", \"SILVER\", \"YELLOW\", 0, 0, 0, 0, \"BLACK\", \"WHITE\", 0, 0, 0, \"BLACK\", \"BLUE\", \"BLUE\", \"BURGUNDY\", \"MAROON\", \"SILVER\", \"SILVER\", 0, 0, 0, 0, 0, 0, 0, 0, 0, 0, 0, 0, 0, 0, \"SILVER\", 0, 0, \"GREEN\", 0, 0, 0, \"GREEN\", 0, 0, 0, 0, 0, \"WHITE\", 0]}, {\"axis\": {\"matches\": true}, \"label\": \"SubjectRace\", \"values\": [\"BLACK\", \"BLACK\", \"BLACK\", \"BLACK\", \"BLACK\", \"BLACK\", \"BLACK\", \"BLACK\", \"BLACK\", \"BLACK\", \"BLACK\", \"BLACK\", \"BLACK\", \"BLACK\", \"BLACK\", \"BLACK\", \"BLACK\", \"BLACK\", \"BLACK\", \"BLACK\", \"BLACK\", \"BLACK\", \"BLACK\", \"BLACK\", \"BLACK\", \"BLACK\", \"BLACK\", \"BLACK\", \"BLACK\", \"BLACK\", \"BLACK\", \"BLACK\", \"BLACK\", \"BLACK\", \"BLACK\", \"BLACK\", \"BLACK\", \"BLACK\", \"BLACK\", \"BLACK\", \"BLACK\", \"BLACK\", \"BLACK\", \"BLACK\", \"BLACK\", \"BLACK\", \"BLACK\", \"BLACK\", \"BLACK\", \"BLACK\", \"BLACK\", \"BLACK\", \"BLACK\", \"BLACK\", \"BLACK\", \"BLACK\", \"BLACK\", \"BLACK\", \"BLACK\", \"BLACK\", \"BLACK\", \"BLACK\", \"BLACK\", \"BLACK\", \"BLACK\", \"BLACK\", \"BLACK\", \"BLACK\", \"BLACK\", \"BLACK\", \"BLACK\", \"BLACK\", \"BLACK\", \"BLACK\", \"BLACK\", \"BLACK\", \"BLACK\", \"BLACK\", \"BLACK\", \"BLACK\", \"BLACK\", \"BLACK\", \"BLACK\", \"BLACK\", \"BLACK\", \"BLACK\", \"BLACK\", \"BLACK\", \"BLACK\", \"BLACK\", \"BLACK\", \"BLACK\", \"BLACK\", \"BLACK\", \"BLACK\", \"BLACK\", \"BLACK\", \"BLACK\", \"BLACK\", \"BLACK\", \"BLACK\", \"BLACK\", \"BLACK\", \"BLACK\", \"BLACK\", \"BLACK\", \"BLACK\", \"BLACK\", \"BLACK\", \"BLACK\", \"BLACK\", \"BLACK\", \"BLACK\", \"BLACK\", \"BLACK\", \"BLACK\", \"BLACK\", \"BLACK\", \"BLACK\", \"BLACK\", \"BLACK\", \"BLACK\", \"BLACK\", \"BLACK\", \"BLACK\", \"BLACK\", \"BLACK\", \"BLACK\", \"BLACK\", \"BLACK\", \"BLACK\", \"BLACK\", \"BLACK\", \"BLACK\", \"BLACK\", \"BLACK\", \"BLACK\", \"BLACK\", \"BLACK\", \"BLACK\", \"BLACK\", \"BLACK\", \"BLACK\", \"BLACK\", \"BLACK\", \"BLACK\", \"BLACK\", \"BLACK\", \"BLACK\", \"BLACK\", \"BLACK\", \"BLACK\", \"BLACK\", \"BLACK\", \"BLACK\", \"BLACK\", \"BLACK\", \"BLACK\", \"BLACK\", \"BLACK\", \"BLACK\", \"BLACK\", \"BLACK\", \"BLACK\", \"BLACK\", \"BLACK\", \"BLACK\", \"BLACK\", \"BLACK\", \"BLACK\", \"BLACK\", \"BLACK\", \"BLACK\", \"BLACK\", \"BLACK\", \"BLACK\", \"BLACK\", \"BLACK\", \"BLACK\", \"BLACK\", \"BLACK\", \"BLACK\", \"BLACK\", \"BLACK\", \"BLACK\", \"BLACK\", \"BLACK\", \"BLACK\", \"BLACK\", \"BLACK\", \"BLACK\", \"BLACK\", \"BLACK\", \"BLACK\", \"BLACK\", \"BLACK\", \"BLACK\", \"BLACK\", \"BLACK\", \"BLACK\", \"BLACK\", \"BLACK\", \"BLACK\", \"BLACK\", \"BLACK\", \"BLACK\", \"BLACK\", \"BLACK\", \"BLACK\", \"BLACK\", \"BLACK\", \"BLACK\", \"BLACK\", \"BLACK\", \"BLACK\", \"BLACK\", \"BLACK\", \"BLACK\", \"BLACK\", \"BLACK\", \"BLACK\", \"BLACK\", \"BLACK\", \"BLACK\", \"BLACK\", \"BLACK\", \"BLACK\", \"BLACK\", \"BLACK\", \"BLACK\", \"BLACK\", \"BLACK\", \"BLACK\", \"BLACK\", \"BLACK\", \"BLACK\", \"BLACK\", \"BLACK\", \"BLACK\", \"BLACK\", \"BLACK\", \"BLACK\", \"BLACK\", \"BLACK\", \"BLACK\", \"BLACK\", \"BLACK\", \"BLACK\", \"BLACK\", \"BLACK\", \"BLACK\", \"BLACK\", \"BLACK\", \"BLACK\", \"BLACK\", \"BLACK\", \"BLACK\", \"BLACK\", \"BLACK\", \"BLACK\", \"BLACK\", \"BLACK\", \"BLACK\", \"BLACK\", \"BLACK\", \"BLACK\", \"BLACK\", \"BLACK\", \"BLACK\", \"BLACK\", \"BLACK\", \"BLACK\", \"BLACK\", \"BLACK\", \"BLACK\", \"BLACK\", \"BLACK\", \"BLACK\", \"BLACK\", \"BLACK\", \"BLACK\", \"BLACK\", \"BLACK\", \"BLACK\", \"BLACK\", \"BLACK\", \"BLACK\", \"BLACK\", \"BLACK\", \"BLACK\", \"BLACK\", \"BLACK\", \"BLACK\", \"BLACK\", \"BLACK\", \"BLACK\", \"BLACK\", \"BLACK\", \"BLACK\", \"BLACK\", \"BLACK\", \"BLACK\", \"BLACK\", \"BLACK\", \"BLACK\", \"BLACK\", \"BLACK\", \"BLACK\", \"BLACK\", \"BLACK\", \"BLACK\", \"BLACK\", \"BLACK\", \"BLACK\", \"BLACK\", \"BLACK\", \"BLACK\", \"BLACK\", \"BLACK\", \"BLACK\", \"BLACK\", \"BLACK\", \"BLACK\", \"BLACK\", \"BLACK\", \"BLACK\", \"BLACK\", \"BLACK\", \"BLACK\", \"BLACK\", \"BLACK\", \"BLACK\", \"BLACK\", \"BLACK\", \"BLACK\", \"BLACK\", \"BLACK\", \"BLACK\", \"BLACK\", \"BLACK\", \"BLACK\", \"BLACK\", \"BLACK\", \"BLACK\", \"BLACK\", \"BLACK\", \"BLACK\", \"BLACK\", \"BLACK\", \"BLACK\", \"BLACK\", \"BLACK\", \"BLACK\"]}, {\"axis\": {\"matches\": true}, \"label\": \"SubjectGender\", \"values\": [\"FEMALE\", \"MALE\", \"MALE\", \"MALE\", \"MALE\", \"MALE\", \"MALE\", \"MALE\", \"FEMALE\", \"MALE\", \"MALE\", \"MALE\", \"MALE\", \"MALE\", \"MALE\", \"FEMALE\", \"FEMALE\", \"MALE\", \"MALE\", \"MALE\", \"MALE\", \"FEMALE\", \"MALE\", \"MALE\", \"FEMALE\", \"FEMALE\", \"MALE\", \"FEMALE\", \"MALE\", \"MALE\", \"MALE\", \"MALE\", \"FEMALE\", \"MALE\", \"MALE\", \"FEMALE\", \"MALE\", \"MALE\", \"FEMALE\", \"MALE\", \"MALE\", \"MALE\", \"MALE\", \"MALE\", \"MALE\", \"MALE\", \"MALE\", \"MALE\", \"MALE\", \"MALE\", \"FEMALE\", \"MALE\", \"FEMALE\", \"MALE\", \"MALE\", \"MALE\", \"MALE\", \"MALE\", \"FEMALE\", \"MALE\", \"MALE\", \"MALE\", \"MALE\", \"MALE\", \"MALE\", \"MALE\", \"FEMALE\", \"MALE\", \"MALE\", \"FEMALE\", \"FEMALE\", \"MALE\", \"MALE\", \"MALE\", \"MALE\", \"FEMALE\", \"MALE\", \"MALE\", \"MALE\", \"MALE\", \"MALE\", \"MALE\", \"MALE\", \"FEMALE\", \"MALE\", \"MALE\", \"MALE\", \"MALE\", \"MALE\", \"MALE\", \"MALE\", \"MALE\", \"MALE\", \"MALE\", \"MALE\", \"MALE\", \"MALE\", \"MALE\", \"MALE\", \"FEMALE\", \"MALE\", \"MALE\", \"FEMALE\", \"MALE\", \"FEMALE\", \"MALE\", \"MALE\", \"MALE\", \"MALE\", \"FEMALE\", \"MALE\", \"MALE\", \"MALE\", \"MALE\", \"MALE\", \"MALE\", \"MALE\", \"MALE\", \"FEMALE\", \"MALE\", \"MALE\", \"FEMALE\", \"FEMALE\", \"FEMALE\", \"MALE\", \"MALE\", \"MALE\", \"MALE\", \"MALE\", \"MALE\", \"MALE\", \"MALE\", \"MALE\", \"FEMALE\", \"MALE\", \"MALE\", \"FEMALE\", \"MALE\", \"MALE\", \"FEMALE\", \"FEMALE\", \"MALE\", \"MALE\", \"MALE\", \"FEMALE\", \"MALE\", \"FEMALE\", \"MALE\", \"MALE\", \"MALE\", \"MALE\", \"MALE\", \"MALE\", \"FEMALE\", \"FEMALE\", \"MALE\", \"FEMALE\", \"FEMALE\", \"MALE\", \"MALE\", \"MALE\", \"MALE\", \"FEMALE\", \"MALE\", \"MALE\", \"MALE\", \"MALE\", \"MALE\", \"MALE\", \"FEMALE\", \"MALE\", \"MALE\", \"MALE\", \"MALE\", \"MALE\", \"MALE\", \"MALE\", \"MALE\", \"FEMALE\", \"MALE\", \"MALE\", \"MALE\", \"MALE\", \"MALE\", \"FEMALE\", \"MALE\", \"MALE\", \"MALE\", \"MALE\", \"MALE\", \"MALE\", \"MALE\", \"MALE\", \"MALE\", \"MALE\", \"MALE\", \"MALE\", \"FEMALE\", \"FEMALE\", \"MALE\", \"MALE\", \"MALE\", \"MALE\", \"MALE\", \"MALE\", \"MALE\", \"MALE\", \"FEMALE\", \"FEMALE\", \"FEMALE\", \"FEMALE\", \"FEMALE\", \"FEMALE\", \"MALE\", \"MALE\", \"FEMALE\", \"MALE\", \"FEMALE\", \"FEMALE\", \"MALE\", \"MALE\", \"MALE\", \"MALE\", \"MALE\", \"MALE\", \"MALE\", \"MALE\", \"FEMALE\", \"MALE\", \"MALE\", \"MALE\", \"MALE\", \"MALE\", \"MALE\", \"FEMALE\", \"MALE\", \"MALE\", \"FEMALE\", \"FEMALE\", \"MALE\", \"MALE\", \"MALE\", \"MALE\", \"MALE\", \"FEMALE\", \"MALE\", \"MALE\", \"MALE\", \"MALE\", \"MALE\", \"MALE\", \"MALE\", \"MALE\", \"MALE\", \"FEMALE\", \"FEMALE\", \"MALE\", \"FEMALE\", \"MALE\", \"MALE\", \"FEMALE\", \"MALE\", \"MALE\", \"MALE\", \"FEMALE\", \"MALE\", \"FEMALE\", \"FEMALE\", \"MALE\", \"MALE\", \"MALE\", \"FEMALE\", \"MALE\", \"MALE\", \"MALE\", \"MALE\", \"MALE\", \"MALE\", \"FEMALE\", \"FEMALE\", \"MALE\", \"MALE\", \"MALE\", \"MALE\", \"FEMALE\", \"FEMALE\", \"MALE\", \"MALE\", \"FEMALE\", \"FEMALE\", \"FEMALE\", \"MALE\", \"MALE\", \"MALE\", \"FEMALE\", \"MALE\", \"MALE\", \"MALE\", \"MALE\", \"MALE\", \"FEMALE\", \"MALE\", \"MALE\", \"MALE\", \"MALE\", \"FEMALE\", \"FEMALE\", \"MALE\", \"FEMALE\", \"MALE\", \"MALE\", \"MALE\", \"MALE\", \"MALE\", \"MALE\", \"MALE\", \"MALE\", \"FEMALE\", \"FEMALE\", \"MALE\", \"MALE\", \"MALE\", \"FEMALE\", \"MALE\", \"MALE\", \"MALE\", \"FEMALE\", \"MALE\", \"MALE\", \"FEMALE\", \"FEMALE\", \"FEMALE\", \"MALE\", \"MALE\", \"MALE\", \"MALE\", \"MALE\", \"MALE\", \"FEMALE\", \"MALE\", \"MALE\", \"FEMALE\", \"FEMALE\", \"MALE\", \"MALE\", \"FEMALE\", \"MALE\", \"MALE\", \"FEMALE\", \"FEMALE\", \"MALE\", \"FEMALE\", \"MALE\"]}, {\"axis\": {\"matches\": true}, \"label\": \"SubjectHeight\", \"values\": [69.0, 65.0, 67.0, 66.0, 65.0, 68.0, 68.0, 67.0, 63.0, 76.0, 68.0, 68.0, 66.0, 75.0, 72.0, 67.0, 65.0, 68.0, 71.0, 68.0, 74.0, 63.0, 74.0, 68.0, 66.0, 68.0, 71.0, 71.0, 68.0, 74.0, 68.0, 69.0, 65.0, 69.0, 69.0, 66.0, 65.0, 68.0, 64.0, 68.0, 64.0, 66.0, 74.0, 75.0, 72.0, 67.0, 70.0, 69.0, 70.0, 73.0, 66.0, 71.0, 67.0, 69.0, 66.0, 69.0, 71.0, 71.0, 66.0, 69.0, 67.0, 70.0, 67.0, 66.0, 68.0, 70.0, 63.0, 62.0, 72.0, 69.0, 62.0, 70.0, 63.0, 76.0, 69.0, 68.0, 66.0, 71.0, 65.0, 67.0, 69.0, 64.0, 68.0, 67.0, 67.0, 72.0, 64.0, 69.0, 67.0, 70.0, 67.0, 71.0, 71.0, 64.0, 64.0, 75.0, 70.0, 75.0, 65.0, 61.0, 70.0, 66.0, 69.0, 68.0, 63.0, 71.0, 72.0, 71.0, 72.0, 69.0, 70.0, 71.0, 70.0, 68.0, 74.0, 68.0, 66.0, 68.0, 60.0, 66.0, 69.0, 62.0, 65.0, 62.0, 69.0, 72.0, 68.0, 67.0, 70.0, 68.0, 72.0, 66.0, 65.0, 66.0, 68.0, 76.0, 67.0, 74.0, 71.0, 66.0, 63.0, 66.0, 74.0, 67.0, 69.0, 68.0, 65.0, 71.0, 69.0, 66.0, 72.0, 76.0, 71.0, 55.0, 67.0, 72.0, 66.0, 62.0, 68.0, 74.0, 64.0, 73.0, 64.0, 69.0, 66.0, 71.0, 68.0, 71.0, 71.0, 69.0, 72.0, 68.0, 72.0, 68.0, 71.0, 70.0, 70.0, 71.0, 64.0, 67.0, 69.0, 66.0, 74.0, 67.0, 62.0, 69.0, 66.0, 72.0, 72.0, 65.0, 68.0, 70.0, 67.0, 71.0, 74.0, 70.0, 76.0, 66.0, 59.0, 72.0, 73.0, 68.0, 72.0, 72.0, 71.0, 71.0, 75.0, 67.0, 66.0, 67.0, 65.0, 66.0, 65.0, 65.0, 67.0, 67.0, 69.0, 66.0, 66.0, 74.0, 69.0, 65.0, 71.0, 71.0, 69.0, 73.0, 69.0, 65.0, 69.0, 67.0, 69.0, 68.0, 75.0, 68.0, 66.0, 75.0, 67.0, 63.0, 60.0, 72.0, 75.0, 68.0, 80.0, 69.0, 66.0, 72.0, 67.0, 69.0, 67.0, 69.0, 65.0, 69.0, 66.0, 71.0, 65.0, 68.0, 72.0, 64.0, 69.0, 69.0, 64.0, 79.0, 71.0, 69.0, 65.0, 69.0, 61.0, 62.0, 73.0, 72.0, 67.0, 65.0, 66.0, 68.0, 70.0, 69.0, 72.0, 71.0, 61.0, 62.0, 67.0, 69.0, 67.0, 65.0, 66.0, 66.0, 70.0, 71.0, 64.0, 71.0, 69.0, 67.0, 69.0, 66.0, 65.0, 71.0, 67.0, 74.0, 68.0, 65.0, 66.0, 73.0, 68.0, 69.0, 66.0, 66.0, 63.0, 74.0, 68.0, 74.0, 74.0, 69.0, 72.0, 67.0, 60.0, 60.0, 60.0, 66.0, 65.0, 66.0, 69.0, 74.0, 65.0, 75.0, 72.0, 66.0, 65.0, 72.0, 72.0, 61.0, 60.0, 65.0, 69.0, 65.0, 69.0, 69.0, 65.0, 69.0, 64.0, 75.0, 71.0, 63.0, 62.0, 69.0, 67.0, 62.0, 74.0, 72.0, 66.0, 60.0, 69.0, 63.0, 72.0]}, {\"axis\": {\"matches\": true}, \"label\": \"SubjectHairColor\", \"values\": [\"Black\", \"Black\", \"Black\", \"Black\", \"Black\", \"Black\", \"Black\", \"Black\", \"Black\", \"Black\", \"Grey/Silver\", \"Black\", \"Black\", \"Black\", \"Black\", \"Black\", \"Black\", \"Black\", \"Black\", \"Grey/Silver\", \"Black\", \"Black\", \"Black\", \"Black\", \"Black\", \"Black\", \"Blonde\", \"Black\", \"Black\", \"Black\", \"Black\", \"Black\", \"Black\", \"Black\", \"Black\", \"Black\", \"Black\", \"Black\", \"Black\", \"Black\", \"Black\", \"Black\", \"Black\", \"Black\", \"Black\", \"Black\", \"Black\", \"Black\", \"Black\", \"Black\", \"Black\", \"Black\", \"Black\", \"Black\", \"Black\", \"Black\", \"Black\", \"Salt/Pepper\", \"Black\", \"Black\", \"Black\", \"Black\", \"Black\", \"Brown\", \"Black\", \"Black\", \"Black\", \"Black\", \"Black\", \"Black\", \"Black\", \"Black\", \"Black\", \"Black\", \"Black\", \"Black\", \"Black\", \"Black\", \"Black\", \"Grey/Silver\", \"Black\", \"Black\", \"Black\", \"Black\", \"Black\", \"Black\", \"Brown\", \"Black\", \"Black\", \"Black\", \"Black\", \"Black\", \"Black\", \"Black\", \"Black\", \"Black\", \"Black\", \"Black\", \"Black\", \"Black\", \"Black\", \"Black\", \"Black\", \"Black\", \"Black\", \"Black\", \"Black\", \"Black\", \"Black\", \"Black\", \"Black\", \"Black\", \"Black\", \"Black\", \"Black\", \"Black\", \"Black\", \"Black\", \"Black\", \"Black\", \"Black\", \"Brown\", \"Brown\", \"Brown\", \"Black\", \"Black\", \"Black\", \"Black\", \"Black\", \"Black\", \"Black\", \"Black\", \"Black\", \"Black\", \"Black\", \"Grey/Silver\", \"Brown\", \"Black\", \"Black\", \"Black\", \"Black\", \"Black\", \"Black\", \"Black\", \"Black\", \"Black\", \"Black\", \"Black\", \"Black\", \"Black\", \"Black\", \"Black\", \"Black\", \"Black\", \"Brown\", \"Black\", \"Black\", \"Black\", \"Black\", \"Black\", \"Black\", \"Black\", \"Black\", \"Black\", \"Black\", \"Black\", \"Black\", \"Black\", \"Black\", \"Black\", \"Black\", \"Black\", \"Black\", \"Black\", \"Black\", \"Black\", \"Black\", \"Black\", \"Black\", \"Black\", \"Black\", \"Black\", \"Black\", \"Black\", \"Black\", \"Black\", \"Black\", \"Black\", \"Black\", \"Black\", \"Black\", \"Black\", \"Black\", \"Black\", \"Black\", \"Black\", \"Black\", \"Black\", \"Black\", \"Black\", \"Brown\", \"Black\", \"Black\", \"Black\", \"Black\", \"Black\", \"Black\", \"Black\", \"Black\", \"Black\", \"Black\", \"Black\", \"Black\", \"Black\", \"Black\", \"Black\", \"Black\", \"Black\", \"Black\", \"Black\", \"Black\", \"Black\", \"Black\", \"Black\", \"Black\", \"Brown\", \"Brown\", \"Brown\", \"Salt/Pepper\", \"Salt/Pepper\", \"Black\", \"Black\", \"Black\", \"Black\", \"Black\", \"Black\", \"Black\", \"Black\", \"Black\", \"Black\", \"Black\", \"Black\", \"Black\", \"Brown\", \"Black\", \"Salt/Pepper\", \"Brown\", \"Brown\", \"Brown\", \"Brown\", \"Black\", \"Black\", \"Black\", \"Black\", \"Black\", \"Black\", \"Black\", \"Black\", \"Black\", \"Black\", \"Black\", \"Black\", \"Black\", \"Black\", \"Black\", \"Black\", \"Black\", \"Black\", \"Black\", \"Black\", \"Black\", \"Blonde\", \"Black\", \"Brown\", \"Brown\", \"Black\", \"Brown\", \"Brown\", \"Black\", \"Black\", \"Black\", \"Black\", \"Black\", \"Black\", \"Black\", \"Black\", \"Black\", \"Black\", \"Black\", \"Black\", \"Black\", \"Black\", \"Black\", \"Black\", \"Black\", \"Black\", \"Black\", \"Black\", \"Brown\", \"Black\", \"Grey/Silver\", \"Black\", \"Black\", \"Black\", \"Black\", \"Black\", \"Black\", \"Salt/Pepper\", \"Black\", \"Black\", \"Black\", \"Black\", \"Black\", \"Black\", \"Black\", \"Black\", \"Black\", \"Multi-Colored\", \"Black\", \"Black\", \"Black\", \"Black\", \"Black\", \"Black\", \"Brown\", \"Black\", \"Black\", \"Black\", \"Black\", \"Black\", \"Black\", \"Black\", \"Brown\", \"Black\", \"Black\", \"Black\", \"Black\", \"Black\", \"Brown\", \"Black\", \"Black\", \"Black\", \"Black\", \"Black\", \"Black\", \"Brown\", \"Black\", \"Black\", \"Brown\", \"Brown\", \"Black\", \"Black\", \"Brown\"]}, {\"axis\": {\"matches\": true}, \"label\": \"Zip\", \"values\": [0, 0, 0, 0, 0, 0, 0, 0, 0, 0, 0, 0, 0, 0, 0, 0, 0, 0, 0, 0, 0, 0, 0, 0, 0, 0, 0, 0, 0, 0, 0, 0, 0, 0, 0, 0, 0, 0, 0, 0, 0, 0, 0, 0, 0, 0, 0, 0, 0, 0, 0, 0, 0, 0, 0, 0, 0, 0, 0, 0, 0, 0, 0, 0, 0, 0, 0, 0, 0, 0, 0, 0, 0, 0, 0, 0, 0, 0, 0, 0, 0, 0, 0, 0, 0, 0, 0, 0, 0, 0, 0, 0, 0, 0, 0, 0, 0, 0, 0, 0, 0, 0, 0, 0, 0, 0, 0, 0, 0, 0, 0, 0, 0, 0, 0, 0, 0, 0, 0, 0, 0, 0, 0, 0, 0, 0, 0, 0, 0, 0, 0, 0, 0, 0, 0, 0, 0, 0, 0, 0, 0, 0, 0, 0, 0, 0, 0, 0, 0, 0, 0, 0, 0, 0, 0, 0, 0, 0, 0, 0, 0, 0, 0, 0, 0, 0, 0, 0, 0, 0, 0, 0, 0, 0, 0, 0, 0, 0, 0, 0, 0, 0, 0, 0, 0, 0, 0, 0, 0, 0, 0, 0, 0, 0, 0, 0, 0, 0, 0, 0, 0, 0, 0, 0, 0, 0, 0, 0, 0, 0, 0, 0, 0, 0, 0, 0, 0, 0, 0, 0, 0, 0, 0, 0, 0, 0, 0, 0, 0, 0, 0, 0, 0, 0, 0, 0, 0, 0, 0, 0, 0, 0, 0, 0, 0, 0, 0, 0, 0, 0, 0, 0, 0, 0, 0, 0, 0, 0, 0, 0, 0, 0, 0, 0, 0, 0, 0, 0, 0, 0, 0, 0, 0, 0, 0, 0, 0, 0, 0, 0, 0, 0, 0, 0, 0, 0, 0, 0, 0, 0, 0, 0, 0, 0, 0, 0, 0, 0, 0, 0, 0, 0, 0, 0, 0, 0, 0, 0, 0, 0, 0, 0, 0, 0, 0, 0, 0, 0, 0, 0, 0, 0, 0, 0, 0, 0, 0, 0, 0, 0, 0, 0, 0, 0, 0, 0, 0, 0, 0, 0, 0, 0, 0, 0, 0, 0, 0, 0, 0, 0, 0, 0, 0]}], \"hoverlabel\": {\"namelength\": 0}, \"hovertemplate\": \"SubjectRace=BLACK<br>%{xaxis.title.text}=%{x}<br>%{yaxis.title.text}=%{y}\", \"legendgroup\": \"SubjectRace=BLACK\", \"marker\": {\"color\": \"#636efa\", \"symbol\": \"circle\"}, \"name\": \"SubjectRace=BLACK\", \"showlegend\": true, \"type\": \"splom\"}, {\"dimensions\": [{\"axis\": {\"matches\": true}, \"label\": \"VehicleYear\", \"values\": [0.0, 2000.0, 0.0, 0.0, 0.0, 0.0, 0.0, 2001.0, 2004.0, 0.0, 0.0, 0.0, 0.0, 0.0, 0.0, 0.0, 0.0, 2009.0, 2009.0, 1995.0, 0.0, 0.0, 0.0, 2007.0, 2007.0, 0.0, 0.0, 0.0, 0.0, 0.0, 0.0, 0.0, 0.0, 2005.0, 0.0, 0.0, 0.0, 2005.0, 2009.0, 1995.0, 2002.0, 0.0, 1988.0, 0.0, 0.0, 0.0, 0.0, 0.0, 0.0, 0.0, 0.0, 0.0, 2006.0, 2006.0, 2006.0, 1996.0, 0.0, 0.0, 1997.0, 2009.0, 2009.0, 0.0, 2001.0, 2005.0, 2005.0, 1988.0, 2006.0, 2006.0, 2008.0, 0.0, 0.0, 0.0, 1997.0, 0.0, 0.0, 2007.0, 2005.0, 0.0, 0.0, 0.0, 0.0, 0.0, 0.0, 2005.0, 2005.0, 2009.0, 0.0, 0.0, 0.0, 1999.0, 0.0, 1999.0, 0.0, 0.0, 2009.0, 0.0, 2008.0, 2008.0, 0.0, 1996.0, 0.0, 0.0, 2000.0, 0.0, 2006.0, 2006.0, 0.0, 0.0, 0.0, 0.0, 0.0, 0.0, 0.0, 0.0, 1999.0, 0.0, 0.0, 2003.0, 0.0, 2005.0, 0.0, 0.0, 0.0, 0.0, 0.0, 0.0, 0.0, 0.0, 0.0, 0.0, 0.0, 0.0]}, {\"axis\": {\"matches\": true}, \"label\": \"VehicleColor\", \"values\": [0, \"WHITE\", 0, 0, 0, 0, 0, \"SILVER\", \"GOLD\", 0, 0, 0, 0, 0, 0, 0, 0, \"WHITE\", \"WHITE\", \"GREEN\", 0, 0, 0, \"RED\", \"RED\", 0, 0, 0, 0, 0, 0, 0, 0, \"BLACK\", 0, 0, 0, \"GOLD\", \"BLACK\", \"WHITE\", \"GOLD\", 0, \"GRAY\", 0, 0, 0, 0, 0, 0, 0, 0, 0, \"WHITE\", \"WHITE\", \"GRAY\", \"SILVER\", 0, 0, \"WHITE\", \"BLACK\", \"BLACK\", 0, \"SILVER\", \"WHITE\", \"WHITE\", \"RED\", \"BLACK\", \"BLACK\", \"SILVER\", 0, 0, 0, \"GREEN\", 0, 0, \"GOLD\", \"BLACK\", 0, 0, 0, 0, 0, 0, \"BLACK\", \"BLACK\", \"SILVER\", 0, 0, 0, \"GREEN\", 0, \"WHITE\", 0, 0, \"BLACK\", 0, \"BLUE\", \"BLUE\", 0, \"RED\", 0, 0, \"BLACK\", 0, \"BRONZE\", \"BRONZE\", 0, 0, 0, 0, 0, 0, 0, 0, \"RED\", 0, 0, \"SILVER\", 0, \"WHITE\", 0, 0, 0, 0, 0, 0, 0, 0, 0, 0, 0, 0]}, {\"axis\": {\"matches\": true}, \"label\": \"SubjectRace\", \"values\": [\"WHITE\", \"WHITE\", \"WHITE\", \"WHITE\", \"WHITE\", \"WHITE\", \"WHITE\", \"WHITE\", \"WHITE\", \"WHITE\", \"WHITE\", \"WHITE\", \"WHITE\", \"WHITE\", \"WHITE\", \"WHITE\", \"WHITE\", \"WHITE\", \"WHITE\", \"WHITE\", \"WHITE\", \"WHITE\", \"WHITE\", \"WHITE\", \"WHITE\", \"WHITE\", \"WHITE\", \"WHITE\", \"WHITE\", \"WHITE\", \"WHITE\", \"WHITE\", \"WHITE\", \"WHITE\", \"WHITE\", \"WHITE\", \"WHITE\", \"WHITE\", \"WHITE\", \"WHITE\", \"WHITE\", \"WHITE\", \"WHITE\", \"WHITE\", \"WHITE\", \"WHITE\", \"WHITE\", \"WHITE\", \"WHITE\", \"WHITE\", \"WHITE\", \"WHITE\", \"WHITE\", \"WHITE\", \"WHITE\", \"WHITE\", \"WHITE\", \"WHITE\", \"WHITE\", \"WHITE\", \"WHITE\", \"WHITE\", \"WHITE\", \"WHITE\", \"WHITE\", \"WHITE\", \"WHITE\", \"WHITE\", \"WHITE\", \"WHITE\", \"WHITE\", \"WHITE\", \"WHITE\", \"WHITE\", \"WHITE\", \"WHITE\", \"WHITE\", \"WHITE\", \"WHITE\", \"WHITE\", \"WHITE\", \"WHITE\", \"WHITE\", \"WHITE\", \"WHITE\", \"WHITE\", \"WHITE\", \"WHITE\", \"WHITE\", \"WHITE\", \"WHITE\", \"WHITE\", \"WHITE\", \"WHITE\", \"WHITE\", \"WHITE\", \"WHITE\", \"WHITE\", \"WHITE\", \"WHITE\", \"WHITE\", \"WHITE\", \"WHITE\", \"WHITE\", \"WHITE\", \"WHITE\", \"WHITE\", \"WHITE\", \"WHITE\", \"WHITE\", \"WHITE\", \"WHITE\", \"WHITE\", \"WHITE\", \"WHITE\", \"WHITE\", \"WHITE\", \"WHITE\", \"WHITE\", \"WHITE\", \"WHITE\", \"WHITE\", \"WHITE\", \"WHITE\", \"WHITE\", \"WHITE\", \"WHITE\", \"WHITE\", \"WHITE\", \"WHITE\", \"WHITE\", \"WHITE\"]}, {\"axis\": {\"matches\": true}, \"label\": \"SubjectGender\", \"values\": [\"FEMALE\", \"MALE\", \"MALE\", \"MALE\", \"MALE\", \"MALE\", \"MALE\", \"MALE\", \"FEMALE\", \"MALE\", \"MALE\", \"FEMALE\", \"FEMALE\", \"MALE\", \"MALE\", \"MALE\", \"MALE\", \"MALE\", \"FEMALE\", \"MALE\", \"FEMALE\", \"MALE\", \"FEMALE\", \"MALE\", \"MALE\", \"MALE\", \"FEMALE\", \"MALE\", \"FEMALE\", \"MALE\", \"FEMALE\", \"FEMALE\", \"MALE\", \"FEMALE\", \"MALE\", \"MALE\", \"MALE\", \"MALE\", \"FEMALE\", \"MALE\", \"FEMALE\", \"MALE\", \"MALE\", \"MALE\", \"MALE\", \"FEMALE\", \"FEMALE\", \"MALE\", \"FEMALE\", \"MALE\", \"MALE\", \"MALE\", \"MALE\", \"MALE\", \"MALE\", \"FEMALE\", \"MALE\", \"MALE\", \"MALE\", \"FEMALE\", \"MALE\", \"MALE\", \"FEMALE\", \"FEMALE\", \"FEMALE\", \"MALE\", \"FEMALE\", \"MALE\", \"MALE\", \"MALE\", \"MALE\", \"MALE\", \"MALE\", \"MALE\", \"MALE\", \"MALE\", \"FEMALE\", \"MALE\", \"MALE\", \"MALE\", \"MALE\", \"FEMALE\", \"MALE\", \"FEMALE\", \"FEMALE\", \"FEMALE\", \"FEMALE\", \"MALE\", \"MALE\", \"MALE\", \"MALE\", \"MALE\", \"FEMALE\", \"MALE\", \"MALE\", \"MALE\", \"MALE\", \"MALE\", \"FEMALE\", \"MALE\", \"MALE\", \"MALE\", \"FEMALE\", \"MALE\", \"MALE\", \"FEMALE\", \"MALE\", \"MALE\", \"FEMALE\", \"MALE\", \"MALE\", \"MALE\", \"MALE\", \"MALE\", \"MALE\", \"MALE\", \"MALE\", \"MALE\", \"MALE\", \"FEMALE\", \"MALE\", \"FEMALE\", \"MALE\", \"MALE\", \"MALE\", \"MALE\", \"FEMALE\", \"FEMALE\", \"MALE\", \"FEMALE\", \"MALE\", \"FEMALE\"]}, {\"axis\": {\"matches\": true}, \"label\": \"SubjectHeight\", \"values\": [65.0, 70.0, 66.0, 75.0, 72.0, 65.0, 70.0, 67.0, 62.0, 71.0, 69.0, 66.0, 65.0, 69.0, 71.0, 71.0, 68.0, 77.0, 67.0, 71.0, 60.0, 72.0, 69.0, 78.0, 76.0, 74.0, 69.0, 68.0, 65.0, 73.0, 64.0, 67.0, 0.0, 66.0, 67.0, 76.0, 66.0, 67.0, 62.0, 68.0, 66.0, 70.0, 72.0, 67.0, 68.0, 62.0, 66.0, 68.0, 65.0, 74.0, 67.0, 69.0, 69.0, 70.0, 66.0, 61.0, 68.0, 67.0, 72.0, 63.0, 72.0, 67.0, 66.0, 65.0, 62.0, 73.0, 64.0, 69.0, 64.0, 70.0, 71.0, 71.0, 72.0, 67.0, 67.0, 65.0, 63.0, 73.0, 68.0, 68.0, 70.0, 64.0, 68.0, 64.0, 64.0, 69.0, 66.0, 74.0, 69.0, 69.0, 68.0, 69.0, 71.0, 68.0, 72.0, 66.0, 72.0, 69.0, 71.0, 66.0, 66.0, 66.0, 72.0, 64.0, 71.0, 70.0, 69.0, 69.0, 12.0, 72.0, 66.0, 72.0, 68.0, 65.0, 70.0, 66.0, 74.0, 76.0, 71.0, 65.0, 70.0, 62.0, 67.0, 67.0, 69.0, 72.0, 63.0, 62.0, 66.0, 63.0, 71.0, 63.0]}, {\"axis\": {\"matches\": true}, \"label\": \"SubjectHairColor\", \"values\": [\"Blonde\", \"Brown\", \"Black\", \"Brown\", \"Brown\", \"Black\", \"Black\", \"Brown\", \"Red\", \"Brown\", \"Red\", \"Brown\", \"Brown\", \"Brown\", \"Brown\", \"Brown\", \"Blonde\", \"Brown\", \"Blonde\", \"Brown\", \"Brown\", \"Brown\", \"Brown\", \"Brown\", \"Grey/Silver\", \"Black\", \"Brown\", \"Blonde\", \"Brown\", \"Brown\", \"Blonde\", \"Brown\", \"Black\", \"Brown\", \"Salt/Pepper\", \"Brown\", \"Brown\", \"Brown\", \"Brown\", \"Brown\", \"Blonde\", \"Brown\", \"Brown\", \"Black\", \"Brown\", \"Blonde\", \"Blonde\", \"Brown\", \"Blonde\", \"Blonde\", \"Brown\", \"Blonde\", \"Brown\", \"Brown\", \"Brown\", \"Brown\", \"Brown\", \"Brown\", \"Brown\", \"Brown\", \"Brown\", \"Brown\", \"Brown\", \"Brown\", \"Brown\", \"Brown\", \"Black\", \"Blonde\", \"Salt/Pepper\", \"Brown\", \"Brown\", \"Blonde\", \"Brown\", \"Brown\", \"Brown\", \"Brown\", \"Brown\", \"Blonde\", \"Salt/Pepper\", \"Black\", \"Brown\", \"Brown\", \"Brown\", \"Brown\", \"Brown\", \"Brown\", \"Red\", \"Brown\", \"Brown\", \"Brown\", \"Brown\", \"Brown\", \"Blonde\", \"Brown\", \"Brown\", \"Brown\", \"Brown\", \"Blonde\", \"Blonde\", \"Brown\", \"Blonde\", \"Blonde\", \"Brown\", \"Brown\", \"Brown\", \"Brown\", \"Brown\", \"Brown\", \"Brown\", \"Brown\", \"Brown\", \"Brown\", \"Brown\", \"Brown\", \"Grey/Silver\", \"Brown\", \"Brown\", \"Black\", \"Blonde\", \"Brown\", \"Brown\", \"Black\", \"Black\", \"Brown\", \"Brown\", \"Brown\", \"Black\", \"Red\", \"Brown\", \"Red\", \"Blonde\", \"Blonde\"]}, {\"axis\": {\"matches\": true}, \"label\": \"Zip\", \"values\": [0, 0, 0, 0, 0, 0, 0, 0, 0, 0, 0, 0, 0, 0, 0, 0, 0, 0, 0, 0, 0, 0, 0, 0, 0, 0, 0, 0, 0, 0, 0, 0, 0, 0, 0, 0, 0, 0, 0, 0, 0, 0, 0, 0, 0, 0, 0, 0, 0, 0, 0, 0, 0, 0, 0, 0, 0, 0, 0, 0, 0, 0, 0, 0, 0, 0, 0, 0, 0, 0, 0, 0, 0, 0, 0, 0, 0, 0, 0, 0, 0, 0, 0, 0, 0, 0, 0, 0, 0, 0, 0, 0, 0, 0, 0, 0, 0, 0, 0, 0, 0, 0, 0, 0, 0, 0, 0, 0, 0, 0, 0, 0, 0, 0, 0, 0, 0, 0, 0, 0, 0, 0, 0, 0, 0, 0, 0, 0, 0, 0, 0, 0]}], \"hoverlabel\": {\"namelength\": 0}, \"hovertemplate\": \"SubjectRace=WHITE<br>%{xaxis.title.text}=%{x}<br>%{yaxis.title.text}=%{y}\", \"legendgroup\": \"SubjectRace=WHITE\", \"marker\": {\"color\": \"#EF553B\", \"symbol\": \"circle\"}, \"name\": \"SubjectRace=WHITE\", \"showlegend\": true, \"type\": \"splom\"}, {\"dimensions\": [{\"axis\": {\"matches\": true}, \"label\": \"VehicleYear\", \"values\": [1996.0, 1991.0, 2000.0, 1994.0, 2007.0]}, {\"axis\": {\"matches\": true}, \"label\": \"VehicleColor\", \"values\": [\"BLACK\", \"WHITE\", \"BURGUNDY\", \"PURPLE\", \"SILVER\"]}, {\"axis\": {\"matches\": true}, \"label\": \"SubjectRace\", \"values\": [\"HISPANIC\", \"HISPANIC\", \"HISPANIC\", \"HISPANIC\", \"HISPANIC\"]}, {\"axis\": {\"matches\": true}, \"label\": \"SubjectGender\", \"values\": [\"MALE\", \"MALE\", \"MALE\", \"MALE\", \"FEMALE\"]}, {\"axis\": {\"matches\": true}, \"label\": \"SubjectHeight\", \"values\": [67.0, 67.0, 66.0, 66.0, 58.0]}, {\"axis\": {\"matches\": true}, \"label\": \"SubjectHairColor\", \"values\": [\"Black\", \"Brown\", \"Black\", \"Brown\", \"Black\"]}, {\"axis\": {\"matches\": true}, \"label\": \"Zip\", \"values\": [0, 0, 0, 0, 0]}], \"hoverlabel\": {\"namelength\": 0}, \"hovertemplate\": \"SubjectRace=HISPANIC<br>%{xaxis.title.text}=%{x}<br>%{yaxis.title.text}=%{y}\", \"legendgroup\": \"SubjectRace=HISPANIC\", \"marker\": {\"color\": \"#00cc96\", \"symbol\": \"circle\"}, \"name\": \"SubjectRace=HISPANIC\", \"showlegend\": true, \"type\": \"splom\"}, {\"dimensions\": [{\"axis\": {\"matches\": true}, \"label\": \"VehicleYear\", \"values\": [1995.0, 0.0, 0.0]}, {\"axis\": {\"matches\": true}, \"label\": \"VehicleColor\", \"values\": [\"GREEN\", 0, 0]}, {\"axis\": {\"matches\": true}, \"label\": \"SubjectRace\", \"values\": [\"UNKNOWN\", \"UNKNOWN\", \"UNKNOWN\"]}, {\"axis\": {\"matches\": true}, \"label\": \"SubjectGender\", \"values\": [\"MALE\", \"MALE\", \"MALE\"]}, {\"axis\": {\"matches\": true}, \"label\": \"SubjectHeight\", \"values\": [67.0, 71.0, 69.0]}, {\"axis\": {\"matches\": true}, \"label\": \"SubjectHairColor\", \"values\": [\"Black\", \"Black\", \"Brown\"]}, {\"axis\": {\"matches\": true}, \"label\": \"Zip\", \"values\": [0, 0, 0]}], \"hoverlabel\": {\"namelength\": 0}, \"hovertemplate\": \"SubjectRace=UNKNOWN<br>%{xaxis.title.text}=%{x}<br>%{yaxis.title.text}=%{y}\", \"legendgroup\": \"SubjectRace=UNKNOWN\", \"marker\": {\"color\": \"#ab63fa\", \"symbol\": \"circle\"}, \"name\": \"SubjectRace=UNKNOWN\", \"showlegend\": true, \"type\": \"splom\"}, {\"dimensions\": [{\"axis\": {\"matches\": true}, \"label\": \"VehicleYear\", \"values\": [2001.0, 0.0, 0.0, 0.0]}, {\"axis\": {\"matches\": true}, \"label\": \"VehicleColor\", \"values\": [\"SILVER\", 0, 0, 0]}, {\"axis\": {\"matches\": true}, \"label\": \"SubjectRace\", \"values\": [\"ASIAN\", \"ASIAN\", \"ASIAN\", \"ASIAN\"]}, {\"axis\": {\"matches\": true}, \"label\": \"SubjectGender\", \"values\": [\"FEMALE\", \"MALE\", \"MALE\", \"FEMALE\"]}, {\"axis\": {\"matches\": true}, \"label\": \"SubjectHeight\", \"values\": [68.0, 68.0, 66.0, 60.0]}, {\"axis\": {\"matches\": true}, \"label\": \"SubjectHairColor\", \"values\": [\"Black\", \"Black\", \"Black\", \"Black\"]}, {\"axis\": {\"matches\": true}, \"label\": \"Zip\", \"values\": [0, 0, 0, 0]}], \"hoverlabel\": {\"namelength\": 0}, \"hovertemplate\": \"SubjectRace=ASIAN<br>%{xaxis.title.text}=%{x}<br>%{yaxis.title.text}=%{y}\", \"legendgroup\": \"SubjectRace=ASIAN\", \"marker\": {\"color\": \"#FFA15A\", \"symbol\": \"circle\"}, \"name\": \"SubjectRace=ASIAN\", \"showlegend\": true, \"type\": \"splom\"}, {\"dimensions\": [{\"axis\": {\"matches\": true}, \"label\": \"VehicleYear\", \"values\": [2000.0, 2008.0, 2007.0]}, {\"axis\": {\"matches\": true}, \"label\": \"VehicleColor\", \"values\": [\"CREAM\", \"BLACK\", \"WHITE\"]}, {\"axis\": {\"matches\": true}, \"label\": \"SubjectRace\", \"values\": [0, 0, 0]}, {\"axis\": {\"matches\": true}, \"label\": \"SubjectGender\", \"values\": [0, 0, 0]}, {\"axis\": {\"matches\": true}, \"label\": \"SubjectHeight\", \"values\": [0.0, 0.0, 0.0]}, {\"axis\": {\"matches\": true}, \"label\": \"SubjectHairColor\", \"values\": [0, 0, 0]}, {\"axis\": {\"matches\": true}, \"label\": \"Zip\", \"values\": [0, 0, 0]}], \"hoverlabel\": {\"namelength\": 0}, \"hovertemplate\": \"SubjectRace=0<br>%{xaxis.title.text}=%{x}<br>%{yaxis.title.text}=%{y}\", \"legendgroup\": \"SubjectRace=0\", \"marker\": {\"color\": \"#19d3f3\", \"symbol\": \"circle\"}, \"name\": \"SubjectRace=0\", \"showlegend\": true, \"type\": \"splom\"}],\n",
              "                        {\"dragmode\": \"select\", \"legend\": {\"tracegroupgap\": 0}, \"margin\": {\"t\": 60}, \"template\": {\"data\": {\"bar\": [{\"error_x\": {\"color\": \"#2a3f5f\"}, \"error_y\": {\"color\": \"#2a3f5f\"}, \"marker\": {\"line\": {\"color\": \"#E5ECF6\", \"width\": 0.5}}, \"type\": \"bar\"}], \"barpolar\": [{\"marker\": {\"line\": {\"color\": \"#E5ECF6\", \"width\": 0.5}}, \"type\": \"barpolar\"}], \"carpet\": [{\"aaxis\": {\"endlinecolor\": \"#2a3f5f\", \"gridcolor\": \"white\", \"linecolor\": \"white\", \"minorgridcolor\": \"white\", \"startlinecolor\": \"#2a3f5f\"}, \"baxis\": {\"endlinecolor\": \"#2a3f5f\", \"gridcolor\": \"white\", \"linecolor\": \"white\", \"minorgridcolor\": \"white\", \"startlinecolor\": \"#2a3f5f\"}, \"type\": \"carpet\"}], \"choropleth\": [{\"colorbar\": {\"outlinewidth\": 0, \"ticks\": \"\"}, \"type\": \"choropleth\"}], \"contour\": [{\"colorbar\": {\"outlinewidth\": 0, \"ticks\": \"\"}, \"colorscale\": [[0.0, \"#0d0887\"], [0.1111111111111111, \"#46039f\"], [0.2222222222222222, \"#7201a8\"], [0.3333333333333333, \"#9c179e\"], [0.4444444444444444, \"#bd3786\"], [0.5555555555555556, \"#d8576b\"], [0.6666666666666666, \"#ed7953\"], [0.7777777777777778, \"#fb9f3a\"], [0.8888888888888888, \"#fdca26\"], [1.0, \"#f0f921\"]], \"type\": \"contour\"}], \"contourcarpet\": [{\"colorbar\": {\"outlinewidth\": 0, \"ticks\": \"\"}, \"type\": \"contourcarpet\"}], \"heatmap\": [{\"colorbar\": {\"outlinewidth\": 0, \"ticks\": \"\"}, \"colorscale\": [[0.0, \"#0d0887\"], [0.1111111111111111, \"#46039f\"], [0.2222222222222222, \"#7201a8\"], [0.3333333333333333, \"#9c179e\"], [0.4444444444444444, \"#bd3786\"], [0.5555555555555556, \"#d8576b\"], [0.6666666666666666, \"#ed7953\"], [0.7777777777777778, \"#fb9f3a\"], [0.8888888888888888, \"#fdca26\"], [1.0, \"#f0f921\"]], \"type\": \"heatmap\"}], \"heatmapgl\": [{\"colorbar\": {\"outlinewidth\": 0, \"ticks\": \"\"}, \"colorscale\": [[0.0, \"#0d0887\"], [0.1111111111111111, \"#46039f\"], [0.2222222222222222, \"#7201a8\"], [0.3333333333333333, \"#9c179e\"], [0.4444444444444444, \"#bd3786\"], [0.5555555555555556, \"#d8576b\"], [0.6666666666666666, \"#ed7953\"], [0.7777777777777778, \"#fb9f3a\"], [0.8888888888888888, \"#fdca26\"], [1.0, \"#f0f921\"]], \"type\": \"heatmapgl\"}], \"histogram\": [{\"marker\": {\"colorbar\": {\"outlinewidth\": 0, \"ticks\": \"\"}}, \"type\": \"histogram\"}], \"histogram2d\": [{\"colorbar\": {\"outlinewidth\": 0, \"ticks\": \"\"}, \"colorscale\": [[0.0, \"#0d0887\"], [0.1111111111111111, \"#46039f\"], [0.2222222222222222, \"#7201a8\"], [0.3333333333333333, \"#9c179e\"], [0.4444444444444444, \"#bd3786\"], [0.5555555555555556, \"#d8576b\"], [0.6666666666666666, \"#ed7953\"], [0.7777777777777778, \"#fb9f3a\"], [0.8888888888888888, \"#fdca26\"], [1.0, \"#f0f921\"]], \"type\": \"histogram2d\"}], \"histogram2dcontour\": [{\"colorbar\": {\"outlinewidth\": 0, \"ticks\": \"\"}, \"colorscale\": [[0.0, \"#0d0887\"], [0.1111111111111111, \"#46039f\"], [0.2222222222222222, \"#7201a8\"], [0.3333333333333333, \"#9c179e\"], [0.4444444444444444, \"#bd3786\"], [0.5555555555555556, \"#d8576b\"], [0.6666666666666666, \"#ed7953\"], [0.7777777777777778, \"#fb9f3a\"], [0.8888888888888888, \"#fdca26\"], [1.0, \"#f0f921\"]], \"type\": \"histogram2dcontour\"}], \"mesh3d\": [{\"colorbar\": {\"outlinewidth\": 0, \"ticks\": \"\"}, \"type\": \"mesh3d\"}], \"parcoords\": [{\"line\": {\"colorbar\": {\"outlinewidth\": 0, \"ticks\": \"\"}}, \"type\": \"parcoords\"}], \"pie\": [{\"automargin\": true, \"type\": \"pie\"}], \"scatter\": [{\"marker\": {\"colorbar\": {\"outlinewidth\": 0, \"ticks\": \"\"}}, \"type\": \"scatter\"}], \"scatter3d\": [{\"line\": {\"colorbar\": {\"outlinewidth\": 0, \"ticks\": \"\"}}, \"marker\": {\"colorbar\": {\"outlinewidth\": 0, \"ticks\": \"\"}}, \"type\": \"scatter3d\"}], \"scattercarpet\": [{\"marker\": {\"colorbar\": {\"outlinewidth\": 0, \"ticks\": \"\"}}, \"type\": \"scattercarpet\"}], \"scattergeo\": [{\"marker\": {\"colorbar\": {\"outlinewidth\": 0, \"ticks\": \"\"}}, \"type\": \"scattergeo\"}], \"scattergl\": [{\"marker\": {\"colorbar\": {\"outlinewidth\": 0, \"ticks\": \"\"}}, \"type\": \"scattergl\"}], \"scattermapbox\": [{\"marker\": {\"colorbar\": {\"outlinewidth\": 0, \"ticks\": \"\"}}, \"type\": \"scattermapbox\"}], \"scatterpolar\": [{\"marker\": {\"colorbar\": {\"outlinewidth\": 0, \"ticks\": \"\"}}, \"type\": \"scatterpolar\"}], \"scatterpolargl\": [{\"marker\": {\"colorbar\": {\"outlinewidth\": 0, \"ticks\": \"\"}}, \"type\": \"scatterpolargl\"}], \"scatterternary\": [{\"marker\": {\"colorbar\": {\"outlinewidth\": 0, \"ticks\": \"\"}}, \"type\": \"scatterternary\"}], \"surface\": [{\"colorbar\": {\"outlinewidth\": 0, \"ticks\": \"\"}, \"colorscale\": [[0.0, \"#0d0887\"], [0.1111111111111111, \"#46039f\"], [0.2222222222222222, \"#7201a8\"], [0.3333333333333333, \"#9c179e\"], [0.4444444444444444, \"#bd3786\"], [0.5555555555555556, \"#d8576b\"], [0.6666666666666666, \"#ed7953\"], [0.7777777777777778, \"#fb9f3a\"], [0.8888888888888888, \"#fdca26\"], [1.0, \"#f0f921\"]], \"type\": \"surface\"}], \"table\": [{\"cells\": {\"fill\": {\"color\": \"#EBF0F8\"}, \"line\": {\"color\": \"white\"}}, \"header\": {\"fill\": {\"color\": \"#C8D4E3\"}, \"line\": {\"color\": \"white\"}}, \"type\": \"table\"}]}, \"layout\": {\"annotationdefaults\": {\"arrowcolor\": \"#2a3f5f\", \"arrowhead\": 0, \"arrowwidth\": 1}, \"coloraxis\": {\"colorbar\": {\"outlinewidth\": 0, \"ticks\": \"\"}}, \"colorscale\": {\"diverging\": [[0, \"#8e0152\"], [0.1, \"#c51b7d\"], [0.2, \"#de77ae\"], [0.3, \"#f1b6da\"], [0.4, \"#fde0ef\"], [0.5, \"#f7f7f7\"], [0.6, \"#e6f5d0\"], [0.7, \"#b8e186\"], [0.8, \"#7fbc41\"], [0.9, \"#4d9221\"], [1, \"#276419\"]], \"sequential\": [[0.0, \"#0d0887\"], [0.1111111111111111, \"#46039f\"], [0.2222222222222222, \"#7201a8\"], [0.3333333333333333, \"#9c179e\"], [0.4444444444444444, \"#bd3786\"], [0.5555555555555556, \"#d8576b\"], [0.6666666666666666, \"#ed7953\"], [0.7777777777777778, \"#fb9f3a\"], [0.8888888888888888, \"#fdca26\"], [1.0, \"#f0f921\"]], \"sequentialminus\": [[0.0, \"#0d0887\"], [0.1111111111111111, \"#46039f\"], [0.2222222222222222, \"#7201a8\"], [0.3333333333333333, \"#9c179e\"], [0.4444444444444444, \"#bd3786\"], [0.5555555555555556, \"#d8576b\"], [0.6666666666666666, \"#ed7953\"], [0.7777777777777778, \"#fb9f3a\"], [0.8888888888888888, \"#fdca26\"], [1.0, \"#f0f921\"]]}, \"colorway\": [\"#636efa\", \"#EF553B\", \"#00cc96\", \"#ab63fa\", \"#FFA15A\", \"#19d3f3\", \"#FF6692\", \"#B6E880\", \"#FF97FF\", \"#FECB52\"], \"font\": {\"color\": \"#2a3f5f\"}, \"geo\": {\"bgcolor\": \"white\", \"lakecolor\": \"white\", \"landcolor\": \"#E5ECF6\", \"showlakes\": true, \"showland\": true, \"subunitcolor\": \"white\"}, \"hoverlabel\": {\"align\": \"left\"}, \"hovermode\": \"closest\", \"mapbox\": {\"style\": \"light\"}, \"paper_bgcolor\": \"white\", \"plot_bgcolor\": \"#E5ECF6\", \"polar\": {\"angularaxis\": {\"gridcolor\": \"white\", \"linecolor\": \"white\", \"ticks\": \"\"}, \"bgcolor\": \"#E5ECF6\", \"radialaxis\": {\"gridcolor\": \"white\", \"linecolor\": \"white\", \"ticks\": \"\"}}, \"scene\": {\"xaxis\": {\"backgroundcolor\": \"#E5ECF6\", \"gridcolor\": \"white\", \"gridwidth\": 2, \"linecolor\": \"white\", \"showbackground\": true, \"ticks\": \"\", \"zerolinecolor\": \"white\"}, \"yaxis\": {\"backgroundcolor\": \"#E5ECF6\", \"gridcolor\": \"white\", \"gridwidth\": 2, \"linecolor\": \"white\", \"showbackground\": true, \"ticks\": \"\", \"zerolinecolor\": \"white\"}, \"zaxis\": {\"backgroundcolor\": \"#E5ECF6\", \"gridcolor\": \"white\", \"gridwidth\": 2, \"linecolor\": \"white\", \"showbackground\": true, \"ticks\": \"\", \"zerolinecolor\": \"white\"}}, \"shapedefaults\": {\"line\": {\"color\": \"#2a3f5f\"}}, \"ternary\": {\"aaxis\": {\"gridcolor\": \"white\", \"linecolor\": \"white\", \"ticks\": \"\"}, \"baxis\": {\"gridcolor\": \"white\", \"linecolor\": \"white\", \"ticks\": \"\"}, \"bgcolor\": \"#E5ECF6\", \"caxis\": {\"gridcolor\": \"white\", \"linecolor\": \"white\", \"ticks\": \"\"}}, \"title\": {\"x\": 0.05}, \"xaxis\": {\"automargin\": true, \"gridcolor\": \"white\", \"linecolor\": \"white\", \"ticks\": \"\", \"title\": {\"standoff\": 15}, \"zerolinecolor\": \"white\", \"zerolinewidth\": 2}, \"yaxis\": {\"automargin\": true, \"gridcolor\": \"white\", \"linecolor\": \"white\", \"ticks\": \"\", \"title\": {\"standoff\": 15}, \"zerolinecolor\": \"white\", \"zerolinewidth\": 2}}}},\n",
              "                        {\"responsive\": true}\n",
              "                    ).then(function(){\n",
              "                            \n",
              "var gd = document.getElementById('e80ae60d-d679-43cb-aaff-1d133e69ca39');\n",
              "var x = new MutationObserver(function (mutations, observer) {{\n",
              "        var display = window.getComputedStyle(gd).display;\n",
              "        if (!display || display === 'none') {{\n",
              "            console.log([gd, 'removed!']);\n",
              "            Plotly.purge(gd);\n",
              "            observer.disconnect();\n",
              "        }}\n",
              "}});\n",
              "\n",
              "// Listen for the removal of the full notebook cells\n",
              "var notebookContainer = gd.closest('#notebook-container');\n",
              "if (notebookContainer) {{\n",
              "    x.observe(notebookContainer, {childList: true});\n",
              "}}\n",
              "\n",
              "// Listen for the clearing of the current output cell\n",
              "var outputEl = gd.closest('.output');\n",
              "if (outputEl) {{\n",
              "    x.observe(outputEl, {childList: true});\n",
              "}}\n",
              "\n",
              "                        })\n",
              "                };\n",
              "                \n",
              "            </script>\n",
              "        </div>\n",
              "</body>\n",
              "</html>"
            ]
          },
          "metadata": {
            "tags": []
          }
        }
      ]
    },
    {
      "cell_type": "markdown",
      "metadata": {
        "id": "B35YoFT35jyK",
        "colab_type": "text"
      },
      "source": [
        "**Visualziation and Hypothesis Testing**"
      ]
    },
    {
      "cell_type": "code",
      "metadata": {
        "id": "lUznPZI0T-Ti",
        "colab_type": "code",
        "colab": {
          "base_uri": "https://localhost:8080/",
          "height": 244
        },
        "outputId": "92299338-d16e-4475-e798-539152a0a39d"
      },
      "source": [
        "import pandas as pd\n",
        "import numpy as np\n",
        "import pymongo\n",
        "\n",
        "# connect to database\n",
        "connect = Connect()\n",
        "mdb_client = connect.get_connection(\"POLICE_DATABASE\")\n",
        "mdb_database = mdb_client['POLICE_DATABASE'] \n",
        "mdb_collection = mdb_database['POLICE_INTERVIEWS']\n",
        "mdb_client.testdb\n",
        "\n",
        "# convert queries to dataframe or numpy array\n",
        "def query_and_convert(filter, projection, to=\"dataframe\"):\n",
        "  cursor    = mdb_collection.find(filter, projection)\n",
        "  dataframe = pd.DataFrame(list(cursor))\n",
        "  if to is \"dataframe\":\n",
        "    return dataframe\n",
        "  elif to is \"numpy\":\n",
        "    np_array = np.transpose(np.squeeze(dataframe.to_numpy()))\n",
        "    return np_array\n",
        "\n",
        "# create research queries\n",
        "age_vs_chevy = query_to_numpy({\n",
        "    \"$and\":[{\"SubjectAge\":{\"$exists\": True}}, \n",
        "            {\"SubjectAge\":{\"$ne\": \"\"}},\n",
        "            {\"SubjectAge\":{\"$ne\": None}},\n",
        "            {\"SubjectAge\":{\"$ne\": 0}},\n",
        "            {\"VehicleMake\":\"CHEVROLET\"} ]}, \n",
        "            {\"_id\":0, \"SubjectAge\" : 1})\n",
        "\n",
        "age_vs_ford = query_to_numpy({\n",
        "    \"$and\":[{\"SubjectAge\":{\"$exists\": True}}, \n",
        "            {\"SubjectAge\":{\"$ne\": \"\"}},\n",
        "            {\"SubjectAge\":{\"$ne\": None}},\n",
        "            {\"SubjectAge\":{\"$ne\": 0}},\n",
        "            {\"VehicleMake\":\"FORD\"} ]}, \n",
        "            {\"_id\":0, \"SubjectAge\" : 1})\n",
        "\n",
        "# plot numerical \n",
        "hist = Histogram(\"age vs make\", \"Age\")\n",
        "hist.add_trace(data=age_vs_chevy, label=\"CHEVY\")\n",
        "hist.add_trace(data=age_vs_ford, label=\"FORD\")\n",
        "hist.show_figure()\n",
        "\n",
        "vehicle_color = query_to_numpy({\n",
        "    \"$and\":[{\"VehicleColor\":{\"$exists\": True}}, \n",
        "            {\"VehicleColor\":{\"$ne\": \"\"}},\n",
        "            {\"VehicleColor\":{\"$ne\": None}},\n",
        "            {\"VehicleColor\":{\"$ne\": 0}}, ]}, \n",
        "            {\"_id\":0, \"VehicleColor\" : 1})\n",
        "\n",
        "# plot categorical\n",
        "hist2 = Histogram(\"vehicle color\", \"Color\")\n",
        "hist2.add_trace(data=vehicle_color, label=\"Color\")\n",
        "hist2.show_figure()\n",
        "\n",
        "white = query_and_convert({\n",
        "    \"$and\":[{\"SubjectRace\":{\"$exists\": True}}, \n",
        "            {\"SubjectRace\":{\"$ne\": \"\"}},\n",
        "            {\"SubjectRace\":{\"$ne\": None}},\n",
        "            {\"SubjectRace\":{\"$ne\": 0}},\n",
        "            {\"SubjectRace\":\"WHITE\"} ]}, \n",
        "            {\"_id\":0, \"StopDescription\" : 1}, to=\"numpy\")\n",
        "\n",
        "black = query_and_convert({\n",
        "    \"$and\":[{\"SubjectRace\":{\"$exists\": True}}, \n",
        "            {\"SubjectRace\":{\"$ne\": \"\"}},\n",
        "            {\"SubjectRace\":{\"$ne\": None}},\n",
        "            {\"SubjectRace\":{\"$ne\": 0}},\n",
        "            {\"SubjectRace\":\"BLACK\"} ]}, \n",
        "            {\"_id\":0, \"StopDescription\" : 1}, to=\"numpy\")\n",
        "\n",
        "# plot categorical\n",
        "hist2 = Histogram(\"white vs Black\", \"Stop Description\")\n",
        "hist2.add_trace(data=white, label=\"Race\")\n",
        "hist2.add_trace(data=black, label=\"Race\")\n",
        "hist2.show_figure()\n"
      ],
      "execution_count": 1,
      "outputs": [
        {
          "output_type": "error",
          "ename": "NameError",
          "evalue": "ignored",
          "traceback": [
            "\u001b[0;31m---------------------------------------------------------------------------\u001b[0m",
            "\u001b[0;31mNameError\u001b[0m                                 Traceback (most recent call last)",
            "\u001b[0;32m<ipython-input-1-19ca4ce178a0>\u001b[0m in \u001b[0;36m<module>\u001b[0;34m()\u001b[0m\n\u001b[1;32m      4\u001b[0m \u001b[0;34m\u001b[0m\u001b[0m\n\u001b[1;32m      5\u001b[0m \u001b[0;31m# connect to database\u001b[0m\u001b[0;34m\u001b[0m\u001b[0;34m\u001b[0m\u001b[0;34m\u001b[0m\u001b[0m\n\u001b[0;32m----> 6\u001b[0;31m \u001b[0mconnect\u001b[0m \u001b[0;34m=\u001b[0m \u001b[0mConnect\u001b[0m\u001b[0;34m(\u001b[0m\u001b[0;34m)\u001b[0m\u001b[0;34m\u001b[0m\u001b[0;34m\u001b[0m\u001b[0m\n\u001b[0m\u001b[1;32m      7\u001b[0m \u001b[0mmdb_client\u001b[0m \u001b[0;34m=\u001b[0m \u001b[0mconnect\u001b[0m\u001b[0;34m.\u001b[0m\u001b[0mget_connection\u001b[0m\u001b[0;34m(\u001b[0m\u001b[0;34m\"POLICE_DATABASE\"\u001b[0m\u001b[0;34m)\u001b[0m\u001b[0;34m\u001b[0m\u001b[0;34m\u001b[0m\u001b[0m\n\u001b[1;32m      8\u001b[0m \u001b[0mmdb_database\u001b[0m \u001b[0;34m=\u001b[0m \u001b[0mmdb_client\u001b[0m\u001b[0;34m[\u001b[0m\u001b[0;34m'POLICE_DATABASE'\u001b[0m\u001b[0;34m]\u001b[0m\u001b[0;34m\u001b[0m\u001b[0;34m\u001b[0m\u001b[0m\n",
            "\u001b[0;31mNameError\u001b[0m: name 'Connect' is not defined"
          ]
        }
      ]
    },
    {
      "cell_type": "markdown",
      "metadata": {
        "id": "5xAlSWJyfW0A",
        "colab_type": "text"
      },
      "source": [
        ""
      ]
    },
    {
      "cell_type": "markdown",
      "metadata": {
        "id": "yCnYyu7jnaju",
        "colab_type": "text"
      },
      "source": [
        "Good reference for hypothesis testing in Python:\n",
        "\n",
        "https://towardsdatascience.com/hypothesis-testing-in-machine-learning-using-python-a0dc89e169ce\n",
        "\n",
        "\n",
        "\n",
        "Notes:\n",
        "TF-IDF with Tensorflow: https://towardsdatascience.com/another-twitter-sentiment-analysis-with-python-part-9-neural-networks-with-tfidf-vectors-using-d0b4af6be6d7\n",
        "\n",
        "ipywidgets pdf: http://xph.necst.it/2017/software/lessons/Lesson_4_PYNQ.pdf\n",
        "\n",
        "mongoDB queries: https://docs.mongodb.com/manual/tutorial/query-documents/\n"
      ]
    },
    {
      "cell_type": "markdown",
      "metadata": {
        "id": "5ioQbMaUxk1p",
        "colab_type": "text"
      },
      "source": [
        "Handle missing values with Pandas: https://pandas.pydata.org/pandas-docs/stable/reference/api/pandas.DataFrame.fillna.html"
      ]
    }
  ]
}