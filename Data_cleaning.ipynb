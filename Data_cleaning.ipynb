{
 "cells": [
  {
   "cell_type": "markdown",
   "metadata": {},
   "source": [
    "## Data Cleaning - Remove outliers and drop the unwanted columns\n",
    "### 1. Basic data checking\n"
   ]
  },
  {
   "cell_type": "code",
   "execution_count": 79,
   "metadata": {},
   "outputs": [
    {
     "data": {
      "text/plain": [
       "'/Library/Frameworks/Python.framework/Versions/3.7/bin/python3'"
      ]
     },
     "execution_count": 79,
     "metadata": {},
     "output_type": "execute_result"
    }
   ],
   "source": [
    "import sys\n",
    "sys.executable"
   ]
  },
  {
   "cell_type": "code",
   "execution_count": 80,
   "metadata": {},
   "outputs": [],
   "source": [
    "from pymongo import MongoClient\n",
    "import pandas as pd\n",
    "import matplotlib.pyplot as plt\n"
   ]
  },
  {
   "cell_type": "markdown",
   "metadata": {},
   "source": [
    "from pymongo import MongoClient\n",
    "import pandas as pd\n",
    "\n",
    "client = MongoClient()\n",
    "db = client.POLICE_DATABASE\n",
    "db_collection = db.POLICE_INTERVIEWS\n",
    "\n",
    "data = db_collection.find()\n",
    "df = pd.DataFrame.from_records(data)\n",
    "data.info(verbose=True)"
   ]
  },
  {
   "cell_type": "code",
   "execution_count": 81,
   "metadata": {},
   "outputs": [],
   "source": [
    "df = pd.read_csv('Stop_and_Search__Field_Interviews_.csv', sep=',', low_memory=False )"
   ]
  },
  {
   "cell_type": "code",
   "execution_count": 82,
   "metadata": {},
   "outputs": [
    {
     "name": "stdout",
     "output_type": "stream",
     "text": [
      "(593893, 29)\n"
     ]
    },
    {
     "data": {
      "text/html": [
       "<div>\n",
       "<style scoped>\n",
       "    .dataframe tbody tr th:only-of-type {\n",
       "        vertical-align: middle;\n",
       "    }\n",
       "\n",
       "    .dataframe tbody tr th {\n",
       "        vertical-align: top;\n",
       "    }\n",
       "\n",
       "    .dataframe thead th {\n",
       "        text-align: right;\n",
       "    }\n",
       "</style>\n",
       "<table border=\"1\" class=\"dataframe\">\n",
       "  <thead>\n",
       "    <tr style=\"text-align: right;\">\n",
       "      <th></th>\n",
       "      <th>FieldInterviewID</th>\n",
       "      <th>NOPD_Item</th>\n",
       "      <th>EventDate</th>\n",
       "      <th>District</th>\n",
       "      <th>Zone</th>\n",
       "      <th>OfficerAssignment</th>\n",
       "      <th>StopDescription</th>\n",
       "      <th>ActionsTaken</th>\n",
       "      <th>VehicleYear</th>\n",
       "      <th>VehicleMake</th>\n",
       "      <th>...</th>\n",
       "      <th>SubjectWeight</th>\n",
       "      <th>SubjectEyeColor</th>\n",
       "      <th>SubjectHairColor</th>\n",
       "      <th>SubjectDriverLicState</th>\n",
       "      <th>CreatedDateTime</th>\n",
       "      <th>LastModifiedDateTime</th>\n",
       "      <th>Longitude</th>\n",
       "      <th>Latitude</th>\n",
       "      <th>Zip</th>\n",
       "      <th>BlockAddress</th>\n",
       "    </tr>\n",
       "  </thead>\n",
       "  <tbody>\n",
       "    <tr>\n",
       "      <th>0</th>\n",
       "      <td>17415</td>\n",
       "      <td>NaN</td>\n",
       "      <td>01/01/2010 01:11:00 AM</td>\n",
       "      <td>6</td>\n",
       "      <td>E</td>\n",
       "      <td>6th  District</td>\n",
       "      <td>TRAFFIC VIOLATION</td>\n",
       "      <td>NaN</td>\n",
       "      <td>2005.0</td>\n",
       "      <td>DODGE</td>\n",
       "      <td>...</td>\n",
       "      <td>160.0</td>\n",
       "      <td>Brown</td>\n",
       "      <td>Black</td>\n",
       "      <td>LA</td>\n",
       "      <td>01/01/2010 01:26:26 AM</td>\n",
       "      <td>NaN</td>\n",
       "      <td>0.0</td>\n",
       "      <td>0.0</td>\n",
       "      <td>NaN</td>\n",
       "      <td>NaN</td>\n",
       "    </tr>\n",
       "    <tr>\n",
       "      <th>1</th>\n",
       "      <td>17416</td>\n",
       "      <td>NaN</td>\n",
       "      <td>01/01/2010 02:06:00 AM</td>\n",
       "      <td>5</td>\n",
       "      <td>D</td>\n",
       "      <td>5th  District</td>\n",
       "      <td>CALL FOR SERVICE</td>\n",
       "      <td>NaN</td>\n",
       "      <td>NaN</td>\n",
       "      <td>NaN</td>\n",
       "      <td>...</td>\n",
       "      <td>140.0</td>\n",
       "      <td>Brown</td>\n",
       "      <td>Black</td>\n",
       "      <td>NaN</td>\n",
       "      <td>01/01/2010 02:27:38 AM</td>\n",
       "      <td>NaN</td>\n",
       "      <td>0.0</td>\n",
       "      <td>0.0</td>\n",
       "      <td>NaN</td>\n",
       "      <td>NaN</td>\n",
       "    </tr>\n",
       "    <tr>\n",
       "      <th>2</th>\n",
       "      <td>17416</td>\n",
       "      <td>NaN</td>\n",
       "      <td>01/01/2010 02:06:00 AM</td>\n",
       "      <td>5</td>\n",
       "      <td>D</td>\n",
       "      <td>5th  District</td>\n",
       "      <td>CALL FOR SERVICE</td>\n",
       "      <td>NaN</td>\n",
       "      <td>NaN</td>\n",
       "      <td>NaN</td>\n",
       "      <td>...</td>\n",
       "      <td>145.0</td>\n",
       "      <td>Brown</td>\n",
       "      <td>Black</td>\n",
       "      <td>NaN</td>\n",
       "      <td>01/01/2010 02:27:38 AM</td>\n",
       "      <td>NaN</td>\n",
       "      <td>0.0</td>\n",
       "      <td>0.0</td>\n",
       "      <td>NaN</td>\n",
       "      <td>NaN</td>\n",
       "    </tr>\n",
       "  </tbody>\n",
       "</table>\n",
       "<p>3 rows × 29 columns</p>\n",
       "</div>"
      ],
      "text/plain": [
       "   FieldInterviewID NOPD_Item               EventDate  District Zone  \\\n",
       "0             17415       NaN  01/01/2010 01:11:00 AM         6    E   \n",
       "1             17416       NaN  01/01/2010 02:06:00 AM         5    D   \n",
       "2             17416       NaN  01/01/2010 02:06:00 AM         5    D   \n",
       "\n",
       "  OfficerAssignment    StopDescription ActionsTaken  VehicleYear VehicleMake  \\\n",
       "0     6th  District  TRAFFIC VIOLATION          NaN       2005.0       DODGE   \n",
       "1     5th  District   CALL FOR SERVICE          NaN          NaN         NaN   \n",
       "2     5th  District   CALL FOR SERVICE          NaN          NaN         NaN   \n",
       "\n",
       "   ... SubjectWeight SubjectEyeColor SubjectHairColor  SubjectDriverLicState  \\\n",
       "0  ...         160.0           Brown            Black                     LA   \n",
       "1  ...         140.0           Brown            Black                    NaN   \n",
       "2  ...         145.0           Brown            Black                    NaN   \n",
       "\n",
       "          CreatedDateTime LastModifiedDateTime  Longitude Latitude  Zip  \\\n",
       "0  01/01/2010 01:26:26 AM                  NaN        0.0      0.0  NaN   \n",
       "1  01/01/2010 02:27:38 AM                  NaN        0.0      0.0  NaN   \n",
       "2  01/01/2010 02:27:38 AM                  NaN        0.0      0.0  NaN   \n",
       "\n",
       "   BlockAddress  \n",
       "0           NaN  \n",
       "1           NaN  \n",
       "2           NaN  \n",
       "\n",
       "[3 rows x 29 columns]"
      ]
     },
     "execution_count": 82,
     "metadata": {},
     "output_type": "execute_result"
    }
   ],
   "source": [
    "print(df.shape)\n",
    "\n",
    "df.head(3)"
   ]
  },
  {
   "cell_type": "markdown",
   "metadata": {},
   "source": [
    "### 2. Remove all leading and trailing"
   ]
  },
  {
   "cell_type": "code",
   "execution_count": 83,
   "metadata": {},
   "outputs": [],
   "source": [
    "df.columns = df.columns.str.strip()"
   ]
  },
  {
   "cell_type": "markdown",
   "metadata": {},
   "source": [
    "### 3. Check if there are duplicates. If so, remove them.¶"
   ]
  },
  {
   "cell_type": "code",
   "execution_count": 84,
   "metadata": {},
   "outputs": [
    {
     "name": "stdout",
     "output_type": "stream",
     "text": [
      "Number of duplicate rows = 0\n"
     ]
    }
   ],
   "source": [
    "dups = df.duplicated()\n",
    "print('Number of duplicate rows = %d' % (dups.sum()))"
   ]
  },
  {
   "cell_type": "markdown",
   "metadata": {},
   "source": [
    "### 4. Check descriptive statistics to find abnormalities (outliers)"
   ]
  },
  {
   "cell_type": "code",
   "execution_count": 85,
   "metadata": {},
   "outputs": [
    {
     "name": "stdout",
     "output_type": "stream",
     "text": [
      "Index(['FieldInterviewID', 'NOPD_Item', 'EventDate', 'District', 'Zone',\n",
      "       'OfficerAssignment', 'StopDescription', 'ActionsTaken', 'VehicleYear',\n",
      "       'VehicleMake', 'VehicleModel', 'VehicleStyle', 'VehicleColor',\n",
      "       'SubjectID', 'SubjectRace', 'SubjectGender', 'SubjectAge',\n",
      "       'SubjectHasPhotoID', 'SubjectHeight', 'SubjectWeight',\n",
      "       'SubjectEyeColor', 'SubjectHairColor', 'SubjectDriverLicState',\n",
      "       'CreatedDateTime', 'LastModifiedDateTime', 'Longitude', 'Latitude',\n",
      "       'Zip', 'BlockAddress'],\n",
      "      dtype='object')\n"
     ]
    }
   ],
   "source": [
    "print(df.columns)"
   ]
  },
  {
   "cell_type": "code",
   "execution_count": 86,
   "metadata": {},
   "outputs": [
    {
     "data": {
      "text/html": [
       "<div>\n",
       "<style scoped>\n",
       "    .dataframe tbody tr th:only-of-type {\n",
       "        vertical-align: middle;\n",
       "    }\n",
       "\n",
       "    .dataframe tbody tr th {\n",
       "        vertical-align: top;\n",
       "    }\n",
       "\n",
       "    .dataframe thead th {\n",
       "        text-align: right;\n",
       "    }\n",
       "</style>\n",
       "<table border=\"1\" class=\"dataframe\">\n",
       "  <thead>\n",
       "    <tr style=\"text-align: right;\">\n",
       "      <th></th>\n",
       "      <th>SubjectAge</th>\n",
       "      <th>SubjectHeight</th>\n",
       "      <th>SubjectWeight</th>\n",
       "    </tr>\n",
       "  </thead>\n",
       "  <tbody>\n",
       "    <tr>\n",
       "      <th>count</th>\n",
       "      <td>576132.000000</td>\n",
       "      <td>576096.000000</td>\n",
       "      <td>576204.000000</td>\n",
       "    </tr>\n",
       "    <tr>\n",
       "      <th>mean</th>\n",
       "      <td>34.564228</td>\n",
       "      <td>68.723647</td>\n",
       "      <td>170.205668</td>\n",
       "    </tr>\n",
       "    <tr>\n",
       "      <th>std</th>\n",
       "      <td>13.354613</td>\n",
       "      <td>70.615748</td>\n",
       "      <td>75.370931</td>\n",
       "    </tr>\n",
       "    <tr>\n",
       "      <th>min</th>\n",
       "      <td>0.000000</td>\n",
       "      <td>0.000000</td>\n",
       "      <td>-320.000000</td>\n",
       "    </tr>\n",
       "    <tr>\n",
       "      <th>25%</th>\n",
       "      <td>24.000000</td>\n",
       "      <td>66.000000</td>\n",
       "      <td>142.000000</td>\n",
       "    </tr>\n",
       "    <tr>\n",
       "      <th>50%</th>\n",
       "      <td>31.000000</td>\n",
       "      <td>68.000000</td>\n",
       "      <td>165.000000</td>\n",
       "    </tr>\n",
       "    <tr>\n",
       "      <th>75%</th>\n",
       "      <td>44.000000</td>\n",
       "      <td>71.000000</td>\n",
       "      <td>190.000000</td>\n",
       "    </tr>\n",
       "    <tr>\n",
       "      <th>max</th>\n",
       "      <td>119.000000</td>\n",
       "      <td>10932.000000</td>\n",
       "      <td>9999.000000</td>\n",
       "    </tr>\n",
       "  </tbody>\n",
       "</table>\n",
       "</div>"
      ],
      "text/plain": [
       "          SubjectAge  SubjectHeight  SubjectWeight\n",
       "count  576132.000000  576096.000000  576204.000000\n",
       "mean       34.564228      68.723647     170.205668\n",
       "std        13.354613      70.615748      75.370931\n",
       "min         0.000000       0.000000    -320.000000\n",
       "25%        24.000000      66.000000     142.000000\n",
       "50%        31.000000      68.000000     165.000000\n",
       "75%        44.000000      71.000000     190.000000\n",
       "max       119.000000   10932.000000    9999.000000"
      ]
     },
     "execution_count": 86,
     "metadata": {},
     "output_type": "execute_result"
    }
   ],
   "source": [
    "df[['SubjectAge','SubjectHeight','SubjectWeight']].describe()"
   ]
  },
  {
   "cell_type": "markdown",
   "metadata": {},
   "source": [
    "### Check Age anomalies"
   ]
  },
  {
   "cell_type": "code",
   "execution_count": 87,
   "metadata": {},
   "outputs": [
    {
     "data": {
      "text/plain": [
       "25.0     21618\n",
       "24.0     21380\n",
       "23.0     21135\n",
       "26.0     21015\n",
       "22.0     20620\n",
       "         ...  \n",
       "111.0        1\n",
       "102.0        1\n",
       "98.0         1\n",
       "119.0        1\n",
       "106.0        1\n",
       "Name: SubjectAge, Length: 118, dtype: int64"
      ]
     },
     "execution_count": 87,
     "metadata": {},
     "output_type": "execute_result"
    }
   ],
   "source": [
    "df['SubjectAge'].value_counts()"
   ]
  },
  {
   "cell_type": "code",
   "execution_count": 88,
   "metadata": {},
   "outputs": [
    {
     "data": {
      "text/plain": [
       "<matplotlib.axes._subplots.AxesSubplot at 0x7fa9919b7210>"
      ]
     },
     "execution_count": 88,
     "metadata": {},
     "output_type": "execute_result"
    },
    {
     "data": {
      "image/png": "[encoded data removed]",
      "text/plain": [
       "<Figure size 504x432 with 1 Axes>"
      ]
     },
     "metadata": {
      "needs_background": "light"
     },
     "output_type": "display_data"
    }
   ],
   "source": [
    "df[['SubjectAge']].boxplot(grid=False,  fontsize=12,figsize=(7, 6),patch_artist = True)\n"
   ]
  },
  {
   "cell_type": "markdown",
   "metadata": {},
   "source": [
    "### Checking SubjectHeight and SubjectWeight anomalies"
   ]
  },
  {
   "cell_type": "code",
   "execution_count": 89,
   "metadata": {},
   "outputs": [
    {
     "data": {
      "text/plain": [
       "<matplotlib.axes._subplots.AxesSubplot at 0x7fa8e06a67d0>"
      ]
     },
     "execution_count": 89,
     "metadata": {},
     "output_type": "execute_result"
    },
    {
     "data": {
      "image/png": "[encoded data removed]",
      "text/plain": [
       "<Figure size 504x432 with 1 Axes>"
      ]
     },
     "metadata": {
      "needs_background": "light"
     },
     "output_type": "display_data"
    }
   ],
   "source": [
    "df[['SubjectHeight','SubjectWeight']].boxplot(grid=False,  fontsize=12,figsize=(7, 6),patch_artist = True)"
   ]
  },
  {
   "cell_type": "markdown",
   "metadata": {},
   "source": [
    "### Get outliers with Age outside range of 15-90 year-old. Height outside range of 4-7 foot tall. Weight outside range of 3-500 lbs"
   ]
  },
  {
   "cell_type": "code",
   "execution_count": 90,
   "metadata": {},
   "outputs": [
    {
     "name": "stdout",
     "output_type": "stream",
     "text": [
      "Age Lower:15 Upper:90  Outliers count:5265\n",
      "Height Lower:48 Upper:84  Outliers count:5360\n",
      "Weight Lower:3 Upper:500  Outliers count:5997\n"
     ]
    }
   ],
   "source": [
    "### Age\n",
    "lower = 15\n",
    "upper = 90\n",
    "temp = df.loc[:,'SubjectAge']\n",
    "outliers_age = [x for x in temp if x < lower or x > upper]\n",
    "print('Age Lower:{} Upper:{}  Outliers count:{}'.format(lower,  upper, len(outliers_age)))\n",
    "\n",
    "### Height\n",
    "lower = 4 * 12\n",
    "upper = 7 * 12\n",
    "temp = df.loc[:,'SubjectHeight']\n",
    "outliers_height = [x for x in temp if x < lower or x > upper]\n",
    "print('Height Lower:{} Upper:{}  Outliers count:{}'.format(lower,  upper, len(outliers_height)))\n",
    "\n",
    "### Weight\n",
    "lower = 3\n",
    "upper = 500\n",
    "temp = df.loc[:,'SubjectWeight']\n",
    "outliers_weight = [x for x in temp if x < lower or x > upper]\n",
    "print('Weight Lower:{} Upper:{}  Outliers count:{}'.format(lower,  upper, len(outliers_weight)))\n"
   ]
  },
  {
   "cell_type": "markdown",
   "metadata": {},
   "source": [
    "### Remove outliers with Age outside range of 15-90 year-old. Height outside range of 4-7 foot tall. Weight outside range of 3-500 lbs"
   ]
  },
  {
   "cell_type": "code",
   "execution_count": 91,
   "metadata": {},
   "outputs": [
    {
     "name": "stdout",
     "output_type": "stream",
     "text": [
      "Original rows count 593893\n",
      "Found outliers_age count 5265\n",
      "\tAfter droppred outliers_age 588628\n",
      "Found outliers_height count 5226\n",
      "\tAfter droppred outliers_Height 583402\n",
      "Found outliers_weight count 1971\n",
      "\tAfter droppred outliers_weight 581431\n",
      "Number rows were dropped 12462\n",
      "Number rows remains 581431\n"
     ]
    }
   ],
   "source": [
    "origin_count = len(df)\n",
    "print('Original rows count {}'.format(origin_count))\n",
    "\n",
    "## Age\n",
    "lower = 15\n",
    "upper = 90\n",
    "temp = df.loc[:,'SubjectAge']\n",
    "outliers_age = [x for x in temp if x < lower or x > upper]\n",
    "print('Found outliers_age count {}'.format(len(outliers_age)))\n",
    "# get rows\n",
    "outliers_age_rows = df[df['SubjectAge'].isin(outliers_age)]\n",
    "df.drop(outliers_age_rows.index, inplace=True)\n",
    "print('\\tAfter droppred outliers_age {}'.format(len(df)))\n",
    "\n",
    "## Height\n",
    "lower = 4 * 12\n",
    "upper = 7 * 12\n",
    "temp = df.loc[:,'SubjectHeight']\n",
    "outliers_height = [x for x in temp if x < lower or x > upper]\n",
    "print('Found outliers_height count {}'.format(len(outliers_height)))\n",
    "# get rows\n",
    "outliers_height_rows = df[df['SubjectHeight'].isin(outliers_height)]\n",
    "df.drop(outliers_height_rows.index, inplace=True)\n",
    "print('\\tAfter droppred outliers_Height {}'.format(len(df)))\n",
    "\n",
    "## Weight\n",
    "lower = 3\n",
    "upper = 500\n",
    "temp = df.loc[:,'SubjectWeight']\n",
    "outliers_weight = [x for x in temp if x < lower or x > upper]\n",
    "print('Found outliers_weight count {}'.format(len(outliers_weight)))\n",
    "# get rows\n",
    "outliers_weight_rows = df[df['SubjectWeight'].isin(outliers_weight)]\n",
    "df.drop(outliers_weight_rows.index, inplace=True)\n",
    "print('\\tAfter droppred outliers_weight {}'.format(len(df)))\n",
    "\n",
    "rows_remain = len(df)\n",
    "print('Number rows were dropped {}'.format(origin_count-rows_remain))\n",
    "print('Number rows remains {}'.format(rows_remain))\n"
   ]
  },
  {
   "cell_type": "markdown",
   "metadata": {},
   "source": [
    "### Assert no outliers"
   ]
  },
  {
   "cell_type": "code",
   "execution_count": 92,
   "metadata": {},
   "outputs": [
    {
     "data": {
      "text/html": [
       "<div>\n",
       "<style scoped>\n",
       "    .dataframe tbody tr th:only-of-type {\n",
       "        vertical-align: middle;\n",
       "    }\n",
       "\n",
       "    .dataframe tbody tr th {\n",
       "        vertical-align: top;\n",
       "    }\n",
       "\n",
       "    .dataframe thead th {\n",
       "        text-align: right;\n",
       "    }\n",
       "</style>\n",
       "<table border=\"1\" class=\"dataframe\">\n",
       "  <thead>\n",
       "    <tr style=\"text-align: right;\">\n",
       "      <th></th>\n",
       "      <th>SubjectAge</th>\n",
       "      <th>SubjectHeight</th>\n",
       "      <th>SubjectWeight</th>\n",
       "    </tr>\n",
       "  </thead>\n",
       "  <tbody>\n",
       "    <tr>\n",
       "      <th>count</th>\n",
       "      <td>563720.000000</td>\n",
       "      <td>563854.000000</td>\n",
       "      <td>563830.000000</td>\n",
       "    </tr>\n",
       "    <tr>\n",
       "      <th>mean</th>\n",
       "      <td>34.742037</td>\n",
       "      <td>68.129005</td>\n",
       "      <td>170.227373</td>\n",
       "    </tr>\n",
       "    <tr>\n",
       "      <th>std</th>\n",
       "      <td>13.170256</td>\n",
       "      <td>3.791495</td>\n",
       "      <td>38.864172</td>\n",
       "    </tr>\n",
       "    <tr>\n",
       "      <th>min</th>\n",
       "      <td>15.000000</td>\n",
       "      <td>48.000000</td>\n",
       "      <td>3.000000</td>\n",
       "    </tr>\n",
       "    <tr>\n",
       "      <th>25%</th>\n",
       "      <td>24.000000</td>\n",
       "      <td>66.000000</td>\n",
       "      <td>145.000000</td>\n",
       "    </tr>\n",
       "    <tr>\n",
       "      <th>50%</th>\n",
       "      <td>32.000000</td>\n",
       "      <td>68.000000</td>\n",
       "      <td>165.000000</td>\n",
       "    </tr>\n",
       "    <tr>\n",
       "      <th>75%</th>\n",
       "      <td>44.000000</td>\n",
       "      <td>71.000000</td>\n",
       "      <td>190.000000</td>\n",
       "    </tr>\n",
       "    <tr>\n",
       "      <th>max</th>\n",
       "      <td>90.000000</td>\n",
       "      <td>84.000000</td>\n",
       "      <td>500.000000</td>\n",
       "    </tr>\n",
       "  </tbody>\n",
       "</table>\n",
       "</div>"
      ],
      "text/plain": [
       "          SubjectAge  SubjectHeight  SubjectWeight\n",
       "count  563720.000000  563854.000000  563830.000000\n",
       "mean       34.742037      68.129005     170.227373\n",
       "std        13.170256       3.791495      38.864172\n",
       "min        15.000000      48.000000       3.000000\n",
       "25%        24.000000      66.000000     145.000000\n",
       "50%        32.000000      68.000000     165.000000\n",
       "75%        44.000000      71.000000     190.000000\n",
       "max        90.000000      84.000000     500.000000"
      ]
     },
     "execution_count": 92,
     "metadata": {},
     "output_type": "execute_result"
    }
   ],
   "source": [
    "df[['SubjectAge','SubjectHeight','SubjectWeight']].describe()"
   ]
  },
  {
   "cell_type": "markdown",
   "metadata": {},
   "source": [
    "### 5. Drop the unwanted columns: FieldInterviewID, LastModifiedDateTime, BlockAddress"
   ]
  },
  {
   "cell_type": "code",
   "execution_count": 93,
   "metadata": {},
   "outputs": [
    {
     "data": {
      "text/plain": [
       "Index(['FieldInterviewID', 'NOPD_Item', 'EventDate', 'District', 'Zone',\n",
       "       'OfficerAssignment', 'StopDescription', 'ActionsTaken', 'VehicleYear',\n",
       "       'VehicleMake', 'VehicleModel', 'VehicleStyle', 'VehicleColor',\n",
       "       'SubjectID', 'SubjectRace', 'SubjectGender', 'SubjectAge',\n",
       "       'SubjectHasPhotoID', 'SubjectHeight', 'SubjectWeight',\n",
       "       'SubjectEyeColor', 'SubjectHairColor', 'SubjectDriverLicState',\n",
       "       'CreatedDateTime', 'LastModifiedDateTime', 'Longitude', 'Latitude',\n",
       "       'Zip', 'BlockAddress'],\n",
       "      dtype='object')"
      ]
     },
     "execution_count": 93,
     "metadata": {},
     "output_type": "execute_result"
    }
   ],
   "source": [
    "df.columns"
   ]
  },
  {
   "cell_type": "code",
   "execution_count": 94,
   "metadata": {},
   "outputs": [
    {
     "data": {
      "text/plain": [
       "FieldInterviewID              0\n",
       "NOPD_Item                 92129\n",
       "EventDate                     0\n",
       "District                      0\n",
       "Zone                          0\n",
       "OfficerAssignment           123\n",
       "StopDescription               0\n",
       "ActionsTaken             123343\n",
       "VehicleYear              254736\n",
       "VehicleMake              249778\n",
       "VehicleModel             267917\n",
       "VehicleStyle             256738\n",
       "VehicleColor             253646\n",
       "SubjectID                 14047\n",
       "SubjectRace               14047\n",
       "SubjectGender             14047\n",
       "SubjectAge                17711\n",
       "SubjectHasPhotoID             0\n",
       "SubjectHeight             17577\n",
       "SubjectWeight             17601\n",
       "SubjectEyeColor           17392\n",
       "SubjectHairColor          20196\n",
       "SubjectDriverLicState    224052\n",
       "CreatedDateTime               0\n",
       "LastModifiedDateTime     417166\n",
       "Longitude                     0\n",
       "Latitude                      0\n",
       "Zip                      112839\n",
       "BlockAddress              95244\n",
       "dtype: int64"
      ]
     },
     "execution_count": 94,
     "metadata": {},
     "output_type": "execute_result"
    }
   ],
   "source": [
    "df.isnull().sum() "
   ]
  },
  {
   "cell_type": "code",
   "execution_count": 95,
   "metadata": {},
   "outputs": [],
   "source": [
    "if 'FieldInterviewID' in df.columns:\n",
    "    df = df.drop(['FieldInterviewID'], axis=1)\n",
    "\n",
    "if 'LastModifiedDateTime' in df.columns:\n",
    "    df = df.drop(['LastModifiedDateTime'], axis=1)\n",
    "\n",
    "if 'BlockAddress' in df.columns:\n",
    "    df = df.drop(['BlockAddress'], axis=1)"
   ]
  },
  {
   "cell_type": "markdown",
   "metadata": {},
   "source": [
    "### 6. Assert there are no unwanted columns"
   ]
  },
  {
   "cell_type": "code",
   "execution_count": 96,
   "metadata": {},
   "outputs": [
    {
     "data": {
      "text/plain": [
       "Index(['NOPD_Item', 'EventDate', 'District', 'Zone', 'OfficerAssignment',\n",
       "       'StopDescription', 'ActionsTaken', 'VehicleYear', 'VehicleMake',\n",
       "       'VehicleModel', 'VehicleStyle', 'VehicleColor', 'SubjectID',\n",
       "       'SubjectRace', 'SubjectGender', 'SubjectAge', 'SubjectHasPhotoID',\n",
       "       'SubjectHeight', 'SubjectWeight', 'SubjectEyeColor', 'SubjectHairColor',\n",
       "       'SubjectDriverLicState', 'CreatedDateTime', 'Longitude', 'Latitude',\n",
       "       'Zip'],\n",
       "      dtype='object')"
      ]
     },
     "execution_count": 96,
     "metadata": {},
     "output_type": "execute_result"
    }
   ],
   "source": [
    "df.columns"
   ]
  },
  {
   "cell_type": "markdown",
   "metadata": {},
   "source": [
    "### 7. Save a cleaned DataFrame to CSV file"
   ]
  },
  {
   "cell_type": "code",
   "execution_count": 97,
   "metadata": {},
   "outputs": [],
   "source": [
    "df.to_csv(\"Stop_and_Search__Field_Interviews_Cleaned.csv\", index = False)"
   ]
  },
  {
   "cell_type": "code",
   "execution_count": null,
   "metadata": {},
   "outputs": [],
   "source": []
  }
 ],
 "metadata": {
  "kernelspec": {
   "display_name": "Python 3",
   "language": "python",
   "name": "python3"
  },
  "language_info": {
   "codemirror_mode": {
    "name": "ipython",
    "version": 3
   },
   "file_extension": ".py",
   "mimetype": "text/x-python",
   "name": "python",
   "nbconvert_exporter": "python",
   "pygments_lexer": "ipython3",
   "version": "3.7.4"
  }
 },
 "nbformat": 4,
 "nbformat_minor": 4
}
