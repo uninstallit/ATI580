{
 "cells": [
  {
   "cell_type": "markdown",
   "metadata": {},
   "source": [
    "### Load the orginal Stop_and_Search__Field_Interviews_.csv to mongodb"
   ]
  },
  {
   "cell_type": "code",
   "execution_count": 3,
   "metadata": {},
   "outputs": [],
   "source": [
    "from pymongo import MongoClient\n",
    "import pandas as pd\n",
    "\n",
    "from pymongo import MongoClient"
   ]
  },
  {
   "cell_type": "code",
   "execution_count": 4,
   "metadata": {},
   "outputs": [],
   "source": [
    "class Connect(object):\n",
    "\n",
    "  @staticmethod    \n",
    "  def get_connection(database):\n",
    "    username = \"mdbUser\"\n",
    "    password = \"ati580\"\n",
    "    #return MongoClient()\n",
    "    return MongoClient('mongodb+srv://{}:{}@ati580-cluster.s5t5z.gcp.mongodb.net/{}?retryWrites=true&w=majority'.format(username, password, database))"
   ]
  },
  {
   "cell_type": "code",
   "execution_count": 7,
   "metadata": {},
   "outputs": [
    {
     "name": "stdout",
     "output_type": "stream",
     "text": [
      "Number records recieved: 581431\n",
      "Verify number records inserted to mongo: 581431\n"
     ]
    }
   ],
   "source": [
    "connect = Connect()\n",
    "mdb_client = connect.get_connection(\"POLICE_DATABASE\")\n",
    "mdb_database = mdb_client['POLICE_DATABASE'] \n",
    "mdb_collection = mdb_database['POLICE_INTERVIEWS']\n",
    "mdb_collection.delete_many({})\n",
    "\n",
    "df = pd.read_csv('Stop_and_Search__Field_Interviews_Cleaned.csv', sep=',', low_memory=False )\n",
    "print('Number records recieved: {}'.format(len(df)))\n",
    "records = df.to_dict(orient = 'records')\n",
    "result = mdb_collection.insert_many(records)\n",
    "\n",
    "print('Verify number records inserted to mongo: {}'.format(mdb_collection.count_documents({})))"
   ]
  },
  {
   "cell_type": "markdown",
   "metadata": {},
   "source": [
    "## Test reading all documents back to  DataFrame"
   ]
  },
  {
   "cell_type": "code",
   "execution_count": 8,
   "metadata": {},
   "outputs": [
    {
     "name": "stdout",
     "output_type": "stream",
     "text": [
      "<class 'pandas.core.frame.DataFrame'>\n",
      "RangeIndex: 581431 entries, 0 to 581430\n",
      "Data columns (total 27 columns):\n",
      " #   Column                 Non-Null Count   Dtype  \n",
      "---  ------                 --------------   -----  \n",
      " 0   _id                    581431 non-null  object \n",
      " 1   NOPD_Item              489302 non-null  object \n",
      " 2   EventDate              581431 non-null  object \n",
      " 3   District               581431 non-null  int64  \n",
      " 4   Zone                   581431 non-null  object \n",
      " 5   OfficerAssignment      581308 non-null  object \n",
      " 6   StopDescription        581431 non-null  object \n",
      " 7   ActionsTaken           458088 non-null  object \n",
      " 8   VehicleYear            326695 non-null  float64\n",
      " 9   VehicleMake            331653 non-null  object \n",
      " 10  VehicleModel           313514 non-null  object \n",
      " 11  VehicleStyle           324693 non-null  object \n",
      " 12  VehicleColor           327785 non-null  object \n",
      " 13  SubjectID              567384 non-null  float64\n",
      " 14  SubjectRace            567384 non-null  object \n",
      " 15  SubjectGender          567384 non-null  object \n",
      " 16  SubjectAge             563720 non-null  float64\n",
      " 17  SubjectHasPhotoID      581431 non-null  object \n",
      " 18  SubjectHeight          563854 non-null  float64\n",
      " 19  SubjectWeight          563830 non-null  float64\n",
      " 20  SubjectEyeColor        564039 non-null  object \n",
      " 21  SubjectHairColor       561235 non-null  object \n",
      " 22  SubjectDriverLicState  357379 non-null  object \n",
      " 23  CreatedDateTime        581431 non-null  object \n",
      " 24  Longitude              483426 non-null  float64\n",
      " 25  Latitude               483426 non-null  float64\n",
      " 26  Zip                    468592 non-null  float64\n",
      "dtypes: float64(8), int64(1), object(18)\n",
      "memory usage: 119.8+ MB\n"
     ]
    }
   ],
   "source": [
    "test = mdb_collection.find()\n",
    "df_test = pd.DataFrame.from_records(test)\n",
    "df_test.info(verbose=True)"
   ]
  },
  {
   "cell_type": "code",
   "execution_count": null,
   "metadata": {},
   "outputs": [],
   "source": []
  }
 ],
 "metadata": {
  "kernelspec": {
   "display_name": "Python 3",
   "language": "python",
   "name": "python3"
  },
  "language_info": {
   "codemirror_mode": {
    "name": "ipython",
    "version": 3
   },
   "file_extension": ".py",
   "mimetype": "text/x-python",
   "name": "python",
   "nbconvert_exporter": "python",
   "pygments_lexer": "ipython3",
   "version": "3.7.4"
  }
 },
 "nbformat": 4,
 "nbformat_minor": 4
}
