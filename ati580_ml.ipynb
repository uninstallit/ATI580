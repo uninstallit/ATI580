{
  "nbformat": 4,
  "nbformat_minor": 0,
  "metadata": {
    "colab": {
      "name": "ati580_ml.ipynb",
      "provenance": [],
      "authorship_tag": "ABX9TyOjbPZBl+7l/hJhUspF76Dt",
      "include_colab_link": true
    },
    "kernelspec": {
      "name": "python3",
      "display_name": "Python 3"
    }
  },
  "cells": [
    {
      "cell_type": "markdown",
      "metadata": {
        "id": "view-in-github",
        "colab_type": "text"
      },
      "source": [
        "<a href=\"https://colab.research.google.com/github/uninstallit/ati580_final_project/blob/edvin-1/ati580_ml.ipynb\" target=\"_parent\"><img src=\"https://colab.research.google.com/assets/colab-badge.svg\" alt=\"Open In Colab\"/></a>"
      ]
    },
    {
      "cell_type": "markdown",
      "metadata": {
        "id": "BRsRJpBpCyr3",
        "colab_type": "text"
      },
      "source": [
        "**Machine Learning portion of ATI580 Final Project**"
      ]
    },
    {
      "cell_type": "code",
      "metadata": {
        "id": "rXeaEC9UDlom",
        "colab_type": "code",
        "colab": {}
      },
      "source": [
        "pip install dnspython"
      ],
      "execution_count": null,
      "outputs": []
    },
    {
      "cell_type": "code",
      "metadata": {
        "id": "-iFcX8e-rMux",
        "colab_type": "code",
        "colab": {}
      },
      "source": [
        "pip install --upgrade tf-nightly"
      ],
      "execution_count": null,
      "outputs": []
    },
    {
      "cell_type": "code",
      "metadata": {
        "id": "LBeORpNUEj3-",
        "colab_type": "code",
        "colab": {}
      },
      "source": [
        "from pymongo import MongoClient\n",
        "\n",
        "class Connect(object):\n",
        "\n",
        "  @staticmethod    \n",
        "  def get_connection(database):\n",
        "    username = \"mdbUser\"\n",
        "    password = \"ati580\"\n",
        "    return MongoClient('mongodb+srv://{}:{}@ati580-cluster.s5t5z.gcp.mongodb.net/{}?retryWrites=true&w=majority'.format(username, password, database))"
      ],
      "execution_count": 1,
      "outputs": []
    },
    {
      "cell_type": "code",
      "metadata": {
        "id": "ZPXcZjGOa-id",
        "colab_type": "code",
        "colab": {}
      },
      "source": [
        "# # save\n",
        "# from google.colab import drive\n",
        "# drive.mount('/content/gdrive')\n",
        "# pip freeze --local > /content/gdrive/My\\ Drive/colab_installed.txt\n",
        "\n",
        "# # restore\n",
        "# from google.colab import drive\n",
        "# drive.mount('/content/gdrive')\n",
        "# pip install --upgrade --force-reinstall `cat/content/gdrive/My\\ Drive/colab_installed.txt`"
      ],
      "execution_count": null,
      "outputs": []
    },
    {
      "cell_type": "code",
      "metadata": {
        "id": "OnUnpj-YbfmI",
        "colab_type": "code",
        "colab": {}
      },
      "source": [
        "#plotly: https://plotly.com/python/ipython-notebook-tutorial/"
      ],
      "execution_count": null,
      "outputs": []
    },
    {
      "cell_type": "code",
      "metadata": {
        "id": "8b1PSfiEExeN",
        "colab_type": "code",
        "colab": {}
      },
      "source": [
        "import pandas as pd\n",
        "import numpy as np\n",
        "import pymongo\n",
        "import datetime\n",
        "\n",
        "class Preprocess(object):\n",
        "\n",
        "  def __init__(self):\n",
        "    # select columns\n",
        "    self._columns = dict({\n",
        "        'FieldInterviewID':0,     \n",
        "        'NOPD_Item':0,            \n",
        "        'EventDate':1,            \n",
        "        'District':1,             \n",
        "        'Zone':1,                 \n",
        "        'OfficerAssignment':0, \n",
        "        'StopDescription':1, \n",
        "        'ActionsTaken':0, \n",
        "        'VehicleYear':1, \n",
        "        'VehicleMake':1, \n",
        "        'VehicleModel':1, \n",
        "        'VehicleStyle':1, \n",
        "        'VehicleColor':1, \n",
        "        'SubjectID':0, \n",
        "        'SubjectRace':1, \n",
        "        'SubjectGender':1, \n",
        "        'SubjectAge':1, \n",
        "        'SubjectHasPhotoID':0, \n",
        "        'SubjectHeight':1, \n",
        "        'SubjectWeight':1, \n",
        "        'SubjectEyeColor':0, \n",
        "        'SubjectHairColor':1, \n",
        "        'SubjectDriverLicState':1, \n",
        "        'CreatedDateTime':0, \n",
        "        'LastModifiedDateTime':0, \n",
        "        'Longitude':0, \n",
        "        'Latitude':0, \n",
        "        'Zip':1, \n",
        "        'BlockAddress':0})\n",
        "\n",
        "    # connect to database\n",
        "    self._connect = Connect()\n",
        "    self._mdb_client = self._connect.get_connection(\"POLICE_DATABASE\")\n",
        "    self._mdb_database = self._mdb_client['POLICE_DATABASE'] \n",
        "    self._mdb_collection = self._mdb_database['POLICE_INTERVIEWS']\n",
        "\n",
        "  # convert queries to dataframe or numpy array\n",
        "  def query_and_convert(self, filter, projection, to=\"dataframe\", rows=None):\n",
        "    if rows is not None:\n",
        "      _cursor = self._mdb_collection.find(filter, projection).limit(rows)\n",
        "    else:\n",
        "      _cursor = self._mdb_collection.find(filter, projection)\n",
        "    _dataframe = pd.DataFrame(list(_cursor))\n",
        "    if to is \"dataframe\":\n",
        "      return _dataframe\n",
        "    elif to is \"numpy\":\n",
        "      _np_array = np.transpose(np.squeeze(_dataframe.to_numpy()))\n",
        "      return _np_array\n",
        "  \n",
        "  # convert time to seconds \n",
        "  @staticmethod\n",
        "  def time_to_int_seconds(datetime_str):\n",
        "    time = datetime.datetime.strptime(datetime_str, '%m/%d/%Y %H:%M:%S %p').time()\n",
        "    [hours, minutes, seconds] = [int(t) for t in str(time).split(':')]\n",
        "    return datetime.timedelta(hours=hours, minutes=minutes, seconds=seconds).seconds\n",
        "\n",
        "  # convert license tag to binary\n",
        "  @staticmethod\n",
        "  def instate_or_outofstate(license):\n",
        "    if license is \"LA\":\n",
        "      return 1\n",
        "    return 0\n",
        "\n",
        "  # convert stop description to binary\n",
        "  @staticmethod\n",
        "  def cause_or_suspicion(description):\n",
        "    _probable_cause_list = [\"CRIMINAL VIOLATION\", \"JUVENILE VIOLATION\", \"TRAFFIC VIOLATION\"]\n",
        "    if description in _probable_cause_list:\n",
        "      return 0\n",
        "    return \"1\"\n",
        "\n",
        "  def get_feature_dataframe(self, rows):\n",
        "    _filter = []\n",
        "    _projection = dict({'_id':0})\n",
        "    # create filter\n",
        "    for key, value in self._columns.items():\n",
        "      if value is 1:\n",
        "        _filter.append({key:{\"$exists\": True}})\n",
        "        _filter.append({key:{\"$ne\": \"\"}})\n",
        "        _filter.append({key:{\"$ne\": None}})\n",
        "        _filter.append({key:{\"$ne\": 0}})\n",
        "    # create projection\n",
        "    for key, value in self._columns.items():\n",
        "      if value is 1:\n",
        "        _projection[key] = value\n",
        "    # query database\n",
        "    _colum_query_df = self.query_and_convert({\"$and\":_filter}, _projection, rows=rows)\n",
        "    print(_colum_query_df[\"StopDescription\"])\n",
        "    # convert specific columns\n",
        "    _colum_query_df['EventDate'] = _colum_query_df['EventDate'].apply(lambda x: self.time_to_int_seconds(x))\n",
        "    _colum_query_df['SubjectDriverLicState'] = _colum_query_df['SubjectDriverLicState'].apply(lambda x: self.instate_or_outofstate(x))\n",
        "    _colum_query_df['StopDescription'] = _colum_query_df['StopDescription'].apply(lambda x: self.cause_or_suspicion(x))\n",
        "    return _colum_query_df\n"
      ],
      "execution_count": 4,
      "outputs": []
    },
    {
      "cell_type": "code",
      "metadata": {
        "id": "QUp7uErTTaEU",
        "colab_type": "code",
        "colab": {
          "base_uri": "https://localhost:8080/",
          "height": 269
        },
        "outputId": "3e72531c-1aac-417c-a614-4d99a93c0791"
      },
      "source": [
        "preprocess = Preprocess()\n",
        "police_features_df = preprocess.get_feature_dataframe(rows=5)\n",
        "print(police_features_df)"
      ],
      "execution_count": 5,
      "outputs": [
        {
          "output_type": "stream",
          "text": [
            "0    TRAFFIC VIOLATION\n",
            "1    TRAFFIC VIOLATION\n",
            "2    TRAFFIC VIOLATION\n",
            "3    TRAFFIC VIOLATION\n",
            "4    TRAFFIC VIOLATION\n",
            "Name: StopDescription, dtype: object\n",
            "   EventDate  District Zone  ...  SubjectHairColor  SubjectDriverLicState      Zip\n",
            "0      34500         7    O  ...             Black                      0  70127.0\n",
            "1      38160         7    D  ...             Black                      0  70126.0\n",
            "2      43740         7    O  ...             Black                      0  70118.0\n",
            "3      32580         7    C  ...             Black                      0  70126.0\n",
            "4      32580         7    C  ...             Black                      0  70126.0\n",
            "\n",
            "[5 rows x 17 columns]\n"
          ],
          "name": "stdout"
        }
      ]
    },
    {
      "cell_type": "markdown",
      "metadata": {
        "id": "yR3j6WP06CF1",
        "colab_type": "text"
      },
      "source": [
        "## **Structured data classification**\n",
        "- Data includes both numerical and categorical features. \n",
        "- Use Keras preprocessing layers to normalize the numerical features and vectorize the categorical ones.\n",
        "- Source: [Keras | Code examples](https://keras.io/examples/structured_data/structured_data_classification_from_scratch/)\n",
        "- CategoricalEncoding API: [Tensorflow](https://tensorflow.google.cn/api_docs/python/tf/keras/layers/experimental/preprocessing/CategoryEncoding#methods)\n",
        "\n",
        "## **Column Description**\n",
        "- SubjectGender   (Categorical)\n",
        "- SubjectAge.     (Numerical)\n",
        "- StopDescription (Categorical)"
      ]
    },
    {
      "cell_type": "code",
      "metadata": {
        "id": "rxvMtBdv8Vxk",
        "colab_type": "code",
        "colab": {
          "base_uri": "https://localhost:8080/",
          "height": 298
        },
        "outputId": "1bec1c16-048f-4a67-9a38-e2b8932f88f6"
      },
      "source": [
        "import tensorflow as tf\n",
        "import numpy as np\n",
        "import pandas as pd\n",
        "from tensorflow import keras\n",
        "from tensorflow.keras import layers\n",
        "\n",
        "# prepare the data \n",
        "cursor = mdb_collection.find({\n",
        "    \"$and\":[{\"SubjectGender\":{\"$exists\": True}}, \n",
        "            {\"SubjectGender\":{\"$ne\": \"\"}},\n",
        "            {\"SubjectGender\":{\"$ne\": None}},\n",
        "            {\"SubjectAge\":{\"$exists\": True}}, \n",
        "            {\"SubjectAge\":{\"$ne\": \"\"}},\n",
        "            {\"SubjectAge\":{\"$ne\": None}},\n",
        "            {\"StopDescription\":{\"$exists\": True}}, \n",
        "            {\"StopDescription\":{\"$ne\": \"\"}},\n",
        "            {\"StopDescription\":{\"$ne\": None}} ]}, \n",
        "            { \"_id\":0, \"SubjectGender\" : 1 , \"SubjectAge\" : 1 , \"StopDescription\" : 1})\n",
        "\n",
        "subject_df = pd.DataFrame(list(cursor))\n",
        "print(\"subject dataframe shape: {} \\n\".format(subject_df.shape))\n",
        "print(subject_df.head())\n",
        "\n",
        "reasonable_suspicion = {\"CALL FOR SERVICE\":1,\n",
        "                        \"CITIZEN CONTACT\":1,\n",
        "                        \"FLAGGED DOWN\":1,\n",
        "                        \"OTHER\":1,\n",
        "                        \"PRESENT AT CRIME SCENE\":1,\n",
        "                        \"SUSPECT PERSON\":1,\n",
        "                        \"SUSPECT VEHICLE\":1}\n",
        "\n",
        "probable_cause_list = {\"CRIMINAL VIOLATION\":0, \n",
        "                       \"JUVENILE VIOLATION\":0, \n",
        "                       \"TRAFFIC VIOLATION\":0}\n",
        "\n",
        "subject_df[\"StopDescription\"] = subject_df[\"StopDescription\"].replace(reasonable_suspicion)\n",
        "subject_df[\"StopDescription\"] = subject_df[\"StopDescription\"].replace(probable_cause_list)\n",
        "\n",
        "print(subject_df.head())\n",
        "\n",
        "# split the data into a training and validation set\n",
        "eval_subject_df  = subject_df.sample(frac=0.2, random_state=1337)\n",
        "train_subject_df = subject_df.drop(eval_subject_df.index)\n",
        "print(\"Using %d samples for training and %d for validation\" % (len(train_subject_df), len(eval_subject_df)))\n",
        "\n",
        "# convert dataframe_to_dataset \n",
        "def dataframe_to_dataset(dataframe, output_name):\n",
        "    _dataframe = dataframe.copy()\n",
        "    _labels    = _dataframe.pop(output_name)\n",
        "    _dataset   = tf.data.Dataset.from_tensor_slices((dict(_dataframe), _labels))\n",
        "    _dataset   = _dataset.shuffle(buffer_size=len(_dataframe))\n",
        "    return _dataset\n",
        "\n",
        "train_subject_ds = dataframe_to_dataset(train_subject_df, \"StopDescription\")\n",
        "eval_subject_ds  = dataframe_to_dataset(eval_subject_df, \"StopDescription\")\n",
        "\n",
        "train_subject_ds = train_subject_ds.batch(32)\n",
        "eval_subject_ds  = eval_subject_ds.batch(32)\n",
        "\n",
        "print(\"dataset preparation done\")"
      ],
      "execution_count": null,
      "outputs": [
        {
          "output_type": "stream",
          "text": [
            "subject dataframe shape: (576132, 3) \n",
            "\n",
            "     StopDescription SubjectGender  SubjectAge\n",
            "0  TRAFFIC VIOLATION        FEMALE        26.0\n",
            "1   CALL FOR SERVICE          MALE        17.0\n",
            "2   CALL FOR SERVICE          MALE        18.0\n",
            "3   CALL FOR SERVICE          MALE        18.0\n",
            "4   CALL FOR SERVICE          MALE        30.0\n",
            "   StopDescription SubjectGender  SubjectAge\n",
            "0                0        FEMALE        26.0\n",
            "1                1          MALE        17.0\n",
            "2                1          MALE        18.0\n",
            "3                1          MALE        18.0\n",
            "4                1          MALE        30.0\n",
            "Using 460906 samples for training and 115226 for validation\n",
            "dataset preparation done\n"
          ],
          "name": "stdout"
        }
      ]
    },
    {
      "cell_type": "markdown",
      "metadata": {
        "id": "estOeFNiezMH",
        "colab_type": "text"
      },
      "source": [
        "## **one-hot Encoding of features**"
      ]
    },
    {
      "cell_type": "code",
      "metadata": {
        "id": "ZKQ251LZeyi1",
        "colab_type": "code",
        "colab": {}
      },
      "source": [
        "from tensorflow.keras.layers.experimental.preprocessing import Normalization\n",
        "from tensorflow.keras.layers.experimental.preprocessing import CategoryEncoding\n",
        "from tensorflow.keras.layers.experimental.preprocessing import StringLookup\n",
        "\n",
        "def encode_numerical_feature(feature, name, dataset):\n",
        "    # Create a Normalization layer for our feature\n",
        "    normalizer = Normalization()\n",
        "    # Prepare a Dataset that only yields our feature\n",
        "    feature_ds = dataset.map(lambda x, y: x[name])\n",
        "    feature_ds = feature_ds.map(lambda x: tf.expand_dims(x, -1))\n",
        "    # Learn the statistics of the data\n",
        "    normalizer.adapt(feature_ds)\n",
        "    # Normalize the input feature\n",
        "    encoded_feature = normalizer(feature)\n",
        "    return encoded_feature\n",
        "\n",
        "def encode_string_categorical_feature(feature, name, dataset):\n",
        "    # Create a StringLookup layer which will turn strings into integer indices\n",
        "    index = StringLookup()\n",
        "    # Prepare a Dataset that only yields our feature\n",
        "    feature_ds = dataset.map(lambda x, y: x[name])\n",
        "    feature_ds = feature_ds.map(lambda x: tf.expand_dims(x, -1))\n",
        "    # Learn the set of possible string values and assign them a fixed integer index\n",
        "    index.adapt(feature_ds)\n",
        "    # Turn the string input into integer indices\n",
        "    encoded_feature = index(feature)\n",
        "    # Create a CategoryEncoding for our integer indices\n",
        "    encoder = CategoryEncoding(output_mode=\"binary\")\n",
        "    # Prepare a dataset of indices\n",
        "    feature_ds = feature_ds.map(index)\n",
        "    # Learn the space of possible indices\n",
        "    encoder.adapt(feature_ds)\n",
        "    # Apply one-hot encoding to our indices\n",
        "    encoded_feature = encoder(encoded_feature)\n",
        "    return encoded_feature\n",
        "\n",
        "def encode_integer_categorical_feature(feature, name, dataset):\n",
        "    # Create a CategoryEncoding for our integer indices\n",
        "    encoder = CategoryEncoding(output_mode=\"binary\")\n",
        "    # Prepare a Dataset that only yields our feature\n",
        "    feature_ds = dataset.map(lambda x, y: x[name])\n",
        "    feature_ds = feature_ds.map(lambda x: tf.expand_dims(x, -1))\n",
        "    # Learn the space of possible indices\n",
        "    encoder.adapt(feature_ds)\n",
        "    # Apply one-hot encoding to our indices\n",
        "    encoded_feature = encoder(feature)\n",
        "    return encoded_feature"
      ],
      "execution_count": 1,
      "outputs": []
    },
    {
      "cell_type": "markdown",
      "metadata": {
        "id": "s9OAOem0mAye",
        "colab_type": "text"
      },
      "source": [
        "## **Build the model**"
      ]
    },
    {
      "cell_type": "code",
      "metadata": {
        "id": "ZC92GRZJmEUd",
        "colab_type": "code",
        "colab": {}
      },
      "source": [
        "# Categorical features encoded as integers\n",
        "# stop_description = keras.Input(shape=(1,), name=\"StopDescription\", dtype=\"int64\")\n",
        "\n",
        "# Categorical feature encoded as string\n",
        "subject_gender = keras.Input(shape=(1,), name=\"SubjectGender\", dtype=\"string\")\n",
        "\n",
        "# Numerical features\n",
        "subject_age = keras.Input(shape=(1,), name=\"SubjectAge\")\n",
        "\n",
        "all_inputs = [subject_gender, subject_age]\n",
        "\n",
        "# Integer categorical features\n",
        "# no fields\n",
        "\n",
        "# String categorical features\n",
        "subject_gender_encoded = encode_string_categorical_feature(subject_gender, \"SubjectGender\", train_subject_ds)\n",
        "\n",
        "# Numerical features\n",
        "subject_age_encoded = encode_numerical_feature(subject_age, \"SubjectAge\", train_subject_ds)\n",
        "\n",
        "all_features = layers.concatenate([subject_gender_encoded, subject_age_encoded])\n",
        "\n",
        "x = layers.Dense(32, activation=\"relu\")(all_features)\n",
        "x = layers.Dropout(0.2)(x)\n",
        "x = layers.Dense(16, activation=\"sigmoid\")(x)\n",
        "x = layers.Dropout(0.2)(x)\n",
        "x = layers.Dense(8, activation=\"sigmoid\")(x)\n",
        "output = layers.Dense(1, activation=\"sigmoid\")(x)\n",
        "model = keras.Model(all_inputs, output)\n",
        "model.compile(\"adam\", \"binary_crossentropy\", metrics=[\"accuracy\"])"
      ],
      "execution_count": null,
      "outputs": []
    },
    {
      "cell_type": "code",
      "metadata": {
        "id": "F9BjVItnr9Gy",
        "colab_type": "code",
        "colab": {
          "base_uri": "https://localhost:8080/",
          "height": 98
        },
        "outputId": "3d787ff4-cc96-4ae2-f337-971fdca4c758"
      },
      "source": [
        "# `rankdir='LR'` is to make the graph horizontal.\n",
        "keras.utils.plot_model(model, show_shapes=True, rankdir=\"LR\")"
      ],
      "execution_count": null,
      "outputs": [
        {
          "output_type": "execute_result",
          "data": {
            "image/png": "[encoded data removed]",
            "text/plain": [
              "<IPython.core.display.Image object>"
            ]
          },
          "metadata": {
            "tags": []
          },
          "execution_count": 29
        }
      ]
    },
    {
      "cell_type": "code",
      "metadata": {
        "id": "U_geQsn5ssog",
        "colab_type": "code",
        "colab": {
          "base_uri": "https://localhost:8080/",
          "height": 230
        },
        "outputId": "07ce4c26-c43c-4d5b-bf45-3228c27b3ff7"
      },
      "source": [
        "model.fit(train_subject_ds, epochs=5, validation_data=eval_subject_ds)"
      ],
      "execution_count": null,
      "outputs": [
        {
          "output_type": "stream",
          "text": [
            "Epoch 1/5\n",
            "14404/14404 [==============================] - 30s 2ms/step - loss: 0.6418 - accuracy: 0.6483 - val_loss: 0.6378 - val_accuracy: 0.6542\n",
            "Epoch 2/5\n",
            "14404/14404 [==============================] - 35s 2ms/step - loss: 0.6385 - accuracy: 0.6528 - val_loss: 0.6377 - val_accuracy: 0.6525\n",
            "Epoch 3/5\n",
            "14404/14404 [==============================] - 32s 2ms/step - loss: 0.6381 - accuracy: 0.6531 - val_loss: 0.6373 - val_accuracy: 0.6551\n",
            "Epoch 4/5\n",
            "14404/14404 [==============================] - 31s 2ms/step - loss: 0.6379 - accuracy: 0.6534 - val_loss: 0.6374 - val_accuracy: 0.6550\n",
            "Epoch 5/5\n",
            "14404/14404 [==============================] - 29s 2ms/step - loss: 0.6378 - accuracy: 0.6535 - val_loss: 0.6374 - val_accuracy: 0.6551\n"
          ],
          "name": "stdout"
        },
        {
          "output_type": "execute_result",
          "data": {
            "text/plain": [
              "<tensorflow.python.keras.callbacks.History at 0x7fb8496fa358>"
            ]
          },
          "metadata": {
            "tags": []
          },
          "execution_count": 30
        }
      ]
    },
    {
      "cell_type": "markdown",
      "metadata": {
        "id": "05U1mXVCqCLZ",
        "colab_type": "text"
      },
      "source": [
        "## **Infer from the model**"
      ]
    },
    {
      "cell_type": "code",
      "metadata": {
        "id": "7_t06tDvqBlR",
        "colab_type": "code",
        "colab": {
          "base_uri": "https://localhost:8080/",
          "height": 52
        },
        "outputId": "e9420ddc-589e-4bad-e217-129c99f8e427"
      },
      "source": [
        "sample = {\n",
        "    \"SubjectGender\": \"-9999999\",\n",
        "    \"SubjectAge\": -999999\n",
        "}\n",
        "\n",
        "input_dict = {name: tf.convert_to_tensor([value]) for name, value in sample.items()}\n",
        "tf.print(input_dict)\n",
        "model.predict(input_dict)"
      ],
      "execution_count": null,
      "outputs": [
        {
          "output_type": "stream",
          "text": [
            "{'SubjectAge': [-999999], 'SubjectGender': [\"-9999999\"]}\n"
          ],
          "name": "stdout"
        },
        {
          "output_type": "execute_result",
          "data": {
            "text/plain": [
              "array([[0.65062386]], dtype=float32)"
            ]
          },
          "metadata": {
            "tags": []
          },
          "execution_count": 37
        }
      ]
    },
    {
      "cell_type": "markdown",
      "metadata": {
        "id": "gdB5Xh2Q9dc9",
        "colab_type": "text"
      },
      "source": [
        "## **Logistic Regression with Tensorflow**\n",
        "\n",
        "Binary Logistic Regression, in which the target variable has only two possible values, e.g., pass/fail or win/lose."
      ]
    },
    {
      "cell_type": "code",
      "metadata": {
        "id": "-7N_QcET9cH6",
        "colab_type": "code",
        "colab": {
          "base_uri": "https://localhost:8080/",
          "height": 1000
        },
        "outputId": "71f9c9c0-f40c-4cb9-d1ee-69441a4f7c23"
      },
      "source": [
        "from sklearn.datasets import load_iris\n",
        "from sklearn.linear_model import LogisticRegression\n",
        "\n",
        "x, y = load_iris(return_X_y=True)\n",
        "\n",
        "columns = dict({'FieldInterviewID':0,     \n",
        "                'NOPD_Item':0, \n",
        "                'EventDate':0, \n",
        "                'District':0, \n",
        "                'Zone':0, \n",
        "                'OfficerAssignment':0, \n",
        "                'StopDescription':0, \n",
        "                'ActionsTaken':0, \n",
        "                'VehicleYear':1, \n",
        "                'VehicleMake':0, \n",
        "                'VehicleModel':0, \n",
        "                'VehicleStyle':0, \n",
        "                'VehicleColor':1, \n",
        "                'SubjectID':0, \n",
        "                'SubjectRace':1, \n",
        "                'SubjectGender':1, \n",
        "                'SubjectAge':0, \n",
        "                'SubjectHasPhotoID':0, \n",
        "                'SubjectHeight':1, \n",
        "                'SubjectWeight':0, \n",
        "                'SubjectEyeColor':0, \n",
        "                'SubjectHairColor':1, \n",
        "                'SubjectDriverLicState':0, \n",
        "                'CreatedDateTime':0, \n",
        "                'LastModifiedDateTime':0, \n",
        "                'Longitude':0, \n",
        "                'Latitude':0, \n",
        "                'Zip':1, \n",
        "                'BlockAddress':0})\n",
        "\n",
        "print(x[:100])\n",
        "print(y[:100])\n",
        "\n",
        "clf = LogisticRegression(random_state=0).fit(X, y)\n",
        "\n",
        "clf.predict(X[:2, :])\n",
        "array([0, 0])\n",
        "\n",
        "clf.predict_proba(X[:2, :])\n",
        "array([[9.8...e-01, 1.8...e-02, 1.4...e-08],\n",
        "       [9.7...e-01, 2.8...e-02, ...e-08]])\n",
        "clf.score(X, y)"
      ],
      "execution_count": 48,
      "outputs": [
        {
          "output_type": "stream",
          "text": [
            "[[5.1 3.5 1.4 0.2]\n",
            " [4.9 3.  1.4 0.2]\n",
            " [4.7 3.2 1.3 0.2]\n",
            " [4.6 3.1 1.5 0.2]\n",
            " [5.  3.6 1.4 0.2]\n",
            " [5.4 3.9 1.7 0.4]\n",
            " [4.6 3.4 1.4 0.3]\n",
            " [5.  3.4 1.5 0.2]\n",
            " [4.4 2.9 1.4 0.2]\n",
            " [4.9 3.1 1.5 0.1]\n",
            " [5.4 3.7 1.5 0.2]\n",
            " [4.8 3.4 1.6 0.2]\n",
            " [4.8 3.  1.4 0.1]\n",
            " [4.3 3.  1.1 0.1]\n",
            " [5.8 4.  1.2 0.2]\n",
            " [5.7 4.4 1.5 0.4]\n",
            " [5.4 3.9 1.3 0.4]\n",
            " [5.1 3.5 1.4 0.3]\n",
            " [5.7 3.8 1.7 0.3]\n",
            " [5.1 3.8 1.5 0.3]\n",
            " [5.4 3.4 1.7 0.2]\n",
            " [5.1 3.7 1.5 0.4]\n",
            " [4.6 3.6 1.  0.2]\n",
            " [5.1 3.3 1.7 0.5]\n",
            " [4.8 3.4 1.9 0.2]\n",
            " [5.  3.  1.6 0.2]\n",
            " [5.  3.4 1.6 0.4]\n",
            " [5.2 3.5 1.5 0.2]\n",
            " [5.2 3.4 1.4 0.2]\n",
            " [4.7 3.2 1.6 0.2]\n",
            " [4.8 3.1 1.6 0.2]\n",
            " [5.4 3.4 1.5 0.4]\n",
            " [5.2 4.1 1.5 0.1]\n",
            " [5.5 4.2 1.4 0.2]\n",
            " [4.9 3.1 1.5 0.2]\n",
            " [5.  3.2 1.2 0.2]\n",
            " [5.5 3.5 1.3 0.2]\n",
            " [4.9 3.6 1.4 0.1]\n",
            " [4.4 3.  1.3 0.2]\n",
            " [5.1 3.4 1.5 0.2]\n",
            " [5.  3.5 1.3 0.3]\n",
            " [4.5 2.3 1.3 0.3]\n",
            " [4.4 3.2 1.3 0.2]\n",
            " [5.  3.5 1.6 0.6]\n",
            " [5.1 3.8 1.9 0.4]\n",
            " [4.8 3.  1.4 0.3]\n",
            " [5.1 3.8 1.6 0.2]\n",
            " [4.6 3.2 1.4 0.2]\n",
            " [5.3 3.7 1.5 0.2]\n",
            " [5.  3.3 1.4 0.2]\n",
            " [7.  3.2 4.7 1.4]\n",
            " [6.4 3.2 4.5 1.5]\n",
            " [6.9 3.1 4.9 1.5]\n",
            " [5.5 2.3 4.  1.3]\n",
            " [6.5 2.8 4.6 1.5]\n",
            " [5.7 2.8 4.5 1.3]\n",
            " [6.3 3.3 4.7 1.6]\n",
            " [4.9 2.4 3.3 1. ]\n",
            " [6.6 2.9 4.6 1.3]\n",
            " [5.2 2.7 3.9 1.4]\n",
            " [5.  2.  3.5 1. ]\n",
            " [5.9 3.  4.2 1.5]\n",
            " [6.  2.2 4.  1. ]\n",
            " [6.1 2.9 4.7 1.4]\n",
            " [5.6 2.9 3.6 1.3]\n",
            " [6.7 3.1 4.4 1.4]\n",
            " [5.6 3.  4.5 1.5]\n",
            " [5.8 2.7 4.1 1. ]\n",
            " [6.2 2.2 4.5 1.5]\n",
            " [5.6 2.5 3.9 1.1]\n",
            " [5.9 3.2 4.8 1.8]\n",
            " [6.1 2.8 4.  1.3]\n",
            " [6.3 2.5 4.9 1.5]\n",
            " [6.1 2.8 4.7 1.2]\n",
            " [6.4 2.9 4.3 1.3]\n",
            " [6.6 3.  4.4 1.4]\n",
            " [6.8 2.8 4.8 1.4]\n",
            " [6.7 3.  5.  1.7]\n",
            " [6.  2.9 4.5 1.5]\n",
            " [5.7 2.6 3.5 1. ]\n",
            " [5.5 2.4 3.8 1.1]\n",
            " [5.5 2.4 3.7 1. ]\n",
            " [5.8 2.7 3.9 1.2]\n",
            " [6.  2.7 5.1 1.6]\n",
            " [5.4 3.  4.5 1.5]\n",
            " [6.  3.4 4.5 1.6]\n",
            " [6.7 3.1 4.7 1.5]\n",
            " [6.3 2.3 4.4 1.3]\n",
            " [5.6 3.  4.1 1.3]\n",
            " [5.5 2.5 4.  1.3]\n",
            " [5.5 2.6 4.4 1.2]\n",
            " [6.1 3.  4.6 1.4]\n",
            " [5.8 2.6 4.  1.2]\n",
            " [5.  2.3 3.3 1. ]\n",
            " [5.6 2.7 4.2 1.3]\n",
            " [5.7 3.  4.2 1.2]\n",
            " [5.7 2.9 4.2 1.3]\n",
            " [6.2 2.9 4.3 1.3]\n",
            " [5.1 2.5 3.  1.1]\n",
            " [5.7 2.8 4.1 1.3]]\n",
            "[0 0 0 0 0 0 0 0 0 0 0 0 0 0 0 0 0 0 0 0 0 0 0 0 0 0 0 0 0 0 0 0 0 0 0 0 0\n",
            " 0 0 0 0 0 0 0 0 0 0 0 0 0 1 1 1 1 1 1 1 1 1 1 1 1 1 1 1 1 1 1 1 1 1 1 1 1\n",
            " 1 1 1 1 1 1 1 1 1 1 1 1 1 1 1 1 1 1 1 1 1 1 1 1 1 1]\n"
          ],
          "name": "stdout"
        }
      ]
    }
  ]
}